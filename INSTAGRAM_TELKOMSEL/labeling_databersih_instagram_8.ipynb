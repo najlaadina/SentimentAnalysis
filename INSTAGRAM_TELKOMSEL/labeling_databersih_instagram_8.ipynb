{
 "cells": [
  {
   "cell_type": "code",
   "execution_count": 1,
   "id": "edae296d-a263-40e0-97ed-164c9959b6d7",
   "metadata": {},
   "outputs": [],
   "source": [
    "import pandas as pd\n",
    "from textblob import TextBlob"
   ]
  },
  {
   "cell_type": "code",
   "execution_count": 2,
   "id": "badb3638-4397-47ab-91fa-1c9feb49cb0e",
   "metadata": {
    "collapsed": true,
    "jupyter": {
     "outputs_hidden": true
    },
    "tags": []
   },
   "outputs": [
    {
     "name": "stdout",
     "output_type": "stream",
     "text": [
      "Index:  0 label_awal 0.0\n",
      "Index:  1 label_awal -0.16\n",
      "Index:  2 label_awal 0.0\n",
      "Index:  3 label_awal 0.0\n",
      "Index:  4 label_awal 0.0\n",
      "Index:  5 label_awal 0.0\n",
      "Index:  6 label_awal 0.44999999999999996\n",
      "Index:  7 label_awal 0.0\n",
      "Index:  8 label_awal 0.21428571428571427\n",
      "Index:  9 label_awal 0.0\n",
      "Index:  10 label_awal 0.0\n",
      "Index:  11 label_awal 0.18333333333333335\n",
      "Index:  12 label_awal 0.0\n",
      "Index:  13 label_awal 0.0\n",
      "Index:  14 label_awal 0.0\n",
      "Index:  15 label_awal 0.4\n",
      "Index:  16 label_awal 0.0\n",
      "Index:  17 label_awal 0.4\n",
      "Index:  18 label_awal 0.0\n",
      "Index:  19 label_awal 0.0\n",
      "Index:  20 label_awal 0.0\n",
      "Index:  21 label_awal 0.4\n",
      "Index:  22 label_awal 0.0\n",
      "Index:  23 label_awal 0.0\n",
      "Index:  24 label_awal 0.0\n",
      "Index:  25 label_awal 0.0\n",
      "Index:  26 label_awal 0.7000000000000001\n",
      "Index:  27 label_awal -0.13333333333333333\n",
      "Index:  28 label_awal 0.0\n",
      "Index:  29 label_awal -0.6999999999999998\n",
      "Index:  30 label_awal 0.3\n",
      "Index:  31 label_awal -0.09166666666666667\n",
      "Index:  32 label_awal 0.5\n",
      "Index:  33 label_awal 0.0\n",
      "Index:  34 label_awal 0.0\n",
      "Index:  35 label_awal -0.25\n",
      "Index:  36 label_awal 0.0\n",
      "Index:  37 label_awal 0.0\n",
      "Index:  38 label_awal 0.43333333333333335\n",
      "Index:  39 label_awal 0.375\n",
      "Index:  40 label_awal 0.21666666666666667\n",
      "Index:  41 label_awal 0.5\n",
      "Index:  42 label_awal 0.35\n",
      "Index:  43 label_awal 0.0\n",
      "Index:  44 label_awal -0.1\n",
      "Index:  45 label_awal 0.0\n",
      "Index:  46 label_awal 0.1\n",
      "Index:  47 label_awal 0.0\n",
      "Index:  48 label_awal 0.0\n",
      "Index:  49 label_awal 0.0\n",
      "Index:  50 label_awal -0.2777777777777778\n",
      "Index:  51 label_awal 0.0\n",
      "Index:  52 label_awal 0.0\n",
      "Index:  53 label_awal 0.55\n",
      "Index:  54 label_awal -0.4\n",
      "Index:  55 label_awal 0.0\n",
      "Index:  56 label_awal 0.0\n",
      "Index:  57 label_awal 0.0\n",
      "Index:  58 label_awal 0.0\n",
      "Index:  59 label_awal 0.0\n",
      "Index:  60 label_awal 0.0\n",
      "Index:  61 label_awal 0.4\n",
      "Index:  62 label_awal 0.0\n",
      "Index:  63 label_awal 0.13636363636363635\n",
      "Index:  64 label_awal 0.4\n",
      "Index:  65 label_awal 0.0\n",
      "Index:  66 label_awal 0.0\n",
      "Index:  67 label_awal 0.0\n",
      "Index:  68 label_awal 0.0\n",
      "Index:  69 label_awal 0.0\n"
     ]
    }
   ],
   "source": [
    "columns = [\"comment_english\"]\n",
    "df = pd.read_excel(r'C:\\Users\\Hp\\TUGAS AKHIR 2\\INSTAGRAM_TELKOMSEL\\data bersih_translate instagram telkomsel\\databersih_english_instagram_telkomsel_8.xlsx', usecols=columns)\n",
    "df['label_awal'] = ''\n",
    "for i,x in df.comment_english.iteritems():\n",
    "    label_awal = TextBlob(x)\n",
    "    df['label_awal'][i] = label_awal.sentiment.polarity\n",
    "    print(\"Index: \", i ,  \"label_awal\" , label_awal.sentiment.polarity)"
   ]
  },
  {
   "cell_type": "code",
   "execution_count": 3,
   "id": "5431fc7f-f59d-47d3-94a8-7ca350a8e948",
   "metadata": {
    "collapsed": true,
    "jupyter": {
     "outputs_hidden": true
    },
    "tags": []
   },
   "outputs": [
    {
     "data": {
      "text/html": [
       "<div>\n",
       "<style scoped>\n",
       "    .dataframe tbody tr th:only-of-type {\n",
       "        vertical-align: middle;\n",
       "    }\n",
       "\n",
       "    .dataframe tbody tr th {\n",
       "        vertical-align: top;\n",
       "    }\n",
       "\n",
       "    .dataframe thead th {\n",
       "        text-align: right;\n",
       "    }\n",
       "</style>\n",
       "<table border=\"1\" class=\"dataframe\">\n",
       "  <thead>\n",
       "    <tr style=\"text-align: right;\">\n",
       "      <th></th>\n",
       "      <th>comment_english</th>\n",
       "      <th>label_awal</th>\n",
       "    </tr>\n",
       "  </thead>\n",
       "  <tbody>\n",
       "    <tr>\n",
       "      <th>0</th>\n",
       "      <td>['min', 'please', 'check', 'min', 'please', 'm...</td>\n",
       "      <td>0.0</td>\n",
       "    </tr>\n",
       "    <tr>\n",
       "      <th>1</th>\n",
       "      <td>['min', 'telkomsel', 'login', 'game', 'mlbb', ...</td>\n",
       "      <td>-0.16</td>\n",
       "    </tr>\n",
       "    <tr>\n",
       "      <th>2</th>\n",
       "      <td>['min', 'get', 'package', 'denim', 'purpose', ...</td>\n",
       "      <td>0.0</td>\n",
       "    </tr>\n",
       "    <tr>\n",
       "      <th>3</th>\n",
       "      <td>['pdhl', 'line']</td>\n",
       "      <td>0.0</td>\n",
       "    </tr>\n",
       "    <tr>\n",
       "      <th>4</th>\n",
       "      <td>['signal', 'ilang']</td>\n",
       "      <td>0.0</td>\n",
       "    </tr>\n",
       "  </tbody>\n",
       "</table>\n",
       "</div>"
      ],
      "text/plain": [
       "                                     comment_english label_awal\n",
       "0  ['min', 'please', 'check', 'min', 'please', 'm...        0.0\n",
       "1  ['min', 'telkomsel', 'login', 'game', 'mlbb', ...      -0.16\n",
       "2  ['min', 'get', 'package', 'denim', 'purpose', ...        0.0\n",
       "3                                   ['pdhl', 'line']        0.0\n",
       "4                                ['signal', 'ilang']        0.0"
      ]
     },
     "execution_count": 3,
     "metadata": {},
     "output_type": "execute_result"
    }
   ],
   "source": [
    "df.head()"
   ]
  },
  {
   "cell_type": "code",
   "execution_count": 4,
   "id": "86635432-a04f-4a7a-a940-c095b9f8d850",
   "metadata": {
    "collapsed": true,
    "jupyter": {
     "outputs_hidden": true
    },
    "tags": []
   },
   "outputs": [
    {
     "data": {
      "text/plain": [
       " 0.000000    43\n",
       " 0.400000     5\n",
       " 0.500000     2\n",
       " 0.214286     1\n",
       " 0.183333     1\n",
       "-0.400000     1\n",
       " 0.550000     1\n",
       "-0.277778     1\n",
       " 0.100000     1\n",
       "-0.100000     1\n",
       " 0.350000     1\n",
       " 0.216667     1\n",
       " 0.375000     1\n",
       " 0.433333     1\n",
       "-0.250000     1\n",
       "-0.160000     1\n",
       "-0.091667     1\n",
       " 0.300000     1\n",
       "-0.700000     1\n",
       "-0.133333     1\n",
       " 0.700000     1\n",
       " 0.450000     1\n",
       " 0.136364     1\n",
       "Name: label_awal, dtype: int64"
      ]
     },
     "execution_count": 4,
     "metadata": {},
     "output_type": "execute_result"
    }
   ],
   "source": [
    "df['label_awal'].value_counts()"
   ]
  },
  {
   "cell_type": "code",
   "execution_count": 5,
   "id": "9edb2a13-ec10-481f-bb06-87cee6d629f1",
   "metadata": {
    "collapsed": true,
    "jupyter": {
     "outputs_hidden": true
    },
    "tags": []
   },
   "outputs": [
    {
     "data": {
      "text/html": [
       "<div>\n",
       "<style scoped>\n",
       "    .dataframe tbody tr th:only-of-type {\n",
       "        vertical-align: middle;\n",
       "    }\n",
       "\n",
       "    .dataframe tbody tr th {\n",
       "        vertical-align: top;\n",
       "    }\n",
       "\n",
       "    .dataframe thead th {\n",
       "        text-align: right;\n",
       "    }\n",
       "</style>\n",
       "<table border=\"1\" class=\"dataframe\">\n",
       "  <thead>\n",
       "    <tr style=\"text-align: right;\">\n",
       "      <th></th>\n",
       "      <th>comment_english</th>\n",
       "      <th>label</th>\n",
       "    </tr>\n",
       "  </thead>\n",
       "  <tbody>\n",
       "    <tr>\n",
       "      <th>0</th>\n",
       "      <td>['min', 'please', 'check', 'min', 'please', 'm...</td>\n",
       "      <td>negative</td>\n",
       "    </tr>\n",
       "    <tr>\n",
       "      <th>1</th>\n",
       "      <td>['min', 'telkomsel', 'login', 'game', 'mlbb', ...</td>\n",
       "      <td>negative</td>\n",
       "    </tr>\n",
       "    <tr>\n",
       "      <th>2</th>\n",
       "      <td>['min', 'get', 'package', 'denim', 'purpose', ...</td>\n",
       "      <td>negative</td>\n",
       "    </tr>\n",
       "    <tr>\n",
       "      <th>3</th>\n",
       "      <td>['pdhl', 'line']</td>\n",
       "      <td>negative</td>\n",
       "    </tr>\n",
       "    <tr>\n",
       "      <th>4</th>\n",
       "      <td>['signal', 'ilang']</td>\n",
       "      <td>negative</td>\n",
       "    </tr>\n",
       "    <tr>\n",
       "      <th>...</th>\n",
       "      <td>...</td>\n",
       "      <td>...</td>\n",
       "    </tr>\n",
       "    <tr>\n",
       "      <th>65</th>\n",
       "      <td>['read', 'min']</td>\n",
       "      <td>negative</td>\n",
       "    </tr>\n",
       "    <tr>\n",
       "      <th>66</th>\n",
       "      <td>['min', 'upgrade', 'linkaja', 'grapari', 'telk...</td>\n",
       "      <td>negative</td>\n",
       "    </tr>\n",
       "    <tr>\n",
       "      <th>67</th>\n",
       "      <td>['check', 'sis']</td>\n",
       "      <td>negative</td>\n",
       "    </tr>\n",
       "    <tr>\n",
       "      <th>68</th>\n",
       "      <td>['bales', 'min']</td>\n",
       "      <td>negative</td>\n",
       "    </tr>\n",
       "    <tr>\n",
       "      <th>69</th>\n",
       "      <td>['sapa', 'fortune', 'alhamdulillah', 'aamiin', \"]</td>\n",
       "      <td>negative</td>\n",
       "    </tr>\n",
       "  </tbody>\n",
       "</table>\n",
       "<p>70 rows × 2 columns</p>\n",
       "</div>"
      ],
      "text/plain": [
       "                                      comment_english     label\n",
       "0   ['min', 'please', 'check', 'min', 'please', 'm...  negative\n",
       "1   ['min', 'telkomsel', 'login', 'game', 'mlbb', ...  negative\n",
       "2   ['min', 'get', 'package', 'denim', 'purpose', ...  negative\n",
       "3                                    ['pdhl', 'line']  negative\n",
       "4                                 ['signal', 'ilang']  negative\n",
       "..                                                ...       ...\n",
       "65                                    ['read', 'min']  negative\n",
       "66  ['min', 'upgrade', 'linkaja', 'grapari', 'telk...  negative\n",
       "67                                   ['check', 'sis']  negative\n",
       "68                                   ['bales', 'min']  negative\n",
       "69  ['sapa', 'fortune', 'alhamdulillah', 'aamiin', \"]  negative\n",
       "\n",
       "[70 rows x 2 columns]"
      ]
     },
     "execution_count": 5,
     "metadata": {},
     "output_type": "execute_result"
    }
   ],
   "source": [
    "label = []\n",
    "for index, row in df.iterrows():\n",
    "    if row['label_awal'] > 0.0:\n",
    "        label.append(\"positive\")\n",
    "    else:\n",
    "        label.append(\"negative\")\n",
    "df[\"label\"] = label\n",
    "df = df.drop(columns=['label_awal'])\n",
    "df.head(2000)"
   ]
  },
  {
   "cell_type": "code",
   "execution_count": 6,
   "id": "346a7e56-3d76-4caf-aff8-bdc3161dc71b",
   "metadata": {},
   "outputs": [
    {
     "data": {
      "text/plain": [
       "negative    51\n",
       "positive    19\n",
       "Name: label, dtype: int64"
      ]
     },
     "execution_count": 6,
     "metadata": {},
     "output_type": "execute_result"
    }
   ],
   "source": [
    "df['label'].value_counts()"
   ]
  },
  {
   "cell_type": "code",
   "execution_count": 7,
   "id": "9c47ad50-defc-4898-8f95-2ad32611dd6e",
   "metadata": {},
   "outputs": [],
   "source": [
    "df.to_excel('labeling_databersih_instagram_indihome_8.xlsx')"
   ]
  },
  {
   "cell_type": "code",
   "execution_count": null,
   "id": "f90badd4-2e99-452c-9eb0-c41b8603d652",
   "metadata": {},
   "outputs": [],
   "source": []
  }
 ],
 "metadata": {
  "kernelspec": {
   "display_name": "Python 3 (ipykernel)",
   "language": "python",
   "name": "python3"
  },
  "language_info": {
   "codemirror_mode": {
    "name": "ipython",
    "version": 3
   },
   "file_extension": ".py",
   "mimetype": "text/x-python",
   "name": "python",
   "nbconvert_exporter": "python",
   "pygments_lexer": "ipython3",
   "version": "3.8.12"
  }
 },
 "nbformat": 4,
 "nbformat_minor": 5
}
