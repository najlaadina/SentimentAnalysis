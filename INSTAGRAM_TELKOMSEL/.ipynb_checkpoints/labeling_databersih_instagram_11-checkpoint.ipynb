{
 "cells": [
  {
   "cell_type": "code",
   "execution_count": 1,
   "id": "edae296d-a263-40e0-97ed-164c9959b6d7",
   "metadata": {},
   "outputs": [],
   "source": [
    "import pandas as pd\n",
    "from textblob import TextBlob"
   ]
  },
  {
   "cell_type": "code",
   "execution_count": 2,
   "id": "badb3638-4397-47ab-91fa-1c9feb49cb0e",
   "metadata": {
    "collapsed": true,
    "jupyter": {
     "outputs_hidden": true
    },
    "tags": []
   },
   "outputs": [
    {
     "name": "stdout",
     "output_type": "stream",
     "text": [
      "Index:  0 label_awal 0.16666666666666666\n",
      "Index:  1 label_awal 0.1\n",
      "Index:  2 label_awal -0.375\n",
      "Index:  3 label_awal -0.00833333333333334\n",
      "Index:  4 label_awal 0.0\n",
      "Index:  5 label_awal 0.25\n",
      "Index:  6 label_awal 0.0\n",
      "Index:  7 label_awal 0.0\n",
      "Index:  8 label_awal -0.15\n",
      "Index:  9 label_awal 0.0\n",
      "Index:  10 label_awal -0.6999999999999998\n",
      "Index:  11 label_awal 0.43333333333333335\n",
      "Index:  12 label_awal 0.0\n",
      "Index:  13 label_awal -0.05185185185185185\n",
      "Index:  14 label_awal 0.0\n",
      "Index:  15 label_awal 0.0\n",
      "Index:  16 label_awal 0.0\n",
      "Index:  17 label_awal 0.0\n",
      "Index:  18 label_awal 0.0\n",
      "Index:  19 label_awal -0.13333333333333333\n",
      "Index:  20 label_awal 0.0\n",
      "Index:  21 label_awal -0.1\n",
      "Index:  22 label_awal 0.033333333333333305\n",
      "Index:  23 label_awal -0.5\n",
      "Index:  24 label_awal -0.1\n",
      "Index:  25 label_awal 0.0\n",
      "Index:  26 label_awal 0.0\n",
      "Index:  27 label_awal 0.1\n",
      "Index:  28 label_awal 0.4\n",
      "Index:  29 label_awal 0.0\n",
      "Index:  30 label_awal 0.0\n",
      "Index:  31 label_awal 0.0\n",
      "Index:  32 label_awal 0.0\n",
      "Index:  33 label_awal 0.0\n",
      "Index:  34 label_awal 0.7\n",
      "Index:  35 label_awal 0.0\n",
      "Index:  36 label_awal 0.0\n",
      "Index:  37 label_awal 0.0\n",
      "Index:  38 label_awal 0.0\n",
      "Index:  39 label_awal -0.15555555555555559\n",
      "Index:  40 label_awal 0.0\n",
      "Index:  41 label_awal 0.0\n",
      "Index:  42 label_awal 0.0\n",
      "Index:  43 label_awal -0.5\n",
      "Index:  44 label_awal 0.0\n",
      "Index:  45 label_awal 0.0\n",
      "Index:  46 label_awal 0.0\n",
      "Index:  47 label_awal 0.0\n",
      "Index:  48 label_awal 0.0\n",
      "Index:  49 label_awal 0.03333333333333333\n",
      "Index:  50 label_awal 0.0\n",
      "Index:  51 label_awal 0.0\n",
      "Index:  52 label_awal 0.0\n",
      "Index:  53 label_awal 0.0\n",
      "Index:  54 label_awal 0.0\n",
      "Index:  55 label_awal -0.2\n",
      "Index:  56 label_awal 0.0\n",
      "Index:  57 label_awal 0.2\n",
      "Index:  58 label_awal 0.0\n",
      "Index:  59 label_awal 0.0\n",
      "Index:  60 label_awal 0.0\n",
      "Index:  61 label_awal 0.0\n",
      "Index:  62 label_awal 0.0\n",
      "Index:  63 label_awal 0.0\n",
      "Index:  64 label_awal 0.4666666666666666\n",
      "Index:  65 label_awal 0.0\n",
      "Index:  66 label_awal 0.0\n",
      "Index:  67 label_awal 0.7\n",
      "Index:  68 label_awal 0.0\n",
      "Index:  69 label_awal 0.0\n",
      "Index:  70 label_awal 0.0\n",
      "Index:  71 label_awal 0.0\n",
      "Index:  72 label_awal 0.0\n",
      "Index:  73 label_awal 0.0\n",
      "Index:  74 label_awal 0.08333333333333333\n",
      "Index:  75 label_awal 0.0\n",
      "Index:  76 label_awal 0.0\n",
      "Index:  77 label_awal 0.0\n",
      "Index:  78 label_awal 0.0\n",
      "Index:  79 label_awal -0.15\n",
      "Index:  80 label_awal -0.13333333333333333\n",
      "Index:  81 label_awal 0.2\n",
      "Index:  82 label_awal 0.0\n",
      "Index:  83 label_awal 0.0\n",
      "Index:  84 label_awal -0.11666666666666668\n",
      "Index:  85 label_awal 0.0\n",
      "Index:  86 label_awal 0.0\n",
      "Index:  87 label_awal 0.0\n",
      "Index:  88 label_awal 0.15\n",
      "Index:  89 label_awal -0.08333333333333333\n",
      "Index:  90 label_awal 0.0\n",
      "Index:  91 label_awal 0.0\n",
      "Index:  92 label_awal 0.0\n",
      "Index:  93 label_awal -0.13333333333333333\n",
      "Index:  94 label_awal 0.3\n",
      "Index:  95 label_awal 0.16\n"
     ]
    }
   ],
   "source": [
    "columns = [\"comment_english\"]\n",
    "df = pd.read_excel(r'C:\\Users\\Hp\\TUGAS AKHIR 2\\INSTAGRAM_TELKOMSEL\\data bersih_translate instagram telkomsel\\databersih_english_instagram_telkomsel_11.xlsx', usecols=columns)\n",
    "df['label_awal'] = ''\n",
    "for i,x in df.comment_english.iteritems():\n",
    "    label_awal = TextBlob(x)\n",
    "    df['label_awal'][i] = label_awal.sentiment.polarity\n",
    "    print(\"Index: \", i ,  \"label_awal\" , label_awal.sentiment.polarity)"
   ]
  },
  {
   "cell_type": "code",
   "execution_count": 3,
   "id": "5431fc7f-f59d-47d3-94a8-7ca350a8e948",
   "metadata": {
    "collapsed": true,
    "jupyter": {
     "outputs_hidden": true
    },
    "tags": []
   },
   "outputs": [
    {
     "data": {
      "text/html": [
       "<div>\n",
       "<style scoped>\n",
       "    .dataframe tbody tr th:only-of-type {\n",
       "        vertical-align: middle;\n",
       "    }\n",
       "\n",
       "    .dataframe tbody tr th {\n",
       "        vertical-align: top;\n",
       "    }\n",
       "\n",
       "    .dataframe thead th {\n",
       "        text-align: right;\n",
       "    }\n",
       "</style>\n",
       "<table border=\"1\" class=\"dataframe\">\n",
       "  <thead>\n",
       "    <tr style=\"text-align: right;\">\n",
       "      <th></th>\n",
       "      <th>comment_english</th>\n",
       "      <th>label_awal</th>\n",
       "    </tr>\n",
       "  </thead>\n",
       "  <tbody>\n",
       "    <tr>\n",
       "      <th>0</th>\n",
       "      <td>['steady']</td>\n",
       "      <td>0.166667</td>\n",
       "    </tr>\n",
       "    <tr>\n",
       "      <th>1</th>\n",
       "      <td>['current', 'really', 'so laid', 'want', 'bant...</td>\n",
       "      <td>0.1</td>\n",
       "    </tr>\n",
       "    <tr>\n",
       "      <th>2</th>\n",
       "      <td>['postpaid', 'weak', 'prepaid', 'postpaid', 'm...</td>\n",
       "      <td>-0.375</td>\n",
       "    </tr>\n",
       "    <tr>\n",
       "      <th>3</th>\n",
       "      <td>['hoax', 'quota', 'regular', 'abis',' tetep ',...</td>\n",
       "      <td>-0.008333</td>\n",
       "    </tr>\n",
       "    <tr>\n",
       "      <th>4</th>\n",
       "      <td>['signal', 'appears', '']</td>\n",
       "      <td>0.0</td>\n",
       "    </tr>\n",
       "  </tbody>\n",
       "</table>\n",
       "</div>"
      ],
      "text/plain": [
       "                                     comment_english label_awal\n",
       "0                                         ['steady']   0.166667\n",
       "1  ['current', 'really', 'so laid', 'want', 'bant...        0.1\n",
       "2  ['postpaid', 'weak', 'prepaid', 'postpaid', 'm...     -0.375\n",
       "3  ['hoax', 'quota', 'regular', 'abis',' tetep ',...  -0.008333\n",
       "4                          ['signal', 'appears', '']        0.0"
      ]
     },
     "execution_count": 3,
     "metadata": {},
     "output_type": "execute_result"
    }
   ],
   "source": [
    "df.head()"
   ]
  },
  {
   "cell_type": "code",
   "execution_count": 4,
   "id": "86635432-a04f-4a7a-a940-c095b9f8d850",
   "metadata": {
    "collapsed": true,
    "jupyter": {
     "outputs_hidden": true
    },
    "tags": []
   },
   "outputs": [
    {
     "data": {
      "text/plain": [
       " 0.000000    62\n",
       "-0.133333     3\n",
       "-0.500000     2\n",
       "-0.150000     2\n",
       "-0.100000     2\n",
       " 0.200000     2\n",
       " 0.100000     2\n",
       " 0.700000     2\n",
       " 0.033333     1\n",
       " 0.300000     1\n",
       "-0.083333     1\n",
       " 0.150000     1\n",
       "-0.116667     1\n",
       " 0.083333     1\n",
       " 0.466667     1\n",
       "-0.200000     1\n",
       " 0.166667     1\n",
       "-0.155556     1\n",
       " 0.400000     1\n",
       " 0.033333     1\n",
       "-0.051852     1\n",
       " 0.433333     1\n",
       "-0.700000     1\n",
       " 0.250000     1\n",
       "-0.008333     1\n",
       "-0.375000     1\n",
       " 0.160000     1\n",
       "Name: label_awal, dtype: int64"
      ]
     },
     "execution_count": 4,
     "metadata": {},
     "output_type": "execute_result"
    }
   ],
   "source": [
    "df['label_awal'].value_counts()"
   ]
  },
  {
   "cell_type": "code",
   "execution_count": 5,
   "id": "9edb2a13-ec10-481f-bb06-87cee6d629f1",
   "metadata": {
    "collapsed": true,
    "jupyter": {
     "outputs_hidden": true
    },
    "tags": []
   },
   "outputs": [
    {
     "data": {
      "text/html": [
       "<div>\n",
       "<style scoped>\n",
       "    .dataframe tbody tr th:only-of-type {\n",
       "        vertical-align: middle;\n",
       "    }\n",
       "\n",
       "    .dataframe tbody tr th {\n",
       "        vertical-align: top;\n",
       "    }\n",
       "\n",
       "    .dataframe thead th {\n",
       "        text-align: right;\n",
       "    }\n",
       "</style>\n",
       "<table border=\"1\" class=\"dataframe\">\n",
       "  <thead>\n",
       "    <tr style=\"text-align: right;\">\n",
       "      <th></th>\n",
       "      <th>comment_english</th>\n",
       "      <th>label</th>\n",
       "    </tr>\n",
       "  </thead>\n",
       "  <tbody>\n",
       "    <tr>\n",
       "      <th>0</th>\n",
       "      <td>['steady']</td>\n",
       "      <td>positive</td>\n",
       "    </tr>\n",
       "    <tr>\n",
       "      <th>1</th>\n",
       "      <td>['current', 'really', 'so laid', 'want', 'bant...</td>\n",
       "      <td>positive</td>\n",
       "    </tr>\n",
       "    <tr>\n",
       "      <th>2</th>\n",
       "      <td>['postpaid', 'weak', 'prepaid', 'postpaid', 'm...</td>\n",
       "      <td>negative</td>\n",
       "    </tr>\n",
       "    <tr>\n",
       "      <th>3</th>\n",
       "      <td>['hoax', 'quota', 'regular', 'abis',' tetep ',...</td>\n",
       "      <td>negative</td>\n",
       "    </tr>\n",
       "    <tr>\n",
       "      <th>4</th>\n",
       "      <td>['signal', 'appears', '']</td>\n",
       "      <td>negative</td>\n",
       "    </tr>\n",
       "    <tr>\n",
       "      <th>...</th>\n",
       "      <td>...</td>\n",
       "      <td>...</td>\n",
       "    </tr>\n",
       "    <tr>\n",
       "      <th>91</th>\n",
       "      <td>['dm', 'response']</td>\n",
       "      <td>negative</td>\n",
       "    </tr>\n",
       "    <tr>\n",
       "      <th>92</th>\n",
       "      <td>['min', 'check']</td>\n",
       "      <td>negative</td>\n",
       "    </tr>\n",
       "    <tr>\n",
       "      <th>93</th>\n",
       "      <td>['min', 'package', 'emergency', 'appears', 'ac...</td>\n",
       "      <td>negative</td>\n",
       "    </tr>\n",
       "    <tr>\n",
       "      <th>94</th>\n",
       "      <td>['often', 'credit', 'cut', 'ros', 'package', '...</td>\n",
       "      <td>positive</td>\n",
       "    </tr>\n",
       "    <tr>\n",
       "      <th>95</th>\n",
       "      <td>['jessie', 'frye', 'high']</td>\n",
       "      <td>positive</td>\n",
       "    </tr>\n",
       "  </tbody>\n",
       "</table>\n",
       "<p>96 rows × 2 columns</p>\n",
       "</div>"
      ],
      "text/plain": [
       "                                      comment_english     label\n",
       "0                                          ['steady']  positive\n",
       "1   ['current', 'really', 'so laid', 'want', 'bant...  positive\n",
       "2   ['postpaid', 'weak', 'prepaid', 'postpaid', 'm...  negative\n",
       "3   ['hoax', 'quota', 'regular', 'abis',' tetep ',...  negative\n",
       "4                           ['signal', 'appears', '']  negative\n",
       "..                                                ...       ...\n",
       "91                                 ['dm', 'response']  negative\n",
       "92                                   ['min', 'check']  negative\n",
       "93  ['min', 'package', 'emergency', 'appears', 'ac...  negative\n",
       "94  ['often', 'credit', 'cut', 'ros', 'package', '...  positive\n",
       "95                         ['jessie', 'frye', 'high']  positive\n",
       "\n",
       "[96 rows x 2 columns]"
      ]
     },
     "execution_count": 5,
     "metadata": {},
     "output_type": "execute_result"
    }
   ],
   "source": [
    "label = []\n",
    "for index, row in df.iterrows():\n",
    "    if row['label_awal'] > 0.0:\n",
    "        label.append(\"positive\")\n",
    "    else:\n",
    "        label.append(\"negative\")\n",
    "df[\"label\"] = label\n",
    "df = df.drop(columns=['label_awal'])\n",
    "df.head(2000)"
   ]
  },
  {
   "cell_type": "code",
   "execution_count": 6,
   "id": "346a7e56-3d76-4caf-aff8-bdc3161dc71b",
   "metadata": {},
   "outputs": [
    {
     "data": {
      "text/plain": [
       "negative    79\n",
       "positive    17\n",
       "Name: label, dtype: int64"
      ]
     },
     "execution_count": 6,
     "metadata": {},
     "output_type": "execute_result"
    }
   ],
   "source": [
    "df['label'].value_counts()"
   ]
  },
  {
   "cell_type": "code",
   "execution_count": 7,
   "id": "9c47ad50-defc-4898-8f95-2ad32611dd6e",
   "metadata": {},
   "outputs": [],
   "source": [
    "df.to_excel('labeling_databersih_instagram_indihome_11.xlsx')"
   ]
  },
  {
   "cell_type": "code",
   "execution_count": null,
   "id": "f90badd4-2e99-452c-9eb0-c41b8603d652",
   "metadata": {},
   "outputs": [],
   "source": []
  }
 ],
 "metadata": {
  "kernelspec": {
   "display_name": "Python 3 (ipykernel)",
   "language": "python",
   "name": "python3"
  },
  "language_info": {
   "codemirror_mode": {
    "name": "ipython",
    "version": 3
   },
   "file_extension": ".py",
   "mimetype": "text/x-python",
   "name": "python",
   "nbconvert_exporter": "python",
   "pygments_lexer": "ipython3",
   "version": "3.8.12"
  }
 },
 "nbformat": 4,
 "nbformat_minor": 5
}
