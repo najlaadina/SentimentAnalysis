{
 "cells": [
  {
   "cell_type": "code",
   "execution_count": 1,
   "id": "edae296d-a263-40e0-97ed-164c9959b6d7",
   "metadata": {},
   "outputs": [],
   "source": [
    "import pandas as pd\n",
    "from textblob import TextBlob"
   ]
  },
  {
   "cell_type": "code",
   "execution_count": 2,
   "id": "badb3638-4397-47ab-91fa-1c9feb49cb0e",
   "metadata": {
    "collapsed": true,
    "jupyter": {
     "outputs_hidden": true
    },
    "tags": []
   },
   "outputs": [
    {
     "name": "stdout",
     "output_type": "stream",
     "text": [
      "Index:  0 label_awal 0.0\n",
      "Index:  1 label_awal 0.0\n",
      "Index:  2 label_awal 0.3333333333333333\n",
      "Index:  3 label_awal 0.0\n",
      "Index:  4 label_awal 0.3333333333333333\n",
      "Index:  5 label_awal 0.0\n",
      "Index:  6 label_awal 0.0\n",
      "Index:  7 label_awal 0.0\n",
      "Index:  8 label_awal 0.0\n",
      "Index:  9 label_awal 0.0\n",
      "Index:  10 label_awal 0.5\n",
      "Index:  11 label_awal 0.0\n",
      "Index:  12 label_awal 0.0\n",
      "Index:  13 label_awal 0.55\n",
      "Index:  14 label_awal 0.5\n",
      "Index:  15 label_awal 0.5\n",
      "Index:  16 label_awal 0.0\n",
      "Index:  17 label_awal 0.43333333333333335\n",
      "Index:  18 label_awal 0.0\n",
      "Index:  19 label_awal 0.0\n",
      "Index:  20 label_awal 0.0\n",
      "Index:  21 label_awal 0.0\n",
      "Index:  22 label_awal 0.16666666666666666\n",
      "Index:  23 label_awal 0.0\n",
      "Index:  24 label_awal 0.0\n",
      "Index:  25 label_awal 0.0\n",
      "Index:  26 label_awal 0.32499999999999996\n",
      "Index:  27 label_awal 0.0\n",
      "Index:  28 label_awal 0.0\n",
      "Index:  29 label_awal 0.2\n",
      "Index:  30 label_awal 0.8\n",
      "Index:  31 label_awal 0.0\n",
      "Index:  32 label_awal 0.0\n",
      "Index:  33 label_awal 0.2\n",
      "Index:  34 label_awal 0.0\n",
      "Index:  35 label_awal 0.0\n",
      "Index:  36 label_awal 0.0\n",
      "Index:  37 label_awal 0.0\n",
      "Index:  38 label_awal 0.0\n",
      "Index:  39 label_awal 0.0\n",
      "Index:  40 label_awal 0.0\n",
      "Index:  41 label_awal 0.3772727272727273\n",
      "Index:  42 label_awal 0.0\n",
      "Index:  43 label_awal 0.0\n",
      "Index:  44 label_awal 0.0\n",
      "Index:  45 label_awal 0.0\n",
      "Index:  46 label_awal 0.0\n",
      "Index:  47 label_awal 0.0\n",
      "Index:  48 label_awal 0.25\n",
      "Index:  49 label_awal 0.0\n",
      "Index:  50 label_awal 0.0\n",
      "Index:  51 label_awal 0.0\n",
      "Index:  52 label_awal 0.0\n",
      "Index:  53 label_awal 0.0\n",
      "Index:  54 label_awal 0.0\n",
      "Index:  55 label_awal -0.19642857142857142\n",
      "Index:  56 label_awal 0.25\n",
      "Index:  57 label_awal -0.4\n",
      "Index:  58 label_awal 0.0\n",
      "Index:  59 label_awal 0.7\n",
      "Index:  60 label_awal -0.4\n",
      "Index:  61 label_awal 0.375\n",
      "Index:  62 label_awal 0.2\n",
      "Index:  63 label_awal 0.0\n",
      "Index:  64 label_awal 0.0\n",
      "Index:  65 label_awal 0.0\n",
      "Index:  66 label_awal 0.0\n",
      "Index:  67 label_awal 0.0\n",
      "Index:  68 label_awal 0.0\n",
      "Index:  69 label_awal 0.0\n",
      "Index:  70 label_awal 0.375\n",
      "Index:  71 label_awal 0.325\n",
      "Index:  72 label_awal 0.7\n",
      "Index:  73 label_awal 0.375\n",
      "Index:  74 label_awal 0.0\n",
      "Index:  75 label_awal 0.0\n",
      "Index:  76 label_awal 0.0\n",
      "Index:  77 label_awal 0.13888888888888892\n",
      "Index:  78 label_awal 0.13888888888888892\n",
      "Index:  79 label_awal 0.24\n",
      "Index:  80 label_awal 0.0\n",
      "Index:  81 label_awal 0.0\n",
      "Index:  82 label_awal 0.8\n",
      "Index:  83 label_awal 0.8\n",
      "Index:  84 label_awal 0.0\n",
      "Index:  85 label_awal 0.0\n",
      "Index:  86 label_awal 0.07142857142857142\n",
      "Index:  87 label_awal 0.0\n",
      "Index:  88 label_awal 0.35\n",
      "Index:  89 label_awal 0.2\n",
      "Index:  90 label_awal 0.0\n",
      "Index:  91 label_awal 0.0\n",
      "Index:  92 label_awal 0.0\n",
      "Index:  93 label_awal 0.0\n",
      "Index:  94 label_awal 0.0\n",
      "Index:  95 label_awal 0.0\n",
      "Index:  96 label_awal 0.0\n",
      "Index:  97 label_awal 0.0\n",
      "Index:  98 label_awal 0.25\n",
      "Index:  99 label_awal 0.0\n",
      "Index:  100 label_awal 0.0\n",
      "Index:  101 label_awal 0.0\n",
      "Index:  102 label_awal 0.0\n",
      "Index:  103 label_awal 0.0\n",
      "Index:  104 label_awal 0.0\n",
      "Index:  105 label_awal 0.0\n",
      "Index:  106 label_awal 0.0\n",
      "Index:  107 label_awal 0.0\n",
      "Index:  108 label_awal 0.0\n",
      "Index:  109 label_awal 0.0\n",
      "Index:  110 label_awal 0.3333333333333333\n",
      "Index:  111 label_awal 0.3333333333333333\n",
      "Index:  112 label_awal 0.0\n",
      "Index:  113 label_awal 0.0\n",
      "Index:  114 label_awal 0.0\n"
     ]
    }
   ],
   "source": [
    "columns = [\"comment_english\"]\n",
    "df = pd.read_excel(r'C:\\Users\\Hp\\TUGAS AKHIR 2\\INSTAGRAM_TELKOMSEL\\data bersih_translate instagram telkomsel\\databersih_english_instagram_telkomsel_12.xlsx', usecols=columns)\n",
    "df['label_awal'] = ''\n",
    "for i,x in df.comment_english.iteritems():\n",
    "    label_awal = TextBlob(x)\n",
    "    df['label_awal'][i] = label_awal.sentiment.polarity\n",
    "    print(\"Index: \", i ,  \"label_awal\" , label_awal.sentiment.polarity)"
   ]
  },
  {
   "cell_type": "code",
   "execution_count": 3,
   "id": "5431fc7f-f59d-47d3-94a8-7ca350a8e948",
   "metadata": {
    "collapsed": true,
    "jupyter": {
     "outputs_hidden": true
    },
    "tags": []
   },
   "outputs": [
    {
     "data": {
      "text/html": [
       "<div>\n",
       "<style scoped>\n",
       "    .dataframe tbody tr th:only-of-type {\n",
       "        vertical-align: middle;\n",
       "    }\n",
       "\n",
       "    .dataframe tbody tr th {\n",
       "        vertical-align: top;\n",
       "    }\n",
       "\n",
       "    .dataframe thead th {\n",
       "        text-align: right;\n",
       "    }\n",
       "</style>\n",
       "<table border=\"1\" class=\"dataframe\">\n",
       "  <thead>\n",
       "    <tr style=\"text-align: right;\">\n",
       "      <th></th>\n",
       "      <th>comment_english</th>\n",
       "      <th>label_awal</th>\n",
       "    </tr>\n",
       "  </thead>\n",
       "  <tbody>\n",
       "    <tr>\n",
       "      <th>0</th>\n",
       "      <td>['done']</td>\n",
       "      <td>0.0</td>\n",
       "    </tr>\n",
       "    <tr>\n",
       "      <th>1</th>\n",
       "      <td>['done']</td>\n",
       "      <td>0.0</td>\n",
       "    </tr>\n",
       "    <tr>\n",
       "      <th>2</th>\n",
       "      <td>['hope', 'times', 'lucky', 'aamiin']</td>\n",
       "      <td>0.333333</td>\n",
       "    </tr>\n",
       "    <tr>\n",
       "      <th>3</th>\n",
       "      <td>['done']</td>\n",
       "      <td>0.0</td>\n",
       "    </tr>\n",
       "    <tr>\n",
       "      <th>4</th>\n",
       "      <td>['hope', 'lucky']</td>\n",
       "      <td>0.333333</td>\n",
       "    </tr>\n",
       "  </tbody>\n",
       "</table>\n",
       "</div>"
      ],
      "text/plain": [
       "                        comment_english label_awal\n",
       "0                              ['done']        0.0\n",
       "1                              ['done']        0.0\n",
       "2  ['hope', 'times', 'lucky', 'aamiin']   0.333333\n",
       "3                              ['done']        0.0\n",
       "4                     ['hope', 'lucky']   0.333333"
      ]
     },
     "execution_count": 3,
     "metadata": {},
     "output_type": "execute_result"
    }
   ],
   "source": [
    "df.head()"
   ]
  },
  {
   "cell_type": "code",
   "execution_count": 4,
   "id": "86635432-a04f-4a7a-a940-c095b9f8d850",
   "metadata": {
    "collapsed": true,
    "jupyter": {
     "outputs_hidden": true
    },
    "tags": []
   },
   "outputs": [
    {
     "data": {
      "text/plain": [
       " 0.000000    79\n",
       " 0.200000     4\n",
       " 0.333333     4\n",
       " 0.375000     3\n",
       " 0.800000     3\n",
       " 0.250000     3\n",
       " 0.500000     3\n",
       "-0.400000     2\n",
       " 0.700000     2\n",
       " 0.138889     2\n",
       " 0.325000     1\n",
       " 0.166667     1\n",
       " 0.433333     1\n",
       " 0.377273     1\n",
       " 0.550000     1\n",
       "-0.196429     1\n",
       " 0.325000     1\n",
       " 0.240000     1\n",
       " 0.071429     1\n",
       " 0.350000     1\n",
       "Name: label_awal, dtype: int64"
      ]
     },
     "execution_count": 4,
     "metadata": {},
     "output_type": "execute_result"
    }
   ],
   "source": [
    "df['label_awal'].value_counts()"
   ]
  },
  {
   "cell_type": "code",
   "execution_count": 5,
   "id": "9edb2a13-ec10-481f-bb06-87cee6d629f1",
   "metadata": {
    "collapsed": true,
    "jupyter": {
     "outputs_hidden": true
    },
    "tags": []
   },
   "outputs": [
    {
     "data": {
      "text/html": [
       "<div>\n",
       "<style scoped>\n",
       "    .dataframe tbody tr th:only-of-type {\n",
       "        vertical-align: middle;\n",
       "    }\n",
       "\n",
       "    .dataframe tbody tr th {\n",
       "        vertical-align: top;\n",
       "    }\n",
       "\n",
       "    .dataframe thead th {\n",
       "        text-align: right;\n",
       "    }\n",
       "</style>\n",
       "<table border=\"1\" class=\"dataframe\">\n",
       "  <thead>\n",
       "    <tr style=\"text-align: right;\">\n",
       "      <th></th>\n",
       "      <th>comment_english</th>\n",
       "      <th>label</th>\n",
       "    </tr>\n",
       "  </thead>\n",
       "  <tbody>\n",
       "    <tr>\n",
       "      <th>0</th>\n",
       "      <td>['done']</td>\n",
       "      <td>negative</td>\n",
       "    </tr>\n",
       "    <tr>\n",
       "      <th>1</th>\n",
       "      <td>['done']</td>\n",
       "      <td>negative</td>\n",
       "    </tr>\n",
       "    <tr>\n",
       "      <th>2</th>\n",
       "      <td>['hope', 'times', 'lucky', 'aamiin']</td>\n",
       "      <td>positive</td>\n",
       "    </tr>\n",
       "    <tr>\n",
       "      <th>3</th>\n",
       "      <td>['done']</td>\n",
       "      <td>negative</td>\n",
       "    </tr>\n",
       "    <tr>\n",
       "      <th>4</th>\n",
       "      <td>['hope', 'lucky']</td>\n",
       "      <td>positive</td>\n",
       "    </tr>\n",
       "    <tr>\n",
       "      <th>...</th>\n",
       "      <td>...</td>\n",
       "      <td>...</td>\n",
       "    </tr>\n",
       "    <tr>\n",
       "      <th>110</th>\n",
       "      <td>['guna', 'loyal', 'telkomsel', 'quality']</td>\n",
       "      <td>positive</td>\n",
       "    </tr>\n",
       "    <tr>\n",
       "      <th>111</th>\n",
       "      <td>['subscribe', 'loyal', 'telkomsel', 'ngak', 'c...</td>\n",
       "      <td>positive</td>\n",
       "    </tr>\n",
       "    <tr>\n",
       "      <th>112</th>\n",
       "      <td>['signal', 'emotion']</td>\n",
       "      <td>negative</td>\n",
       "    </tr>\n",
       "    <tr>\n",
       "      <th>113</th>\n",
       "      <td>['', 'get', \"]</td>\n",
       "      <td>negative</td>\n",
       "    </tr>\n",
       "    <tr>\n",
       "      <th>114</th>\n",
       "      <td>['min', 'narrated', 'gift', 'pulse', '']</td>\n",
       "      <td>negative</td>\n",
       "    </tr>\n",
       "  </tbody>\n",
       "</table>\n",
       "<p>115 rows × 2 columns</p>\n",
       "</div>"
      ],
      "text/plain": [
       "                                       comment_english     label\n",
       "0                                             ['done']  negative\n",
       "1                                             ['done']  negative\n",
       "2                 ['hope', 'times', 'lucky', 'aamiin']  positive\n",
       "3                                             ['done']  negative\n",
       "4                                    ['hope', 'lucky']  positive\n",
       "..                                                 ...       ...\n",
       "110          ['guna', 'loyal', 'telkomsel', 'quality']  positive\n",
       "111  ['subscribe', 'loyal', 'telkomsel', 'ngak', 'c...  positive\n",
       "112                              ['signal', 'emotion']  negative\n",
       "113                                     ['', 'get', \"]  negative\n",
       "114           ['min', 'narrated', 'gift', 'pulse', '']  negative\n",
       "\n",
       "[115 rows x 2 columns]"
      ]
     },
     "execution_count": 5,
     "metadata": {},
     "output_type": "execute_result"
    }
   ],
   "source": [
    "label = []\n",
    "for index, row in df.iterrows():\n",
    "    if row['label_awal'] > 0.0:\n",
    "        label.append(\"positive\")\n",
    "    else:\n",
    "        label.append(\"negative\")\n",
    "df[\"label\"] = label\n",
    "df = df.drop(columns=['label_awal'])\n",
    "df.head(2000)"
   ]
  },
  {
   "cell_type": "code",
   "execution_count": 6,
   "id": "346a7e56-3d76-4caf-aff8-bdc3161dc71b",
   "metadata": {},
   "outputs": [
    {
     "data": {
      "text/plain": [
       "negative    82\n",
       "positive    33\n",
       "Name: label, dtype: int64"
      ]
     },
     "execution_count": 6,
     "metadata": {},
     "output_type": "execute_result"
    }
   ],
   "source": [
    "df['label'].value_counts()"
   ]
  },
  {
   "cell_type": "code",
   "execution_count": 7,
   "id": "9c47ad50-defc-4898-8f95-2ad32611dd6e",
   "metadata": {},
   "outputs": [],
   "source": [
    "df.to_excel('labeling_databersih_instagram_indihome_12.xlsx')"
   ]
  },
  {
   "cell_type": "code",
   "execution_count": null,
   "id": "f90badd4-2e99-452c-9eb0-c41b8603d652",
   "metadata": {},
   "outputs": [],
   "source": []
  }
 ],
 "metadata": {
  "kernelspec": {
   "display_name": "Python 3 (ipykernel)",
   "language": "python",
   "name": "python3"
  },
  "language_info": {
   "codemirror_mode": {
    "name": "ipython",
    "version": 3
   },
   "file_extension": ".py",
   "mimetype": "text/x-python",
   "name": "python",
   "nbconvert_exporter": "python",
   "pygments_lexer": "ipython3",
   "version": "3.8.12"
  }
 },
 "nbformat": 4,
 "nbformat_minor": 5
}
