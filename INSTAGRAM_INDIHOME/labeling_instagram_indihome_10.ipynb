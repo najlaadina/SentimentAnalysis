{
 "cells": [
  {
   "cell_type": "code",
   "execution_count": 1,
   "id": "82389580-c20f-4bc2-a044-c2f320028807",
   "metadata": {},
   "outputs": [],
   "source": [
    "import pandas as pd\n",
    "from textblob import TextBlob"
   ]
  },
  {
   "cell_type": "code",
   "execution_count": 2,
   "id": "19c858fe-4619-48c7-addf-ae94c800436a",
   "metadata": {
    "collapsed": true,
    "jupyter": {
     "outputs_hidden": true
    },
    "tags": []
   },
   "outputs": [
    {
     "name": "stdout",
     "output_type": "stream",
     "text": [
      "Index:  0 label_awal 0.15\n",
      "Index:  1 label_awal 0.0\n",
      "Index:  2 label_awal 0.0\n",
      "Index:  3 label_awal 0.0\n",
      "Index:  4 label_awal 0.0\n",
      "Index:  5 label_awal -0.2749999999999999\n",
      "Index:  6 label_awal 0.0\n",
      "Index:  7 label_awal 0.0\n",
      "Index:  8 label_awal 0.0\n",
      "Index:  9 label_awal 0.0\n",
      "Index:  10 label_awal 0.0\n",
      "Index:  11 label_awal -0.15833333333333335\n",
      "Index:  12 label_awal 0.2\n",
      "Index:  13 label_awal 0.0\n",
      "Index:  14 label_awal 0.0\n",
      "Index:  15 label_awal 0.0\n",
      "Index:  16 label_awal 0.0\n",
      "Index:  17 label_awal 0.0\n",
      "Index:  18 label_awal 0.0\n",
      "Index:  19 label_awal 0.0\n",
      "Index:  20 label_awal 0.0\n",
      "Index:  21 label_awal 0.0\n",
      "Index:  22 label_awal 0.0\n",
      "Index:  23 label_awal 0.0\n",
      "Index:  24 label_awal 0.4\n",
      "Index:  25 label_awal 0.0\n",
      "Index:  26 label_awal 0.07500000000000001\n",
      "Index:  27 label_awal 0.18333333333333335\n",
      "Index:  28 label_awal 0.04999999999999999\n",
      "Index:  29 label_awal 0.0\n",
      "Index:  30 label_awal 0.0\n",
      "Index:  31 label_awal -0.4166666666666667\n",
      "Index:  32 label_awal 0.0\n",
      "Index:  33 label_awal 0.35\n",
      "Index:  34 label_awal 0.0\n",
      "Index:  35 label_awal 0.0\n",
      "Index:  36 label_awal 0.0\n",
      "Index:  37 label_awal 0.0\n",
      "Index:  38 label_awal 0.0\n",
      "Index:  39 label_awal 0.0\n",
      "Index:  40 label_awal 0.0\n",
      "Index:  41 label_awal 0.3181818181818182\n",
      "Index:  42 label_awal 0.0\n",
      "Index:  43 label_awal 0.0\n",
      "Index:  44 label_awal 0.0\n",
      "Index:  45 label_awal 0.0\n",
      "Index:  46 label_awal 0.1\n",
      "Index:  47 label_awal 0.16666666666666666\n",
      "Index:  48 label_awal -0.13333333333333333\n",
      "Index:  49 label_awal 0.0\n",
      "Index:  50 label_awal -0.3\n",
      "Index:  51 label_awal 0.0\n",
      "Index:  52 label_awal -0.5\n",
      "Index:  53 label_awal -0.2\n",
      "Index:  54 label_awal -0.15\n",
      "Index:  55 label_awal -0.15555555555555559\n",
      "Index:  56 label_awal 0.0\n",
      "Index:  57 label_awal 0.0\n",
      "Index:  58 label_awal 0.0\n",
      "Index:  59 label_awal 0.016666666666666663\n",
      "Index:  60 label_awal 0.2\n",
      "Index:  61 label_awal 0.0\n",
      "Index:  62 label_awal 0.0\n",
      "Index:  63 label_awal 0.0\n",
      "Index:  64 label_awal 0.0\n",
      "Index:  65 label_awal -0.5\n",
      "Index:  66 label_awal 0.0\n",
      "Index:  67 label_awal 0.0\n",
      "Index:  68 label_awal 0.0\n",
      "Index:  69 label_awal 0.0\n",
      "Index:  70 label_awal 0.2\n",
      "Index:  71 label_awal 0.1\n",
      "Index:  72 label_awal 0.0\n",
      "Index:  73 label_awal 0.275\n",
      "Index:  74 label_awal 0.6\n",
      "Index:  75 label_awal 0.0\n",
      "Index:  76 label_awal 0.0\n",
      "Index:  77 label_awal 0.0\n",
      "Index:  78 label_awal -0.2916666666666667\n",
      "Index:  79 label_awal 0.0\n",
      "Index:  80 label_awal 0.0\n",
      "Index:  81 label_awal 0.0\n",
      "Index:  82 label_awal 0.0\n",
      "Index:  83 label_awal 0.1\n",
      "Index:  84 label_awal 0.0\n",
      "Index:  85 label_awal 0.0\n",
      "Index:  86 label_awal 0.0\n",
      "Index:  87 label_awal 0.0\n",
      "Index:  88 label_awal 0.0\n",
      "Index:  89 label_awal -6.938893903907228e-18\n",
      "Index:  90 label_awal 0.1\n",
      "Index:  91 label_awal 0.2\n",
      "Index:  92 label_awal 0.0\n",
      "Index:  93 label_awal 0.0\n",
      "Index:  94 label_awal 0.0\n",
      "Index:  95 label_awal 0.0\n",
      "Index:  96 label_awal 0.0\n",
      "Index:  97 label_awal 0.0\n",
      "Index:  98 label_awal 0.0\n",
      "Index:  99 label_awal 0.2\n",
      "Index:  100 label_awal 0.0\n",
      "Index:  101 label_awal 0.0\n",
      "Index:  102 label_awal 0.0\n",
      "Index:  103 label_awal 0.0\n",
      "Index:  104 label_awal 0.6\n",
      "Index:  105 label_awal 0.0\n",
      "Index:  106 label_awal 0.0\n",
      "Index:  107 label_awal 0.0\n",
      "Index:  108 label_awal 0.0\n",
      "Index:  109 label_awal -0.059999999999999984\n",
      "Index:  110 label_awal 0.0\n",
      "Index:  111 label_awal 0.0\n",
      "Index:  112 label_awal 0.0\n",
      "Index:  113 label_awal 0.0\n",
      "Index:  114 label_awal 0.0\n",
      "Index:  115 label_awal 0.0\n",
      "Index:  116 label_awal 0.16666666666666666\n",
      "Index:  117 label_awal 0.0\n",
      "Index:  118 label_awal 0.2\n",
      "Index:  119 label_awal 0.25\n",
      "Index:  120 label_awal 0.19285714285714284\n",
      "Index:  121 label_awal 0.2\n",
      "Index:  122 label_awal 0.0\n",
      "Index:  123 label_awal 0.6\n",
      "Index:  124 label_awal 0.0\n",
      "Index:  125 label_awal 0.2\n",
      "Index:  126 label_awal 0.35\n",
      "Index:  127 label_awal 0.2619047619047619\n",
      "Index:  128 label_awal 0.4\n",
      "Index:  129 label_awal 0.2\n",
      "Index:  130 label_awal 0.7\n",
      "Index:  131 label_awal 0.0\n",
      "Index:  132 label_awal 1.0\n",
      "Index:  133 label_awal 0.5\n",
      "Index:  134 label_awal 0.0\n",
      "Index:  135 label_awal 0.0\n",
      "Index:  136 label_awal 0.0\n",
      "Index:  137 label_awal 0.0\n"
     ]
    }
   ],
   "source": [
    "columns = [\"comment_english\"]\n",
    "df = pd.read_excel(r'C:\\Users\\Hp\\TUGAS AKHIR 2\\INSTAGRAM_INDIHOME\\data bersih_translate instagram indihome\\databersih_english_instagram_indihome_10.xlsx', usecols=columns)\n",
    "df['label_awal'] = ''\n",
    "for i,x in df.comment_english.iteritems():\n",
    "    label_awal = TextBlob(x)\n",
    "    df['label_awal'][i] = label_awal.sentiment.polarity\n",
    "    print(\"Index: \", i ,  \"label_awal\" , label_awal.sentiment.polarity)"
   ]
  },
  {
   "cell_type": "code",
   "execution_count": 3,
   "id": "44f012a3-0e78-4b04-b538-89b10f045e67",
   "metadata": {
    "collapsed": true,
    "jupyter": {
     "outputs_hidden": true
    },
    "tags": []
   },
   "outputs": [
    {
     "data": {
      "text/html": [
       "<div>\n",
       "<style scoped>\n",
       "    .dataframe tbody tr th:only-of-type {\n",
       "        vertical-align: middle;\n",
       "    }\n",
       "\n",
       "    .dataframe tbody tr th {\n",
       "        vertical-align: top;\n",
       "    }\n",
       "\n",
       "    .dataframe thead th {\n",
       "        text-align: right;\n",
       "    }\n",
       "</style>\n",
       "<table border=\"1\" class=\"dataframe\">\n",
       "  <thead>\n",
       "    <tr style=\"text-align: right;\">\n",
       "      <th></th>\n",
       "      <th>comment_english</th>\n",
       "      <th>label_awal</th>\n",
       "    </tr>\n",
       "  </thead>\n",
       "  <tbody>\n",
       "    <tr>\n",
       "      <th>0</th>\n",
       "      <td>['really', 'normal']</td>\n",
       "      <td>0.15</td>\n",
       "    </tr>\n",
       "    <tr>\n",
       "      <th>1</th>\n",
       "      <td>['points', 'min', 'exchange', 'plaza', 'min', \"]</td>\n",
       "      <td>0.0</td>\n",
       "    </tr>\n",
       "    <tr>\n",
       "      <th>2</th>\n",
       "      <td>['like', 'exchange', 'voucher', 'merchant']</td>\n",
       "      <td>0.0</td>\n",
       "    </tr>\n",
       "    <tr>\n",
       "      <th>3</th>\n",
       "      <td>['please', 'min', 'check', '']</td>\n",
       "      <td>0.0</td>\n",
       "    </tr>\n",
       "    <tr>\n",
       "      <th>4</th>\n",
       "      <td>['yukk', 'gatherin', 'points']</td>\n",
       "      <td>0.0</td>\n",
       "    </tr>\n",
       "  </tbody>\n",
       "</table>\n",
       "</div>"
      ],
      "text/plain": [
       "                                    comment_english label_awal\n",
       "0                              ['really', 'normal']       0.15\n",
       "1  ['points', 'min', 'exchange', 'plaza', 'min', \"]        0.0\n",
       "2       ['like', 'exchange', 'voucher', 'merchant']        0.0\n",
       "3                    ['please', 'min', 'check', '']        0.0\n",
       "4                    ['yukk', 'gatherin', 'points']        0.0"
      ]
     },
     "execution_count": 3,
     "metadata": {},
     "output_type": "execute_result"
    }
   ],
   "source": [
    "df.head()"
   ]
  },
  {
   "cell_type": "code",
   "execution_count": 4,
   "id": "e6a604d6-baaf-4141-8010-bbb44c2eb8c1",
   "metadata": {
    "collapsed": true,
    "jupyter": {
     "outputs_hidden": true
    },
    "tags": []
   },
   "outputs": [
    {
     "data": {
      "text/plain": [
       " 0.000000e+00    90\n",
       " 2.000000e-01     9\n",
       " 1.000000e-01     4\n",
       " 6.000000e-01     3\n",
       "-5.000000e-01     2\n",
       " 4.000000e-01     2\n",
       " 1.666667e-01     2\n",
       " 3.500000e-01     2\n",
       "-6.938894e-18     1\n",
       " 2.750000e-01     1\n",
       "-2.916667e-01     1\n",
       "-6.000000e-02     1\n",
       "-1.555556e-01     1\n",
       " 2.500000e-01     1\n",
       " 1.928571e-01     1\n",
       " 2.619048e-01     1\n",
       " 7.000000e-01     1\n",
       " 1.000000e+00     1\n",
       " 1.666667e-02     1\n",
       " 1.500000e-01     1\n",
       "-1.500000e-01     1\n",
       "-2.000000e-01     1\n",
       "-3.000000e-01     1\n",
       "-1.333333e-01     1\n",
       " 3.181818e-01     1\n",
       "-4.166667e-01     1\n",
       " 5.000000e-02     1\n",
       " 1.833333e-01     1\n",
       " 7.500000e-02     1\n",
       "-1.583333e-01     1\n",
       "-2.750000e-01     1\n",
       " 5.000000e-01     1\n",
       "Name: label_awal, dtype: int64"
      ]
     },
     "execution_count": 4,
     "metadata": {},
     "output_type": "execute_result"
    }
   ],
   "source": [
    "df['label_awal'].value_counts()"
   ]
  },
  {
   "cell_type": "code",
   "execution_count": 5,
   "id": "682c7c80-0250-4ba2-bf46-c26a3ecc9d0e",
   "metadata": {
    "collapsed": true,
    "jupyter": {
     "outputs_hidden": true
    },
    "tags": []
   },
   "outputs": [
    {
     "data": {
      "text/html": [
       "<div>\n",
       "<style scoped>\n",
       "    .dataframe tbody tr th:only-of-type {\n",
       "        vertical-align: middle;\n",
       "    }\n",
       "\n",
       "    .dataframe tbody tr th {\n",
       "        vertical-align: top;\n",
       "    }\n",
       "\n",
       "    .dataframe thead th {\n",
       "        text-align: right;\n",
       "    }\n",
       "</style>\n",
       "<table border=\"1\" class=\"dataframe\">\n",
       "  <thead>\n",
       "    <tr style=\"text-align: right;\">\n",
       "      <th></th>\n",
       "      <th>comment_english</th>\n",
       "      <th>label</th>\n",
       "    </tr>\n",
       "  </thead>\n",
       "  <tbody>\n",
       "    <tr>\n",
       "      <th>0</th>\n",
       "      <td>['really', 'normal']</td>\n",
       "      <td>positive</td>\n",
       "    </tr>\n",
       "    <tr>\n",
       "      <th>1</th>\n",
       "      <td>['points', 'min', 'exchange', 'plaza', 'min', \"]</td>\n",
       "      <td>negative</td>\n",
       "    </tr>\n",
       "    <tr>\n",
       "      <th>2</th>\n",
       "      <td>['like', 'exchange', 'voucher', 'merchant']</td>\n",
       "      <td>negative</td>\n",
       "    </tr>\n",
       "    <tr>\n",
       "      <th>3</th>\n",
       "      <td>['please', 'min', 'check', '']</td>\n",
       "      <td>negative</td>\n",
       "    </tr>\n",
       "    <tr>\n",
       "      <th>4</th>\n",
       "      <td>['yukk', 'gatherin', 'points']</td>\n",
       "      <td>negative</td>\n",
       "    </tr>\n",
       "    <tr>\n",
       "      <th>...</th>\n",
       "      <td>...</td>\n",
       "      <td>...</td>\n",
       "    </tr>\n",
       "    <tr>\n",
       "      <th>133</th>\n",
       "      <td>['min', 'thank', 'love', 'information', 'use']</td>\n",
       "      <td>positive</td>\n",
       "    </tr>\n",
       "    <tr>\n",
       "      <th>134</th>\n",
       "      <td>['channel', 'fox', 'sport', 'indihome', '']</td>\n",
       "      <td>negative</td>\n",
       "    </tr>\n",
       "    <tr>\n",
       "      <th>135</th>\n",
       "      <td>['wifi', 'home', 'strict', 'blinking', 'lights...</td>\n",
       "      <td>negative</td>\n",
       "    </tr>\n",
       "    <tr>\n",
       "      <th>136</th>\n",
       "      <td>['terimkasih', 'min', 'content', 'help']</td>\n",
       "      <td>negative</td>\n",
       "    </tr>\n",
       "    <tr>\n",
       "      <th>137</th>\n",
       "      <td>['favors', 'indihome', '']</td>\n",
       "      <td>negative</td>\n",
       "    </tr>\n",
       "  </tbody>\n",
       "</table>\n",
       "<p>138 rows × 2 columns</p>\n",
       "</div>"
      ],
      "text/plain": [
       "                                       comment_english     label\n",
       "0                                 ['really', 'normal']  positive\n",
       "1     ['points', 'min', 'exchange', 'plaza', 'min', \"]  negative\n",
       "2          ['like', 'exchange', 'voucher', 'merchant']  negative\n",
       "3                       ['please', 'min', 'check', '']  negative\n",
       "4                       ['yukk', 'gatherin', 'points']  negative\n",
       "..                                                 ...       ...\n",
       "133     ['min', 'thank', 'love', 'information', 'use']  positive\n",
       "134        ['channel', 'fox', 'sport', 'indihome', '']  negative\n",
       "135  ['wifi', 'home', 'strict', 'blinking', 'lights...  negative\n",
       "136           ['terimkasih', 'min', 'content', 'help']  negative\n",
       "137                         ['favors', 'indihome', '']  negative\n",
       "\n",
       "[138 rows x 2 columns]"
      ]
     },
     "execution_count": 5,
     "metadata": {},
     "output_type": "execute_result"
    }
   ],
   "source": [
    "label = []\n",
    "for index, row in df.iterrows():\n",
    "    if row['label_awal'] > 0.0:\n",
    "        label.append(\"positive\")\n",
    "    else:\n",
    "        label.append(\"negative\")\n",
    "df[\"label\"] = label\n",
    "df = df.drop(columns=['label_awal'])\n",
    "df.head(2000)"
   ]
  },
  {
   "cell_type": "code",
   "execution_count": 6,
   "id": "fa4a703f-8aec-4f3e-ad09-cd25c38d267d",
   "metadata": {
    "collapsed": true,
    "jupyter": {
     "outputs_hidden": true
    },
    "tags": []
   },
   "outputs": [
    {
     "data": {
      "text/plain": [
       "negative    103\n",
       "positive     35\n",
       "Name: label, dtype: int64"
      ]
     },
     "execution_count": 6,
     "metadata": {},
     "output_type": "execute_result"
    }
   ],
   "source": [
    "df['label'].value_counts()"
   ]
  },
  {
   "cell_type": "code",
   "execution_count": 7,
   "id": "9a018197-99bf-4b81-8a00-4d2ac895ee59",
   "metadata": {},
   "outputs": [],
   "source": [
    "df.to_excel('labeling_databersih_instagram_indihome_10.xlsx')"
   ]
  },
  {
   "cell_type": "code",
   "execution_count": null,
   "id": "fc41620a-8dae-4e69-8de4-a3c16991bea6",
   "metadata": {},
   "outputs": [],
   "source": []
  }
 ],
 "metadata": {
  "kernelspec": {
   "display_name": "Python 3 (ipykernel)",
   "language": "python",
   "name": "python3"
  },
  "language_info": {
   "codemirror_mode": {
    "name": "ipython",
    "version": 3
   },
   "file_extension": ".py",
   "mimetype": "text/x-python",
   "name": "python",
   "nbconvert_exporter": "python",
   "pygments_lexer": "ipython3",
   "version": "3.8.12"
  }
 },
 "nbformat": 4,
 "nbformat_minor": 5
}
