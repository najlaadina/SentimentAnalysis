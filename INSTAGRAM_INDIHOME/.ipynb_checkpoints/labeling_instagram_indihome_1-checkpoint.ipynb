{
 "cells": [
  {
   "cell_type": "code",
   "execution_count": 1,
   "id": "82389580-c20f-4bc2-a044-c2f320028807",
   "metadata": {},
   "outputs": [],
   "source": [
    "import pandas as pd\n",
    "from textblob import TextBlob"
   ]
  },
  {
   "cell_type": "code",
   "execution_count": 2,
   "id": "19c858fe-4619-48c7-addf-ae94c800436a",
   "metadata": {
    "collapsed": true,
    "jupyter": {
     "outputs_hidden": true
    },
    "tags": []
   },
   "outputs": [
    {
     "name": "stdout",
     "output_type": "stream",
     "text": [
      "Index:  0 label_awal 0.16666666666666666\n",
      "Index:  1 label_awal 0.0\n",
      "Index:  2 label_awal 0.0\n",
      "Index:  3 label_awal 0.0\n",
      "Index:  4 label_awal 0.0\n",
      "Index:  5 label_awal 0.0\n",
      "Index:  6 label_awal 0.0\n",
      "Index:  7 label_awal -0.125\n",
      "Index:  8 label_awal 0.2333333333333333\n",
      "Index:  9 label_awal 0.0\n",
      "Index:  10 label_awal 0.315\n",
      "Index:  11 label_awal 0.0\n",
      "Index:  12 label_awal -0.5\n",
      "Index:  13 label_awal 0.0\n",
      "Index:  14 label_awal 0.0\n",
      "Index:  15 label_awal 0.2\n"
     ]
    }
   ],
   "source": [
    "columns = [\"comment_english\"]\n",
    "df = pd.read_excel(r'C:\\Users\\Hp\\TUGAS AKHIR 2\\INSTAGRAM_INDIHOME\\data bersih_translate instagram indihome\\databersih_english_instagram_indihome_1.xlsx', usecols=columns)\n",
    "df['label_awal'] = ''\n",
    "for i,x in df.comment_english.iteritems():\n",
    "    label_awal = TextBlob(x)\n",
    "    df['label_awal'][i] = label_awal.sentiment.polarity\n",
    "    print(\"Index: \", i ,  \"label_awal\" , label_awal.sentiment.polarity)"
   ]
  },
  {
   "cell_type": "code",
   "execution_count": 3,
   "id": "44f012a3-0e78-4b04-b538-89b10f045e67",
   "metadata": {
    "collapsed": true,
    "jupyter": {
     "outputs_hidden": true
    },
    "tags": []
   },
   "outputs": [
    {
     "data": {
      "text/html": [
       "<div>\n",
       "<style scoped>\n",
       "    .dataframe tbody tr th:only-of-type {\n",
       "        vertical-align: middle;\n",
       "    }\n",
       "\n",
       "    .dataframe tbody tr th {\n",
       "        vertical-align: top;\n",
       "    }\n",
       "\n",
       "    .dataframe thead th {\n",
       "        text-align: right;\n",
       "    }\n",
       "</style>\n",
       "<table border=\"1\" class=\"dataframe\">\n",
       "  <thead>\n",
       "    <tr style=\"text-align: right;\">\n",
       "      <th></th>\n",
       "      <th>comment_english</th>\n",
       "      <th>label_awal</th>\n",
       "    </tr>\n",
       "  </thead>\n",
       "  <tbody>\n",
       "    <tr>\n",
       "      <th>0</th>\n",
       "      <td>['steady']</td>\n",
       "      <td>0.166667</td>\n",
       "    </tr>\n",
       "    <tr>\n",
       "      <th>1</th>\n",
       "      <td>['process', 'stop', 'exolated', 'alur']</td>\n",
       "      <td>0.0</td>\n",
       "    </tr>\n",
       "    <tr>\n",
       "      <th>2</th>\n",
       "      <td>['subscribe', '']</td>\n",
       "      <td>0.0</td>\n",
       "    </tr>\n",
       "    <tr>\n",
       "      <th>3</th>\n",
       "      <td>['min', 'stop', 'subscribe', 'gazana']</td>\n",
       "      <td>0.0</td>\n",
       "    </tr>\n",
       "    <tr>\n",
       "      <th>4</th>\n",
       "      <td>['check', '']</td>\n",
       "      <td>0.0</td>\n",
       "    </tr>\n",
       "    <tr>\n",
       "      <th>5</th>\n",
       "      <td>['info', 'infihome', 'home', 'error', 'week', ...</td>\n",
       "      <td>0.0</td>\n",
       "    </tr>\n",
       "    <tr>\n",
       "      <th>6</th>\n",
       "      <td>['min', 'hehehe']</td>\n",
       "      <td>0.0</td>\n",
       "    </tr>\n",
       "    <tr>\n",
       "      <th>7</th>\n",
       "      <td>['excuse me', 'report', 'indihome', 'home', 'd...</td>\n",
       "      <td>-0.125</td>\n",
       "    </tr>\n",
       "    <tr>\n",
       "      <th>8</th>\n",
       "      <td>['indihome', 'list', 'bln', 'name', 'tamam', '...</td>\n",
       "      <td>0.233333</td>\n",
       "    </tr>\n",
       "    <tr>\n",
       "      <th>9</th>\n",
       "      <td>['check', '']</td>\n",
       "      <td>0.0</td>\n",
       "    </tr>\n",
       "    <tr>\n",
       "      <th>10</th>\n",
       "      <td>['thanks', 'like', 'indihome', 'fast', 'respon...</td>\n",
       "      <td>0.315</td>\n",
       "    </tr>\n",
       "    <tr>\n",
       "      <th>11</th>\n",
       "      <td>['please', 'back', 'money', 'jamin', 'wait', '']</td>\n",
       "      <td>0.0</td>\n",
       "    </tr>\n",
       "    <tr>\n",
       "      <th>12</th>\n",
       "      <td>['hello', 'week', 'internet', 'disturbing', 'n...</td>\n",
       "      <td>-0.5</td>\n",
       "    </tr>\n",
       "    <tr>\n",
       "      <th>13</th>\n",
       "      <td>['application', 'indihome', 'download', 'dmn',...</td>\n",
       "      <td>0.0</td>\n",
       "    </tr>\n",
       "    <tr>\n",
       "      <th>14</th>\n",
       "      <td>['kak', 'paket', 'indihome', 'channel', 'mbps'...</td>\n",
       "      <td>0.0</td>\n",
       "    </tr>\n",
       "  </tbody>\n",
       "</table>\n",
       "</div>"
      ],
      "text/plain": [
       "                                      comment_english label_awal\n",
       "0                                          ['steady']   0.166667\n",
       "1             ['process', 'stop', 'exolated', 'alur']        0.0\n",
       "2                                   ['subscribe', '']        0.0\n",
       "3              ['min', 'stop', 'subscribe', 'gazana']        0.0\n",
       "4                                       ['check', '']        0.0\n",
       "5   ['info', 'infihome', 'home', 'error', 'week', ...        0.0\n",
       "6                                   ['min', 'hehehe']        0.0\n",
       "7   ['excuse me', 'report', 'indihome', 'home', 'd...     -0.125\n",
       "8   ['indihome', 'list', 'bln', 'name', 'tamam', '...   0.233333\n",
       "9                                       ['check', '']        0.0\n",
       "10  ['thanks', 'like', 'indihome', 'fast', 'respon...      0.315\n",
       "11   ['please', 'back', 'money', 'jamin', 'wait', '']        0.0\n",
       "12  ['hello', 'week', 'internet', 'disturbing', 'n...       -0.5\n",
       "13  ['application', 'indihome', 'download', 'dmn',...        0.0\n",
       "14  ['kak', 'paket', 'indihome', 'channel', 'mbps'...        0.0"
      ]
     },
     "execution_count": 3,
     "metadata": {},
     "output_type": "execute_result"
    }
   ],
   "source": [
    "df.head(15)"
   ]
  },
  {
   "cell_type": "code",
   "execution_count": 4,
   "id": "e6a604d6-baaf-4141-8010-bbb44c2eb8c1",
   "metadata": {
    "collapsed": true,
    "jupyter": {
     "outputs_hidden": true
    },
    "tags": []
   },
   "outputs": [
    {
     "data": {
      "text/plain": [
       " 0.000000    10\n",
       " 0.166667     1\n",
       "-0.125000     1\n",
       " 0.233333     1\n",
       " 0.315000     1\n",
       "-0.500000     1\n",
       " 0.200000     1\n",
       "Name: label_awal, dtype: int64"
      ]
     },
     "execution_count": 4,
     "metadata": {},
     "output_type": "execute_result"
    }
   ],
   "source": [
    "df['label_awal'].value_counts()"
   ]
  },
  {
   "cell_type": "code",
   "execution_count": 5,
   "id": "682c7c80-0250-4ba2-bf46-c26a3ecc9d0e",
   "metadata": {
    "collapsed": true,
    "jupyter": {
     "outputs_hidden": true
    },
    "tags": []
   },
   "outputs": [
    {
     "data": {
      "text/html": [
       "<div>\n",
       "<style scoped>\n",
       "    .dataframe tbody tr th:only-of-type {\n",
       "        vertical-align: middle;\n",
       "    }\n",
       "\n",
       "    .dataframe tbody tr th {\n",
       "        vertical-align: top;\n",
       "    }\n",
       "\n",
       "    .dataframe thead th {\n",
       "        text-align: right;\n",
       "    }\n",
       "</style>\n",
       "<table border=\"1\" class=\"dataframe\">\n",
       "  <thead>\n",
       "    <tr style=\"text-align: right;\">\n",
       "      <th></th>\n",
       "      <th>comment_english</th>\n",
       "      <th>label</th>\n",
       "    </tr>\n",
       "  </thead>\n",
       "  <tbody>\n",
       "    <tr>\n",
       "      <th>0</th>\n",
       "      <td>['steady']</td>\n",
       "      <td>positive</td>\n",
       "    </tr>\n",
       "    <tr>\n",
       "      <th>1</th>\n",
       "      <td>['process', 'stop', 'exolated', 'alur']</td>\n",
       "      <td>negative</td>\n",
       "    </tr>\n",
       "    <tr>\n",
       "      <th>2</th>\n",
       "      <td>['subscribe', '']</td>\n",
       "      <td>negative</td>\n",
       "    </tr>\n",
       "    <tr>\n",
       "      <th>3</th>\n",
       "      <td>['min', 'stop', 'subscribe', 'gazana']</td>\n",
       "      <td>negative</td>\n",
       "    </tr>\n",
       "    <tr>\n",
       "      <th>4</th>\n",
       "      <td>['check', '']</td>\n",
       "      <td>negative</td>\n",
       "    </tr>\n",
       "    <tr>\n",
       "      <th>5</th>\n",
       "      <td>['info', 'infihome', 'home', 'error', 'week', ...</td>\n",
       "      <td>negative</td>\n",
       "    </tr>\n",
       "    <tr>\n",
       "      <th>6</th>\n",
       "      <td>['min', 'hehehe']</td>\n",
       "      <td>negative</td>\n",
       "    </tr>\n",
       "    <tr>\n",
       "      <th>7</th>\n",
       "      <td>['excuse me', 'report', 'indihome', 'home', 'd...</td>\n",
       "      <td>negative</td>\n",
       "    </tr>\n",
       "    <tr>\n",
       "      <th>8</th>\n",
       "      <td>['indihome', 'list', 'bln', 'name', 'tamam', '...</td>\n",
       "      <td>positive</td>\n",
       "    </tr>\n",
       "    <tr>\n",
       "      <th>9</th>\n",
       "      <td>['check', '']</td>\n",
       "      <td>negative</td>\n",
       "    </tr>\n",
       "    <tr>\n",
       "      <th>10</th>\n",
       "      <td>['thanks', 'like', 'indihome', 'fast', 'respon...</td>\n",
       "      <td>positive</td>\n",
       "    </tr>\n",
       "    <tr>\n",
       "      <th>11</th>\n",
       "      <td>['please', 'back', 'money', 'jamin', 'wait', '']</td>\n",
       "      <td>negative</td>\n",
       "    </tr>\n",
       "    <tr>\n",
       "      <th>12</th>\n",
       "      <td>['hello', 'week', 'internet', 'disturbing', 'n...</td>\n",
       "      <td>negative</td>\n",
       "    </tr>\n",
       "    <tr>\n",
       "      <th>13</th>\n",
       "      <td>['application', 'indihome', 'download', 'dmn',...</td>\n",
       "      <td>negative</td>\n",
       "    </tr>\n",
       "    <tr>\n",
       "      <th>14</th>\n",
       "      <td>['kak', 'paket', 'indihome', 'channel', 'mbps'...</td>\n",
       "      <td>negative</td>\n",
       "    </tr>\n",
       "    <tr>\n",
       "      <th>15</th>\n",
       "      <td>['sis', 'package', 'indihome', 'channel', 'skr...</td>\n",
       "      <td>positive</td>\n",
       "    </tr>\n",
       "  </tbody>\n",
       "</table>\n",
       "</div>"
      ],
      "text/plain": [
       "                                      comment_english     label\n",
       "0                                          ['steady']  positive\n",
       "1             ['process', 'stop', 'exolated', 'alur']  negative\n",
       "2                                   ['subscribe', '']  negative\n",
       "3              ['min', 'stop', 'subscribe', 'gazana']  negative\n",
       "4                                       ['check', '']  negative\n",
       "5   ['info', 'infihome', 'home', 'error', 'week', ...  negative\n",
       "6                                   ['min', 'hehehe']  negative\n",
       "7   ['excuse me', 'report', 'indihome', 'home', 'd...  negative\n",
       "8   ['indihome', 'list', 'bln', 'name', 'tamam', '...  positive\n",
       "9                                       ['check', '']  negative\n",
       "10  ['thanks', 'like', 'indihome', 'fast', 'respon...  positive\n",
       "11   ['please', 'back', 'money', 'jamin', 'wait', '']  negative\n",
       "12  ['hello', 'week', 'internet', 'disturbing', 'n...  negative\n",
       "13  ['application', 'indihome', 'download', 'dmn',...  negative\n",
       "14  ['kak', 'paket', 'indihome', 'channel', 'mbps'...  negative\n",
       "15  ['sis', 'package', 'indihome', 'channel', 'skr...  positive"
      ]
     },
     "execution_count": 5,
     "metadata": {},
     "output_type": "execute_result"
    }
   ],
   "source": [
    "label = []\n",
    "for index, row in df.iterrows():\n",
    "    if row['label_awal'] > 0.0:\n",
    "        label.append(\"positive\")\n",
    "    else:\n",
    "        label.append(\"negative\")\n",
    "df[\"label\"] = label\n",
    "df = df.drop(columns=['label_awal'])\n",
    "df.head(2000)"
   ]
  },
  {
   "cell_type": "code",
   "execution_count": 6,
   "id": "fa4a703f-8aec-4f3e-ad09-cd25c38d267d",
   "metadata": {},
   "outputs": [
    {
     "data": {
      "text/plain": [
       "negative    12\n",
       "positive     4\n",
       "Name: label, dtype: int64"
      ]
     },
     "execution_count": 6,
     "metadata": {},
     "output_type": "execute_result"
    }
   ],
   "source": [
    "df['label'].value_counts()"
   ]
  },
  {
   "cell_type": "code",
   "execution_count": 7,
   "id": "9a018197-99bf-4b81-8a00-4d2ac895ee59",
   "metadata": {},
   "outputs": [],
   "source": [
    "df.to_excel('labeling_databersih_instagram_indihome_1.xlsx')"
   ]
  },
  {
   "cell_type": "code",
   "execution_count": null,
   "id": "fc41620a-8dae-4e69-8de4-a3c16991bea6",
   "metadata": {},
   "outputs": [],
   "source": []
  }
 ],
 "metadata": {
  "kernelspec": {
   "display_name": "Python 3 (ipykernel)",
   "language": "python",
   "name": "python3"
  },
  "language_info": {
   "codemirror_mode": {
    "name": "ipython",
    "version": 3
   },
   "file_extension": ".py",
   "mimetype": "text/x-python",
   "name": "python",
   "nbconvert_exporter": "python",
   "pygments_lexer": "ipython3",
   "version": "3.8.12"
  }
 },
 "nbformat": 4,
 "nbformat_minor": 5
}
