{
 "cells": [
  {
   "cell_type": "code",
   "execution_count": null,
   "id": "aeb0e499-6d23-413f-9873-c3961cfeaf6a",
   "metadata": {},
   "outputs": [],
   "source": [
    "import pandas as pd\n",
    "import numpy as np\n",
    "import matplotlib.pyplot as plt\n",
    "from sklearn.feature_extraction.text import CountVectorizer\n",
    "import nltk\n",
    "import string\n",
    "import re\n",
    "import openpyxl\n",
    "from Sastrawi.StopWordRemover.StopWordRemoverFactory import StopWordRemoverFactory"
   ]
  },
  {
   "cell_type": "code",
   "execution_count": null,
   "id": "1b2ea2ae-b51d-4043-af88-3f9a069aa169",
   "metadata": {},
   "outputs": [],
   "source": [
    "columns = [\"text\"]\n",
    "df = pd.read_excel(r'C:\\Users\\Hp\\TUGAS AKHIR 2\\INSTAGRAM_INDIHOME\\data mentah\\instagram_indihome_2.xlsx', usecols=columns)\n",
    "df.head(2000)"
   ]
  },
  {
   "cell_type": "code",
   "execution_count": null,
   "id": "ca5e7e96-a9fe-4e8a-b009-e6b58d5543b9",
   "metadata": {},
   "outputs": [],
   "source": [
    "df.text.duplicated().sum()"
   ]
  },
  {
   "cell_type": "code",
   "execution_count": null,
   "id": "4c3f18e9-44ac-4fc4-b3df-26886bfe7475",
   "metadata": {},
   "outputs": [],
   "source": [
    "df.drop_duplicates(subset=\"text\", keep=False, inplace=True)\n",
    "df.head(2000)"
   ]
  },
  {
   "cell_type": "code",
   "execution_count": null,
   "id": "7308dea2-6001-453f-8365-abd376479a5b",
   "metadata": {},
   "outputs": [],
   "source": [
    "#case folding\n",
    "df['text'] = df['text'].str.lower()\n",
    "df.head(2000)"
   ]
  },
  {
   "cell_type": "code",
   "execution_count": null,
   "id": "e974ba2c-c1c9-4d32-af61-397268151b7b",
   "metadata": {},
   "outputs": [],
   "source": [
    "#cleaning text\n",
    "import nltk\n",
    "import string\n",
    "import re\n",
    "nltk.download('punkt')\n",
    "\n",
    "#import word_tokenize & FreqDist from NLTK\n",
    "from nltk.tokenize import word_tokenize"
   ]
  },
  {
   "cell_type": "code",
   "execution_count": null,
   "id": "386fd831-57c6-41f5-9e9a-3a822e87dc1f",
   "metadata": {},
   "outputs": [],
   "source": [
    "#proses cleaning text\n",
    "def remove_special_tweet(text):\n",
    "    text = ' '.join(re.sub(\"([@#][A-Za-z0-9]+)|(\\w+:\\/\\/\\S+)\", \"\", str(text)).split())\n",
    "    text = re.sub(r'[^a-zA-Z0-9]', ' ', str(text))\n",
    "    text = re.sub(r'\\b\\w{1,2}\\b', ' ', str(text))\n",
    "    text = re.sub(r'\\s\\s+',' ',  str(text))\n",
    "    text = re.sub(r'\\d+', ' ', str(text))\n",
    "    text = re.sub(r'\\b[a-zA-Z]\\b', ' ', str(text))\n",
    "    text = re.sub(r'/(?:https?|ftp):\\/\\/[\\n\\S]+/g, ''', ' ', str(text))\n",
    "    text = re.sub(r'(@[A-Za-z0-9]+)|([^0-9A-Za-z \\t])|(\\w+:\\/\\/\\S+)', ' ', str(text))\n",
    "    text = re.sub(r'[0]', r' ', str(text))\n",
    "    return text\n",
    "    return df\n",
    "df['cleaning_text'] = df['text'].apply(remove_special_tweet)\n",
    "df.head(2000)"
   ]
  },
  {
   "cell_type": "code",
   "execution_count": null,
   "id": "4bda600e-0001-440a-b3d0-c2ba1d485479",
   "metadata": {},
   "outputs": [],
   "source": [
    "#proses tokenisasi\n",
    "def tokenisasi(text):\n",
    "    text = re.split('\\W+', str(text))\n",
    "    return text\n",
    "    return df\n",
    "df['tokenisasi'] = df['cleaning_text'].apply(tokenisasi)\n",
    "df.head(2000)"
   ]
  },
  {
   "cell_type": "code",
   "execution_count": null,
   "id": "f227bfd0-9b4b-476a-82b0-09a4f7f9885e",
   "metadata": {},
   "outputs": [],
   "source": [
    "#import nltk stopword\n",
    "from nltk.corpus import stopwords\n",
    "\n",
    "#proses stopword\n",
    "stopword = nltk.corpus.stopwords.words('indonesian')\n",
    "stopword.extend([\"nmr\", \"yg\", \"dg\", \"rt\", \"dgn\", \"ny\", \"d\", 'klo','kalo', 'amp', 'biar', 'bikin', 'bilang','gak', 'ga', 'krn', 'nya', \n",
    "                 'nih', 'sih','si', 'tau', 'tdk', 'tuh', 'tai', 'juga', 'utk', 'ya','jd', 'jgn', 'sdh', 'aja', 'n', 't', 'nyg', 'hehe',\n",
    "                 'pen', 'u', 'nan', 'loh', 'rt', 'kudu', 'mks', 'wkwk', 'kwkwkw', 'an', 'lah', 'dah', 'asu', 'mjb', 'haha',\n",
    "                 'yah', 'lha', 'lah', 'hihi', 'ih', 'anjir', 'bgt', 'pake', 'anj', 'bgst', 'anjir'])\n",
    "def remove_stopwords(text):\n",
    "    text = [word for word in text if word not in stopword]\n",
    "    return text\n",
    "    return df\n",
    "df['stopword'] = df['tokenisasi'].apply(remove_stopwords)\n",
    "df.head(2000)"
   ]
  },
  {
   "cell_type": "code",
   "execution_count": null,
   "id": "212cc261-673b-4a78-8e18-21e67d8f6e0b",
   "metadata": {},
   "outputs": [],
   "source": [
    "#stemming\n",
    "# import Sastrawi package\n",
    "from Sastrawi.Stemmer.StemmerFactory import StemmerFactory\n",
    "import swifter\n",
    "\n",
    "# create stemmer\n",
    "factory = StemmerFactory()\n",
    "stemmer = factory.create_stemmer()\n",
    "\n",
    "# stemmed\n",
    "def stemmed_wrapper(term):\n",
    "    return stemmer.stem(term)\n",
    "\n",
    "term_dict = {}\n",
    "\n",
    "for document in df['stopword']:\n",
    "    for term in document:\n",
    "        if term not in term_dict:\n",
    "            term_dict[term] = ' '\n",
    "            \n",
    "print(len(term_dict))\n",
    "print(\"------------------------\")\n",
    "\n",
    "for term in term_dict:\n",
    "    term_dict[term] = stemmed_wrapper(term)\n",
    "    print(term,\":\" ,term_dict[term])\n",
    "    \n",
    "print(term_dict)\n",
    "print(\"------------------------\")\n",
    "\n",
    "# apply stemmed term to dataframe\n",
    "def get_stemmed_term(document):\n",
    "    return [term_dict[term] for term in document]\n",
    "    return df\n",
    "\n",
    "df['stemming'] = df['stopword'].swifter.apply(get_stemmed_term)\n",
    "df.head(2000)"
   ]
  },
  {
   "cell_type": "code",
   "execution_count": null,
   "id": "53462301-88ad-4147-b453-be963e1f3cb6",
   "metadata": {},
   "outputs": [],
   "source": [
    "Final = df[['stemming']]\n",
    "Final = Final.rename(columns={'stemming':'comment'})"
   ]
  },
  {
   "cell_type": "code",
   "execution_count": null,
   "id": "cb83ee05-8e53-472d-88c2-5ae30a5fc5b7",
   "metadata": {},
   "outputs": [],
   "source": [
    "Final"
   ]
  },
  {
   "cell_type": "code",
   "execution_count": null,
   "id": "c7c06f58-fa2f-461f-9dad-3c772c58723d",
   "metadata": {},
   "outputs": [],
   "source": [
    "Final.to_excel('databersih_instagram_indihome_2.xlsx')"
   ]
  }
 ],
 "metadata": {
  "kernelspec": {
   "display_name": "Python 3 (ipykernel)",
   "language": "python",
   "name": "python3"
  },
  "language_info": {
   "codemirror_mode": {
    "name": "ipython",
    "version": 3
   },
   "file_extension": ".py",
   "mimetype": "text/x-python",
   "name": "python",
   "nbconvert_exporter": "python",
   "pygments_lexer": "ipython3",
   "version": "3.8.12"
  }
 },
 "nbformat": 4,
 "nbformat_minor": 5
}
