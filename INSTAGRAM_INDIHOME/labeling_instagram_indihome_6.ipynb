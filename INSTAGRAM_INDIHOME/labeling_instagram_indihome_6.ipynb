{
 "cells": [
  {
   "cell_type": "code",
   "execution_count": 1,
   "id": "82389580-c20f-4bc2-a044-c2f320028807",
   "metadata": {},
   "outputs": [],
   "source": [
    "import pandas as pd\n",
    "from textblob import TextBlob"
   ]
  },
  {
   "cell_type": "code",
   "execution_count": 2,
   "id": "19c858fe-4619-48c7-addf-ae94c800436a",
   "metadata": {
    "collapsed": true,
    "jupyter": {
     "outputs_hidden": true
    },
    "tags": []
   },
   "outputs": [
    {
     "name": "stdout",
     "output_type": "stream",
     "text": [
      "Index:  0 label_awal 0.31666666666666665\n",
      "Index:  1 label_awal -0.8\n",
      "Index:  2 label_awal 0.0\n",
      "Index:  3 label_awal 0.0\n",
      "Index:  4 label_awal 0.13333333333333333\n",
      "Index:  5 label_awal 0.0\n",
      "Index:  6 label_awal -0.525\n",
      "Index:  7 label_awal 0.0\n",
      "Index:  8 label_awal 0.0\n",
      "Index:  9 label_awal 0.0\n",
      "Index:  10 label_awal 0.0\n",
      "Index:  11 label_awal 0.0\n",
      "Index:  12 label_awal 0.0\n",
      "Index:  13 label_awal 0.0\n",
      "Index:  14 label_awal 0.7\n",
      "Index:  15 label_awal 0.0\n",
      "Index:  16 label_awal 0.0\n",
      "Index:  17 label_awal 0.1\n",
      "Index:  18 label_awal 0.6\n",
      "Index:  19 label_awal -0.13333333333333333\n",
      "Index:  20 label_awal 0.0\n",
      "Index:  21 label_awal 0.0\n",
      "Index:  22 label_awal 0.5666666666666667\n",
      "Index:  23 label_awal 0.2\n",
      "Index:  24 label_awal 0.0\n",
      "Index:  25 label_awal 0.2\n",
      "Index:  26 label_awal 0.35\n",
      "Index:  27 label_awal -0.15555555555555559\n",
      "Index:  28 label_awal 0.0\n",
      "Index:  29 label_awal -0.7\n",
      "Index:  30 label_awal 0.1\n",
      "Index:  31 label_awal 0.0\n",
      "Index:  32 label_awal 0.0\n",
      "Index:  33 label_awal 0.2\n",
      "Index:  34 label_awal 0.0\n",
      "Index:  35 label_awal 0.0\n",
      "Index:  36 label_awal 0.0\n",
      "Index:  37 label_awal 0.0\n",
      "Index:  38 label_awal 0.0\n",
      "Index:  39 label_awal 0.10000000000000002\n",
      "Index:  40 label_awal 0.5\n",
      "Index:  41 label_awal 0.0\n",
      "Index:  42 label_awal 0.0\n",
      "Index:  43 label_awal 0.0\n",
      "Index:  44 label_awal 0.0\n",
      "Index:  45 label_awal 0.0\n",
      "Index:  46 label_awal 0.0\n",
      "Index:  47 label_awal -0.4\n",
      "Index:  48 label_awal 0.2\n",
      "Index:  49 label_awal 0.0\n",
      "Index:  50 label_awal 0.5\n",
      "Index:  51 label_awal 0.0\n",
      "Index:  52 label_awal 0.0\n",
      "Index:  53 label_awal 0.0\n",
      "Index:  54 label_awal 0.0\n",
      "Index:  55 label_awal 0.43333333333333335\n",
      "Index:  56 label_awal 0.43333333333333335\n",
      "Index:  57 label_awal 0.0\n",
      "Index:  58 label_awal 0.1\n",
      "Index:  59 label_awal 0.2\n",
      "Index:  60 label_awal 0.0\n",
      "Index:  61 label_awal 0.5249999999999999\n",
      "Index:  62 label_awal 0.3\n",
      "Index:  63 label_awal 0.2\n",
      "Index:  64 label_awal 0.0\n",
      "Index:  65 label_awal -0.4\n",
      "Index:  66 label_awal 0.43333333333333335\n",
      "Index:  67 label_awal 0.43333333333333335\n",
      "Index:  68 label_awal -0.1277777777777778\n",
      "Index:  69 label_awal 0.0\n",
      "Index:  70 label_awal 0.0\n",
      "Index:  71 label_awal -0.4166666666666667\n",
      "Index:  72 label_awal 0.16666666666666666\n",
      "Index:  73 label_awal 0.0\n",
      "Index:  74 label_awal 0.0\n",
      "Index:  75 label_awal -0.15\n",
      "Index:  76 label_awal 0.0\n",
      "Index:  77 label_awal 0.6\n",
      "Index:  78 label_awal 0.0\n",
      "Index:  79 label_awal 0.3333333333333333\n",
      "Index:  80 label_awal 0.0\n",
      "Index:  81 label_awal -0.6\n",
      "Index:  82 label_awal 0.1\n",
      "Index:  83 label_awal 0.0\n",
      "Index:  84 label_awal 0.0\n",
      "Index:  85 label_awal 0.0\n",
      "Index:  86 label_awal 0.0\n",
      "Index:  87 label_awal 0.0\n",
      "Index:  88 label_awal -0.19999999999999998\n",
      "Index:  89 label_awal -0.1\n",
      "Index:  90 label_awal 0.0\n",
      "Index:  91 label_awal -0.30000000000000004\n",
      "Index:  92 label_awal -0.0642857142857143\n",
      "Index:  93 label_awal 0.0\n",
      "Index:  94 label_awal 0.0\n",
      "Index:  95 label_awal -0.05\n",
      "Index:  96 label_awal 0.0\n",
      "Index:  97 label_awal -0.15555555555555559\n"
     ]
    }
   ],
   "source": [
    "columns = [\"comment_english\"]\n",
    "df = pd.read_excel(r'C:\\Users\\Hp\\TUGAS AKHIR 2\\INSTAGRAM_INDIHOME\\data bersih_translate instagram indihome\\databersih_english_instagram_indihome_6.xlsx', usecols=columns)\n",
    "df['label_awal'] = ''\n",
    "for i,x in df.comment_english.iteritems():\n",
    "    label_awal = TextBlob(x)\n",
    "    df['label_awal'][i] = label_awal.sentiment.polarity\n",
    "    print(\"Index: \", i ,  \"label_awal\" , label_awal.sentiment.polarity)"
   ]
  },
  {
   "cell_type": "code",
   "execution_count": 3,
   "id": "44f012a3-0e78-4b04-b538-89b10f045e67",
   "metadata": {
    "collapsed": true,
    "jupyter": {
     "outputs_hidden": true
    },
    "tags": []
   },
   "outputs": [
    {
     "data": {
      "text/html": [
       "<div>\n",
       "<style scoped>\n",
       "    .dataframe tbody tr th:only-of-type {\n",
       "        vertical-align: middle;\n",
       "    }\n",
       "\n",
       "    .dataframe tbody tr th {\n",
       "        vertical-align: top;\n",
       "    }\n",
       "\n",
       "    .dataframe thead th {\n",
       "        text-align: right;\n",
       "    }\n",
       "</style>\n",
       "<table border=\"1\" class=\"dataframe\">\n",
       "  <thead>\n",
       "    <tr style=\"text-align: right;\">\n",
       "      <th></th>\n",
       "      <th>comment_english</th>\n",
       "      <th>label_awal</th>\n",
       "    </tr>\n",
       "  </thead>\n",
       "  <tbody>\n",
       "    <tr>\n",
       "      <th>0</th>\n",
       "      <td>['easy', 'fast', 'go bankrupt', 'need']</td>\n",
       "      <td>0.316667</td>\n",
       "    </tr>\n",
       "    <tr>\n",
       "      <th>1</th>\n",
       "      <td>['base', 'ajg']</td>\n",
       "      <td>-0.8</td>\n",
       "    </tr>\n",
       "    <tr>\n",
       "      <th>2</th>\n",
       "      <td>['emang', 'pig', 'mampus', 'ajg']</td>\n",
       "      <td>0.0</td>\n",
       "    </tr>\n",
       "    <tr>\n",
       "      <th>3</th>\n",
       "      <td>['ajg', 'indohome', 'lonte']</td>\n",
       "      <td>0.0</td>\n",
       "    </tr>\n",
       "    <tr>\n",
       "      <th>4</th>\n",
       "      <td>['mampus', 'ajg', 'net', 'good', 'gausah', 'pr...</td>\n",
       "      <td>0.133333</td>\n",
       "    </tr>\n",
       "  </tbody>\n",
       "</table>\n",
       "</div>"
      ],
      "text/plain": [
       "                                     comment_english label_awal\n",
       "0            ['easy', 'fast', 'go bankrupt', 'need']   0.316667\n",
       "1                                    ['base', 'ajg']       -0.8\n",
       "2                  ['emang', 'pig', 'mampus', 'ajg']        0.0\n",
       "3                       ['ajg', 'indohome', 'lonte']        0.0\n",
       "4  ['mampus', 'ajg', 'net', 'good', 'gausah', 'pr...   0.133333"
      ]
     },
     "execution_count": 3,
     "metadata": {},
     "output_type": "execute_result"
    }
   ],
   "source": [
    "df.head()"
   ]
  },
  {
   "cell_type": "code",
   "execution_count": 4,
   "id": "e6a604d6-baaf-4141-8010-bbb44c2eb8c1",
   "metadata": {
    "collapsed": true,
    "jupyter": {
     "outputs_hidden": true
    },
    "tags": []
   },
   "outputs": [
    {
     "data": {
      "text/plain": [
       " 0.000000    53\n",
       " 0.200000     6\n",
       " 0.433333     4\n",
       " 0.100000     4\n",
       " 0.500000     2\n",
       "-0.155556     2\n",
       "-0.400000     2\n",
       " 0.600000     2\n",
       "-0.416667     1\n",
       " 0.166667     1\n",
       "-0.150000     1\n",
       "-0.600000     1\n",
       " 0.333333     1\n",
       " 0.300000     1\n",
       "-0.200000     1\n",
       "-0.100000     1\n",
       "-0.300000     1\n",
       "-0.064286     1\n",
       "-0.127778     1\n",
       " 0.316667     1\n",
       " 0.525000     1\n",
       "-0.800000     1\n",
       " 0.100000     1\n",
       "-0.700000     1\n",
       " 0.350000     1\n",
       " 0.566667     1\n",
       "-0.133333     1\n",
       " 0.700000     1\n",
       "-0.525000     1\n",
       " 0.133333     1\n",
       "-0.050000     1\n",
       "Name: label_awal, dtype: int64"
      ]
     },
     "execution_count": 4,
     "metadata": {},
     "output_type": "execute_result"
    }
   ],
   "source": [
    "df['label_awal'].value_counts()"
   ]
  },
  {
   "cell_type": "code",
   "execution_count": 5,
   "id": "682c7c80-0250-4ba2-bf46-c26a3ecc9d0e",
   "metadata": {
    "collapsed": true,
    "jupyter": {
     "outputs_hidden": true
    },
    "tags": []
   },
   "outputs": [
    {
     "data": {
      "text/html": [
       "<div>\n",
       "<style scoped>\n",
       "    .dataframe tbody tr th:only-of-type {\n",
       "        vertical-align: middle;\n",
       "    }\n",
       "\n",
       "    .dataframe tbody tr th {\n",
       "        vertical-align: top;\n",
       "    }\n",
       "\n",
       "    .dataframe thead th {\n",
       "        text-align: right;\n",
       "    }\n",
       "</style>\n",
       "<table border=\"1\" class=\"dataframe\">\n",
       "  <thead>\n",
       "    <tr style=\"text-align: right;\">\n",
       "      <th></th>\n",
       "      <th>comment_english</th>\n",
       "      <th>label</th>\n",
       "    </tr>\n",
       "  </thead>\n",
       "  <tbody>\n",
       "    <tr>\n",
       "      <th>0</th>\n",
       "      <td>['easy', 'fast', 'go bankrupt', 'need']</td>\n",
       "      <td>positive</td>\n",
       "    </tr>\n",
       "    <tr>\n",
       "      <th>1</th>\n",
       "      <td>['base', 'ajg']</td>\n",
       "      <td>negative</td>\n",
       "    </tr>\n",
       "    <tr>\n",
       "      <th>2</th>\n",
       "      <td>['emang', 'pig', 'mampus', 'ajg']</td>\n",
       "      <td>negative</td>\n",
       "    </tr>\n",
       "    <tr>\n",
       "      <th>3</th>\n",
       "      <td>['ajg', 'indohome', 'lonte']</td>\n",
       "      <td>negative</td>\n",
       "    </tr>\n",
       "    <tr>\n",
       "      <th>4</th>\n",
       "      <td>['mampus', 'ajg', 'net', 'good', 'gausah', 'pr...</td>\n",
       "      <td>positive</td>\n",
       "    </tr>\n",
       "    <tr>\n",
       "      <th>...</th>\n",
       "      <td>...</td>\n",
       "      <td>...</td>\n",
       "    </tr>\n",
       "    <tr>\n",
       "      <th>93</th>\n",
       "      <td>['kak', 'internet', 'mati', '']</td>\n",
       "      <td>negative</td>\n",
       "    </tr>\n",
       "    <tr>\n",
       "      <th>94</th>\n",
       "      <td>['waw', 'already', 'panic']</td>\n",
       "      <td>negative</td>\n",
       "    </tr>\n",
       "    <tr>\n",
       "      <th>95</th>\n",
       "      <td>['min', 'channel', 'access', 'cth', 'transtv',...</td>\n",
       "      <td>negative</td>\n",
       "    </tr>\n",
       "    <tr>\n",
       "      <th>96</th>\n",
       "      <td>['try', 'spt', 'pandu', 'please', 'help']</td>\n",
       "      <td>negative</td>\n",
       "    </tr>\n",
       "    <tr>\n",
       "      <th>97</th>\n",
       "      <td>['down', '']</td>\n",
       "      <td>negative</td>\n",
       "    </tr>\n",
       "  </tbody>\n",
       "</table>\n",
       "<p>98 rows × 2 columns</p>\n",
       "</div>"
      ],
      "text/plain": [
       "                                      comment_english     label\n",
       "0             ['easy', 'fast', 'go bankrupt', 'need']  positive\n",
       "1                                     ['base', 'ajg']  negative\n",
       "2                   ['emang', 'pig', 'mampus', 'ajg']  negative\n",
       "3                        ['ajg', 'indohome', 'lonte']  negative\n",
       "4   ['mampus', 'ajg', 'net', 'good', 'gausah', 'pr...  positive\n",
       "..                                                ...       ...\n",
       "93                    ['kak', 'internet', 'mati', '']  negative\n",
       "94                        ['waw', 'already', 'panic']  negative\n",
       "95  ['min', 'channel', 'access', 'cth', 'transtv',...  negative\n",
       "96          ['try', 'spt', 'pandu', 'please', 'help']  negative\n",
       "97                                       ['down', '']  negative\n",
       "\n",
       "[98 rows x 2 columns]"
      ]
     },
     "execution_count": 5,
     "metadata": {},
     "output_type": "execute_result"
    }
   ],
   "source": [
    "label = []\n",
    "for index, row in df.iterrows():\n",
    "    if row['label_awal'] > 0.0:\n",
    "        label.append(\"positive\")\n",
    "    else:\n",
    "        label.append(\"negative\")\n",
    "df[\"label\"] = label\n",
    "df = df.drop(columns=['label_awal'])\n",
    "df.head(2000)"
   ]
  },
  {
   "cell_type": "code",
   "execution_count": 6,
   "id": "fa4a703f-8aec-4f3e-ad09-cd25c38d267d",
   "metadata": {},
   "outputs": [
    {
     "data": {
      "text/plain": [
       "negative    70\n",
       "positive    28\n",
       "Name: label, dtype: int64"
      ]
     },
     "execution_count": 6,
     "metadata": {},
     "output_type": "execute_result"
    }
   ],
   "source": [
    "df['label'].value_counts()"
   ]
  },
  {
   "cell_type": "code",
   "execution_count": 7,
   "id": "9a018197-99bf-4b81-8a00-4d2ac895ee59",
   "metadata": {},
   "outputs": [],
   "source": [
    "df.to_excel('labeling_databersih_instagram_indihome_6.xlsx')"
   ]
  },
  {
   "cell_type": "code",
   "execution_count": null,
   "id": "fc41620a-8dae-4e69-8de4-a3c16991bea6",
   "metadata": {},
   "outputs": [],
   "source": []
  }
 ],
 "metadata": {
  "kernelspec": {
   "display_name": "Python 3 (ipykernel)",
   "language": "python",
   "name": "python3"
  },
  "language_info": {
   "codemirror_mode": {
    "name": "ipython",
    "version": 3
   },
   "file_extension": ".py",
   "mimetype": "text/x-python",
   "name": "python",
   "nbconvert_exporter": "python",
   "pygments_lexer": "ipython3",
   "version": "3.8.12"
  }
 },
 "nbformat": 4,
 "nbformat_minor": 5
}
