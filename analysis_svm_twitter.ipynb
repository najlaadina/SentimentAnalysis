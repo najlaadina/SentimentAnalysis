{
 "cells": [
  {
   "cell_type": "code",
   "execution_count": 1,
   "id": "b95be94b-37ff-43f4-ae10-919c2fbd6fae",
   "metadata": {},
   "outputs": [],
   "source": [
    "import pandas as pd\n",
    "import re\n",
    "import numpy as np\n",
    "import joblib\n",
    "import pickle\n",
    "import matplotlib.pyplot as plt\n",
    "import seaborn as sns\n",
    "from sklearn import model_selection\n",
    "from sklearn.linear_model import LogisticRegression\n",
    "from sklearn.multiclass import OneVsRestClassifier\n",
    "from sklearn.metrics import classification_report\n",
    "from sklearn.metrics import accuracy_score\n",
    "from sklearn.pipeline import Pipeline\n",
    "from sklearn.feature_extraction.text import TfidfVectorizer\n",
    "from sklearn.feature_extraction.text import CountVectorizer\n",
    "from sklearn.feature_extraction.text import TfidfTransformer\n",
    "from sklearn.model_selection import train_test_split\n",
    "from sklearn.svm import SVC\n",
    "from sklearn import metrics\n",
    "%matplotlib inline \n",
    "from wordcloud import WordCloud"
   ]
  },
  {
   "cell_type": "code",
   "execution_count": 2,
   "id": "1bf7b14e-6c8f-492b-8efa-9f53065885b5",
   "metadata": {},
   "outputs": [
    {
     "data": {
      "text/html": [
       "<div>\n",
       "<style scoped>\n",
       "    .dataframe tbody tr th:only-of-type {\n",
       "        vertical-align: middle;\n",
       "    }\n",
       "\n",
       "    .dataframe tbody tr th {\n",
       "        vertical-align: top;\n",
       "    }\n",
       "\n",
       "    .dataframe thead th {\n",
       "        text-align: right;\n",
       "    }\n",
       "</style>\n",
       "<table border=\"1\" class=\"dataframe\">\n",
       "  <thead>\n",
       "    <tr style=\"text-align: right;\">\n",
       "      <th></th>\n",
       "      <th>tweet_english</th>\n",
       "      <th>label</th>\n",
       "    </tr>\n",
       "  </thead>\n",
       "  <tbody>\n",
       "    <tr>\n",
       "      <th>0</th>\n",
       "      <td>['sis',' lutfi ',' matter ',' compensated ',' ...</td>\n",
       "      <td>positive</td>\n",
       "    </tr>\n",
       "    <tr>\n",
       "      <th>1</th>\n",
       "      <td>['min', 'why', \"]</td>\n",
       "      <td>negative</td>\n",
       "    </tr>\n",
       "    <tr>\n",
       "      <th>2</th>\n",
       "      <td>['indihome', 'flop', 'really', 'roll', 'loadin...</td>\n",
       "      <td>positive</td>\n",
       "    </tr>\n",
       "    <tr>\n",
       "      <th>3</th>\n",
       "      <td>['please', 'check', '']</td>\n",
       "      <td>negative</td>\n",
       "    </tr>\n",
       "    <tr>\n",
       "      <th>4</th>\n",
       "      <td>['connect', 'lan', 'ps', 'how', 'sis', 'fail']</td>\n",
       "      <td>negative</td>\n",
       "    </tr>\n",
       "    <tr>\n",
       "      <th>...</th>\n",
       "      <td>...</td>\n",
       "      <td>...</td>\n",
       "    </tr>\n",
       "    <tr>\n",
       "      <th>3995</th>\n",
       "      <td>['access', 'indihome', 'net', 'telkomsel']</td>\n",
       "      <td>negative</td>\n",
       "    </tr>\n",
       "    <tr>\n",
       "      <th>3996</th>\n",
       "      <td>['hello', 'boss', 'kekmin', 'internet', 'dead'...</td>\n",
       "      <td>negative</td>\n",
       "    </tr>\n",
       "    <tr>\n",
       "      <th>3997</th>\n",
       "      <td>['indihome', 'really', 'nge', 'block', 'spotif...</td>\n",
       "      <td>positive</td>\n",
       "    </tr>\n",
       "    <tr>\n",
       "      <th>3998</th>\n",
       "      <td>['indihome', 'rlly', 'testing', '']</td>\n",
       "      <td>negative</td>\n",
       "    </tr>\n",
       "    <tr>\n",
       "      <th>3999</th>\n",
       "      <td>['clock', 'clock', 'indihome', 'gembel']</td>\n",
       "      <td>negative</td>\n",
       "    </tr>\n",
       "  </tbody>\n",
       "</table>\n",
       "<p>4000 rows × 2 columns</p>\n",
       "</div>"
      ],
      "text/plain": [
       "                                          tweet_english     label\n",
       "0     ['sis',' lutfi ',' matter ',' compensated ',' ...  positive\n",
       "1                                     ['min', 'why', \"]  negative\n",
       "2     ['indihome', 'flop', 'really', 'roll', 'loadin...  positive\n",
       "3                               ['please', 'check', '']  negative\n",
       "4        ['connect', 'lan', 'ps', 'how', 'sis', 'fail']  negative\n",
       "...                                                 ...       ...\n",
       "3995         ['access', 'indihome', 'net', 'telkomsel']  negative\n",
       "3996  ['hello', 'boss', 'kekmin', 'internet', 'dead'...  negative\n",
       "3997  ['indihome', 'really', 'nge', 'block', 'spotif...  positive\n",
       "3998                ['indihome', 'rlly', 'testing', '']  negative\n",
       "3999           ['clock', 'clock', 'indihome', 'gembel']  negative\n",
       "\n",
       "[4000 rows x 2 columns]"
      ]
     },
     "execution_count": 2,
     "metadata": {},
     "output_type": "execute_result"
    }
   ],
   "source": [
    "columns=['tweet_english','label']\n",
    "df = pd.read_excel(r'C:\\Users\\Hp\\TUGAS AKHIR 2\\data_twitter.xlsx', usecols=columns)\n",
    "df = df.replace(r'^\\s*$', np.nan, regex=True)\n",
    "df.head(4000)"
   ]
  },
  {
   "cell_type": "code",
   "execution_count": 3,
   "id": "194e8469-0db7-458a-a9f3-0e37def11369",
   "metadata": {},
   "outputs": [
    {
     "data": {
      "text/html": [
       "<div>\n",
       "<style scoped>\n",
       "    .dataframe tbody tr th:only-of-type {\n",
       "        vertical-align: middle;\n",
       "    }\n",
       "\n",
       "    .dataframe tbody tr th {\n",
       "        vertical-align: top;\n",
       "    }\n",
       "\n",
       "    .dataframe thead th {\n",
       "        text-align: right;\n",
       "    }\n",
       "</style>\n",
       "<table border=\"1\" class=\"dataframe\">\n",
       "  <thead>\n",
       "    <tr style=\"text-align: right;\">\n",
       "      <th></th>\n",
       "      <th>tweet_english</th>\n",
       "      <th>label</th>\n",
       "      <th>polaritas</th>\n",
       "    </tr>\n",
       "  </thead>\n",
       "  <tbody>\n",
       "    <tr>\n",
       "      <th>0</th>\n",
       "      <td>['sis',' lutfi ',' matter ',' compensated ',' ...</td>\n",
       "      <td>positive</td>\n",
       "      <td>1</td>\n",
       "    </tr>\n",
       "    <tr>\n",
       "      <th>1</th>\n",
       "      <td>['min', 'why', \"]</td>\n",
       "      <td>negative</td>\n",
       "      <td>-1</td>\n",
       "    </tr>\n",
       "    <tr>\n",
       "      <th>2</th>\n",
       "      <td>['indihome', 'flop', 'really', 'roll', 'loadin...</td>\n",
       "      <td>positive</td>\n",
       "      <td>1</td>\n",
       "    </tr>\n",
       "    <tr>\n",
       "      <th>3</th>\n",
       "      <td>['please', 'check', '']</td>\n",
       "      <td>negative</td>\n",
       "      <td>-1</td>\n",
       "    </tr>\n",
       "    <tr>\n",
       "      <th>4</th>\n",
       "      <td>['connect', 'lan', 'ps', 'how', 'sis', 'fail']</td>\n",
       "      <td>negative</td>\n",
       "      <td>-1</td>\n",
       "    </tr>\n",
       "    <tr>\n",
       "      <th>...</th>\n",
       "      <td>...</td>\n",
       "      <td>...</td>\n",
       "      <td>...</td>\n",
       "    </tr>\n",
       "    <tr>\n",
       "      <th>22502</th>\n",
       "      <td>['activated', 'card', 'already', 'scorched', '...</td>\n",
       "      <td>negative</td>\n",
       "      <td>-1</td>\n",
       "    </tr>\n",
       "    <tr>\n",
       "      <th>22503</th>\n",
       "      <td>['sis',' help ',' hook ',' product ',' service...</td>\n",
       "      <td>positive</td>\n",
       "      <td>1</td>\n",
       "    </tr>\n",
       "    <tr>\n",
       "      <th>22504</th>\n",
       "      <td>['', 'fertilizer', 'indonesia', 'persero', 'pr...</td>\n",
       "      <td>negative</td>\n",
       "      <td>-1</td>\n",
       "    </tr>\n",
       "    <tr>\n",
       "      <th>22505</th>\n",
       "      <td>['hi', 'sis',' princess', 'sorry', 'access',' ...</td>\n",
       "      <td>negative</td>\n",
       "      <td>-1</td>\n",
       "    </tr>\n",
       "    <tr>\n",
       "      <th>22506</th>\n",
       "      <td>['right', 'lightning', 'gede', 'sempet', 'lost...</td>\n",
       "      <td>positive</td>\n",
       "      <td>1</td>\n",
       "    </tr>\n",
       "  </tbody>\n",
       "</table>\n",
       "<p>22507 rows × 3 columns</p>\n",
       "</div>"
      ],
      "text/plain": [
       "                                           tweet_english     label  polaritas\n",
       "0      ['sis',' lutfi ',' matter ',' compensated ',' ...  positive          1\n",
       "1                                      ['min', 'why', \"]  negative         -1\n",
       "2      ['indihome', 'flop', 'really', 'roll', 'loadin...  positive          1\n",
       "3                                ['please', 'check', '']  negative         -1\n",
       "4         ['connect', 'lan', 'ps', 'how', 'sis', 'fail']  negative         -1\n",
       "...                                                  ...       ...        ...\n",
       "22502  ['activated', 'card', 'already', 'scorched', '...  negative         -1\n",
       "22503  ['sis',' help ',' hook ',' product ',' service...  positive          1\n",
       "22504  ['', 'fertilizer', 'indonesia', 'persero', 'pr...  negative         -1\n",
       "22505  ['hi', 'sis',' princess', 'sorry', 'access',' ...  negative         -1\n",
       "22506  ['right', 'lightning', 'gede', 'sempet', 'lost...  positive          1\n",
       "\n",
       "[22507 rows x 3 columns]"
      ]
     },
     "execution_count": 3,
     "metadata": {},
     "output_type": "execute_result"
    }
   ],
   "source": [
    "df['polaritas'] = df.label.map({'positive':1, 'negative':-1})\n",
    "df"
   ]
  },
  {
   "cell_type": "code",
   "execution_count": 4,
   "id": "b4bb3240-96a4-4fad-94be-f299fa60da11",
   "metadata": {},
   "outputs": [
    {
     "name": "stdout",
     "output_type": "stream",
     "text": [
      "(22507,)\n",
      "(22507,)\n"
     ]
    }
   ],
   "source": [
    "x = np.array(df['tweet_english'].transpose())\n",
    "y = df['polaritas']\n",
    "print (x.shape)\n",
    "print (y.shape)"
   ]
  },
  {
   "cell_type": "code",
   "execution_count": 5,
   "id": "5cec8d2e-59d0-4350-a691-c1523dbe9812",
   "metadata": {},
   "outputs": [
    {
     "name": "stdout",
     "output_type": "stream",
     "text": [
      "(22507, 16267)\n"
     ]
    }
   ],
   "source": [
    "#vektorisasi\n",
    "vectorizer = TfidfVectorizer()\n",
    "x = vectorizer.fit_transform(x)\n",
    "print(x.shape)"
   ]
  },
  {
   "cell_type": "code",
   "execution_count": 6,
   "id": "133cfc15-7309-447d-92e1-c83851a0ba7a",
   "metadata": {},
   "outputs": [
    {
     "name": "stdout",
     "output_type": "stream",
     "text": [
      "\n",
      " total data train :  (18005,)\n",
      "\n",
      " total data test :  (4502,)\n"
     ]
    }
   ],
   "source": [
    "#splitting dataset ke dalam train dan test data (80 : 20)\n",
    "\n",
    "xtrain, xtest, ytrain, ytest = train_test_split(x,y,test_size=0.2, random_state=42)\n",
    "\n",
    "print ('\\n total data train : ', ytrain.shape)\n",
    "print ('\\n total data test : ', ytest.shape)"
   ]
  },
  {
   "cell_type": "code",
   "execution_count": 7,
   "id": "8ebd6cf4-f33b-4a40-bd88-ee96953af173",
   "metadata": {},
   "outputs": [
    {
     "name": "stdout",
     "output_type": "stream",
     "text": [
      "(18005, 16267)\n",
      "(18005,)\n"
     ]
    }
   ],
   "source": [
    "print(xtrain.shape)\n",
    "print(ytrain.shape)"
   ]
  },
  {
   "cell_type": "code",
   "execution_count": 8,
   "id": "7c88fd9f-4fcb-4e84-8b9b-74e9f563ce71",
   "metadata": {},
   "outputs": [
    {
     "data": {
      "text/plain": [
       "array([-1, -1, -1, ..., -1,  1,  1], dtype=int64)"
      ]
     },
     "execution_count": 8,
     "metadata": {},
     "output_type": "execute_result"
    }
   ],
   "source": [
    "#klasifikasi data (80 : 20)\n",
    "svc = SVC(kernel = \"linear\")\n",
    "\n",
    "#memasukkan data training ke dalam klasifikasi SVM\n",
    "svc = svc.fit(xtrain, ytrain)\n",
    "\n",
    "#melakukan prediksi dari data test\n",
    "predicted = svc.predict(xtest)\n",
    "predicted"
   ]
  },
  {
   "cell_type": "code",
   "execution_count": 9,
   "id": "b9642df3-e7c4-4aea-badf-82c3c76c375f",
   "metadata": {},
   "outputs": [
    {
     "name": "stdout",
     "output_type": "stream",
     "text": [
      "0.9591292758773878\n"
     ]
    }
   ],
   "source": [
    "print(accuracy_score(ytest, predicted))"
   ]
  },
  {
   "cell_type": "code",
   "execution_count": 10,
   "id": "f822b991-2de2-4317-a919-ca46edb8b3b9",
   "metadata": {},
   "outputs": [
    {
     "name": "stdout",
     "output_type": "stream",
     "text": [
      "              precision    recall  f1-score   support\n",
      "\n",
      "          -1       0.96      0.98      0.97      3211\n",
      "           1       0.96      0.90      0.93      1291\n",
      "\n",
      "    accuracy                           0.96      4502\n",
      "   macro avg       0.96      0.94      0.95      4502\n",
      "weighted avg       0.96      0.96      0.96      4502\n",
      "\n"
     ]
    }
   ],
   "source": [
    "print(classification_report(ytest, predicted))"
   ]
  },
  {
   "cell_type": "code",
   "execution_count": 11,
   "id": "78f8965e-3a68-453c-a5fa-b9e3a6f43b96",
   "metadata": {},
   "outputs": [
    {
     "data": {
      "text/plain": [
       "array([[3158,   53],\n",
       "       [ 131, 1160]], dtype=int64)"
      ]
     },
     "execution_count": 11,
     "metadata": {},
     "output_type": "execute_result"
    }
   ],
   "source": [
    "cnf_matrix = metrics.confusion_matrix(ytest, predicted)\n",
    "cnf_matrix"
   ]
  },
  {
   "cell_type": "code",
   "execution_count": 12,
   "id": "d28ccf06-2b97-44b0-be23-3d85c7f73392",
   "metadata": {},
   "outputs": [
    {
     "data": {
      "image/png": "[encoded data removed]",
      "text/plain": [
       "<Figure size 432x288 with 2 Axes>"
      ]
     },
     "metadata": {
      "needs_background": "light"
     },
     "output_type": "display_data"
    }
   ],
   "source": [
    "class_names=[-1,1] # name  of classes\n",
    "fig, ax = plt.subplots()\n",
    "tick_marks = np.arange(len(class_names))\n",
    "plt.xticks(tick_marks, class_names)\n",
    "plt.yticks(tick_marks, class_names)\n",
    "# create heatmap\n",
    "sns.heatmap(pd.DataFrame(cnf_matrix), annot=True, cmap=\"Blues\" ,fmt='g')\n",
    "ax.xaxis.set_label_position(\"top\")\n",
    "plt.tight_layout()\n",
    "plt.title('Confusion matrix', y=1.1)\n",
    "plt.ylabel('Actual label')\n",
    "plt.xlabel('Predicted label')\n",
    "plt.show()"
   ]
  },
  {
   "cell_type": "code",
   "execution_count": null,
   "id": "a11b09e9-f07a-4d72-9f48-4bac258c9e8e",
   "metadata": {},
   "outputs": [],
   "source": []
  }
 ],
 "metadata": {
  "kernelspec": {
   "display_name": "Python 3 (ipykernel)",
   "language": "python",
   "name": "python3"
  },
  "language_info": {
   "codemirror_mode": {
    "name": "ipython",
    "version": 3
   },
   "file_extension": ".py",
   "mimetype": "text/x-python",
   "name": "python",
   "nbconvert_exporter": "python",
   "pygments_lexer": "ipython3",
   "version": "3.8.12"
  }
 },
 "nbformat": 4,
 "nbformat_minor": 5
}
