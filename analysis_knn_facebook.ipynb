{
 "cells": [
  {
   "cell_type": "code",
   "execution_count": 2,
   "id": "8cd72799-a14d-4a88-99bc-3d6ff889ee24",
   "metadata": {},
   "outputs": [],
   "source": [
    "import pandas as pd\n",
    "import re\n",
    "import numpy as np\n",
    "import joblib\n",
    "import pickle\n",
    "import matplotlib.pyplot as plt\n",
    "import seaborn as sns\n",
    "from sklearn import model_selection\n",
    "from sklearn.linear_model import LogisticRegression\n",
    "from sklearn.multiclass import OneVsRestClassifier\n",
    "from sklearn.metrics import classification_report\n",
    "from sklearn.metrics import accuracy_score\n",
    "from sklearn.pipeline import Pipeline\n",
    "from sklearn.feature_extraction.text import TfidfVectorizer\n",
    "from sklearn.feature_extraction.text import CountVectorizer\n",
    "from sklearn.feature_extraction.text import TfidfTransformer\n",
    "from sklearn.model_selection import train_test_split\n",
    "from sklearn.neighbors import KNeighborsClassifier\n",
    "from sklearn import metrics\n",
    "%matplotlib inline \n",
    "from wordcloud import WordCloud"
   ]
  },
  {
   "cell_type": "code",
   "execution_count": 3,
   "id": "d1206a94-e0d1-48bf-acac-841885971231",
   "metadata": {},
   "outputs": [
    {
     "data": {
      "text/html": [
       "<div>\n",
       "<style scoped>\n",
       "    .dataframe tbody tr th:only-of-type {\n",
       "        vertical-align: middle;\n",
       "    }\n",
       "\n",
       "    .dataframe tbody tr th {\n",
       "        vertical-align: top;\n",
       "    }\n",
       "\n",
       "    .dataframe thead th {\n",
       "        text-align: right;\n",
       "    }\n",
       "</style>\n",
       "<table border=\"1\" class=\"dataframe\">\n",
       "  <thead>\n",
       "    <tr style=\"text-align: right;\">\n",
       "      <th></th>\n",
       "      <th>comment_english</th>\n",
       "      <th>label</th>\n",
       "    </tr>\n",
       "  </thead>\n",
       "  <tbody>\n",
       "    <tr>\n",
       "      <th>0</th>\n",
       "      <td>['suggestion', 'good']</td>\n",
       "      <td>positive</td>\n",
       "    </tr>\n",
       "    <tr>\n",
       "      <th>1</th>\n",
       "      <td>['suggestion', 'cool']</td>\n",
       "      <td>positive</td>\n",
       "    </tr>\n",
       "    <tr>\n",
       "      <th>2</th>\n",
       "      <td>['suggestion', 'cool', '']</td>\n",
       "      <td>positive</td>\n",
       "    </tr>\n",
       "    <tr>\n",
       "      <th>3</th>\n",
       "      <td>['hmmm', 'tips', 'mimin', '']</td>\n",
       "      <td>negative</td>\n",
       "    </tr>\n",
       "    <tr>\n",
       "      <th>4</th>\n",
       "      <td>['ticket', 'responds',' indohome ',' base ',' ...</td>\n",
       "      <td>negative</td>\n",
       "    </tr>\n",
       "    <tr>\n",
       "      <th>...</th>\n",
       "      <td>...</td>\n",
       "      <td>...</td>\n",
       "    </tr>\n",
       "    <tr>\n",
       "      <th>3995</th>\n",
       "      <td>['function', 'telkomsel', 'points', 'serious',...</td>\n",
       "      <td>negative</td>\n",
       "    </tr>\n",
       "    <tr>\n",
       "      <th>3996</th>\n",
       "      <td>['boss', 'infoya', 'just', 'access', 'ehh', 'h...</td>\n",
       "      <td>negative</td>\n",
       "    </tr>\n",
       "    <tr>\n",
       "      <th>3997</th>\n",
       "      <td>['min', 'check', 'points', 'dial', 'exchange']</td>\n",
       "      <td>negative</td>\n",
       "    </tr>\n",
       "    <tr>\n",
       "      <th>3998</th>\n",
       "      <td>['what', 'package', 'combo', 'sakti', 'min', '...</td>\n",
       "      <td>negative</td>\n",
       "    </tr>\n",
       "    <tr>\n",
       "      <th>3999</th>\n",
       "      <td>['woy', 'quota', 'night', 'open', 'google', 'y...</td>\n",
       "      <td>negative</td>\n",
       "    </tr>\n",
       "  </tbody>\n",
       "</table>\n",
       "<p>4000 rows × 2 columns</p>\n",
       "</div>"
      ],
      "text/plain": [
       "                                        comment_english     label\n",
       "0                                ['suggestion', 'good']  positive\n",
       "1                                ['suggestion', 'cool']  positive\n",
       "2                            ['suggestion', 'cool', '']  positive\n",
       "3                         ['hmmm', 'tips', 'mimin', '']  negative\n",
       "4     ['ticket', 'responds',' indohome ',' base ',' ...  negative\n",
       "...                                                 ...       ...\n",
       "3995  ['function', 'telkomsel', 'points', 'serious',...  negative\n",
       "3996  ['boss', 'infoya', 'just', 'access', 'ehh', 'h...  negative\n",
       "3997     ['min', 'check', 'points', 'dial', 'exchange']  negative\n",
       "3998  ['what', 'package', 'combo', 'sakti', 'min', '...  negative\n",
       "3999  ['woy', 'quota', 'night', 'open', 'google', 'y...  negative\n",
       "\n",
       "[4000 rows x 2 columns]"
      ]
     },
     "execution_count": 3,
     "metadata": {},
     "output_type": "execute_result"
    }
   ],
   "source": [
    "columns=['comment_english','label']\n",
    "df = pd.read_excel(r'C:\\Users\\Hp\\TUGAS AKHIR 2\\data_facebook.xlsx', usecols=columns)\n",
    "df = df.replace(r'^\\s*$', np.nan, regex=True)\n",
    "df.head(4000)"
   ]
  },
  {
   "cell_type": "code",
   "execution_count": 4,
   "id": "2c9091b5-654e-45ed-a0a8-8d764ca6a75d",
   "metadata": {},
   "outputs": [
    {
     "data": {
      "text/html": [
       "<div>\n",
       "<style scoped>\n",
       "    .dataframe tbody tr th:only-of-type {\n",
       "        vertical-align: middle;\n",
       "    }\n",
       "\n",
       "    .dataframe tbody tr th {\n",
       "        vertical-align: top;\n",
       "    }\n",
       "\n",
       "    .dataframe thead th {\n",
       "        text-align: right;\n",
       "    }\n",
       "</style>\n",
       "<table border=\"1\" class=\"dataframe\">\n",
       "  <thead>\n",
       "    <tr style=\"text-align: right;\">\n",
       "      <th></th>\n",
       "      <th>comment_english</th>\n",
       "      <th>label</th>\n",
       "      <th>polaritas</th>\n",
       "    </tr>\n",
       "  </thead>\n",
       "  <tbody>\n",
       "    <tr>\n",
       "      <th>0</th>\n",
       "      <td>['suggestion', 'good']</td>\n",
       "      <td>positive</td>\n",
       "      <td>1</td>\n",
       "    </tr>\n",
       "    <tr>\n",
       "      <th>1</th>\n",
       "      <td>['suggestion', 'cool']</td>\n",
       "      <td>positive</td>\n",
       "      <td>1</td>\n",
       "    </tr>\n",
       "    <tr>\n",
       "      <th>2</th>\n",
       "      <td>['suggestion', 'cool', '']</td>\n",
       "      <td>positive</td>\n",
       "      <td>1</td>\n",
       "    </tr>\n",
       "    <tr>\n",
       "      <th>3</th>\n",
       "      <td>['hmmm', 'tips', 'mimin', '']</td>\n",
       "      <td>negative</td>\n",
       "      <td>-1</td>\n",
       "    </tr>\n",
       "    <tr>\n",
       "      <th>4</th>\n",
       "      <td>['ticket', 'responds',' indohome ',' base ',' ...</td>\n",
       "      <td>negative</td>\n",
       "      <td>-1</td>\n",
       "    </tr>\n",
       "    <tr>\n",
       "      <th>...</th>\n",
       "      <td>...</td>\n",
       "      <td>...</td>\n",
       "      <td>...</td>\n",
       "    </tr>\n",
       "    <tr>\n",
       "      <th>6662</th>\n",
       "      <td>['', 'hope', 'telkomsel', 'bonus', 'package', ...</td>\n",
       "      <td>negative</td>\n",
       "      <td>-1</td>\n",
       "    </tr>\n",
       "    <tr>\n",
       "      <th>6663</th>\n",
       "      <td>['carcass']</td>\n",
       "      <td>negative</td>\n",
       "      <td>-1</td>\n",
       "    </tr>\n",
       "    <tr>\n",
       "      <th>6664</th>\n",
       "      <td>['come on', 'pakek', 'card']</td>\n",
       "      <td>negative</td>\n",
       "      <td>-1</td>\n",
       "    </tr>\n",
       "    <tr>\n",
       "      <th>6665</th>\n",
       "      <td>['person', 'bored', 'card', 'telkom', 'net', '...</td>\n",
       "      <td>negative</td>\n",
       "      <td>-1</td>\n",
       "    </tr>\n",
       "    <tr>\n",
       "      <th>6666</th>\n",
       "      <td>['sis', 'how', 'topup', 'pulse', 'application'...</td>\n",
       "      <td>negative</td>\n",
       "      <td>-1</td>\n",
       "    </tr>\n",
       "  </tbody>\n",
       "</table>\n",
       "<p>6667 rows × 3 columns</p>\n",
       "</div>"
      ],
      "text/plain": [
       "                                        comment_english     label  polaritas\n",
       "0                                ['suggestion', 'good']  positive          1\n",
       "1                                ['suggestion', 'cool']  positive          1\n",
       "2                            ['suggestion', 'cool', '']  positive          1\n",
       "3                         ['hmmm', 'tips', 'mimin', '']  negative         -1\n",
       "4     ['ticket', 'responds',' indohome ',' base ',' ...  negative         -1\n",
       "...                                                 ...       ...        ...\n",
       "6662  ['', 'hope', 'telkomsel', 'bonus', 'package', ...  negative         -1\n",
       "6663                                        ['carcass']  negative         -1\n",
       "6664                       ['come on', 'pakek', 'card']  negative         -1\n",
       "6665  ['person', 'bored', 'card', 'telkom', 'net', '...  negative         -1\n",
       "6666  ['sis', 'how', 'topup', 'pulse', 'application'...  negative         -1\n",
       "\n",
       "[6667 rows x 3 columns]"
      ]
     },
     "execution_count": 4,
     "metadata": {},
     "output_type": "execute_result"
    }
   ],
   "source": [
    "df['polaritas'] = df.label.map({'positive':1, 'negative':-1})\n",
    "df"
   ]
  },
  {
   "cell_type": "code",
   "execution_count": 5,
   "id": "9f360f54-05c5-4678-8b27-3a444395a6ed",
   "metadata": {},
   "outputs": [
    {
     "name": "stdout",
     "output_type": "stream",
     "text": [
      "(6667,)\n",
      "(6667,)\n"
     ]
    }
   ],
   "source": [
    "x = np.array(df['comment_english'].transpose())\n",
    "y = df['polaritas']\n",
    "print (x.shape)\n",
    "print (y.shape)"
   ]
  },
  {
   "cell_type": "code",
   "execution_count": 6,
   "id": "06ea2400-0d61-4412-bea2-f8c7b8f43f64",
   "metadata": {},
   "outputs": [
    {
     "name": "stdout",
     "output_type": "stream",
     "text": [
      "(6667, 6483)\n"
     ]
    }
   ],
   "source": [
    "#vektorisasi\n",
    "vectorizer = TfidfVectorizer()\n",
    "x = vectorizer.fit_transform(x)\n",
    "print(x.shape)"
   ]
  },
  {
   "cell_type": "code",
   "execution_count": 7,
   "id": "e02f3805-c65d-4ef9-97d8-42ffde16e0b7",
   "metadata": {},
   "outputs": [
    {
     "name": "stdout",
     "output_type": "stream",
     "text": [
      "\n",
      " total data train :  (5333,)\n",
      "\n",
      " total data test :  (1334,)\n"
     ]
    }
   ],
   "source": [
    "#splitting dataset ke dalam train dan test data (80 : 20)\n",
    "\n",
    "xtrain, xtest, ytrain, ytest = train_test_split(x,y,test_size=0.2, random_state=42)\n",
    "\n",
    "print ('\\n total data train : ', ytrain.shape)\n",
    "print ('\\n total data test : ', ytest.shape)"
   ]
  },
  {
   "cell_type": "code",
   "execution_count": 8,
   "id": "3e459c2a-175d-44d1-b101-098025fe4027",
   "metadata": {},
   "outputs": [
    {
     "name": "stdout",
     "output_type": "stream",
     "text": [
      "(5333, 6483)\n",
      "(5333,)\n"
     ]
    }
   ],
   "source": [
    "print(xtrain.shape)\n",
    "print(ytrain.shape)"
   ]
  },
  {
   "cell_type": "code",
   "execution_count": 9,
   "id": "55fbf511-06c7-4c31-aa65-bb79f055a950",
   "metadata": {},
   "outputs": [
    {
     "data": {
      "text/plain": [
       "array([-1, -1, -1, ..., -1, -1, -1], dtype=int64)"
      ]
     },
     "execution_count": 9,
     "metadata": {},
     "output_type": "execute_result"
    }
   ],
   "source": [
    "#klasifikasi data (80 : 20)\n",
    "knn = KNeighborsClassifier(n_neighbors=3)\n",
    "\n",
    "#memasukkan data training ke dalam klasifikasi KNN\n",
    "knn = knn.fit(xtrain, ytrain)\n",
    "\n",
    "#melakukan prediksi dari data test\n",
    "predicted = knn.predict(xtest)\n",
    "predicted"
   ]
  },
  {
   "cell_type": "code",
   "execution_count": 10,
   "id": "a4d8b739-ee8c-455b-83fd-37485d70b8c4",
   "metadata": {},
   "outputs": [
    {
     "name": "stdout",
     "output_type": "stream",
     "text": [
      "0.7781109445277361\n"
     ]
    }
   ],
   "source": [
    "print(accuracy_score(ytest, predicted))"
   ]
  },
  {
   "cell_type": "code",
   "execution_count": 11,
   "id": "92a202f4-5523-4ba7-a5ea-2ca4e5d6369a",
   "metadata": {},
   "outputs": [
    {
     "name": "stdout",
     "output_type": "stream",
     "text": [
      "              precision    recall  f1-score   support\n",
      "\n",
      "          -1       0.77      0.99      0.87       986\n",
      "           1       0.92      0.16      0.28       348\n",
      "\n",
      "    accuracy                           0.78      1334\n",
      "   macro avg       0.85      0.58      0.57      1334\n",
      "weighted avg       0.81      0.78      0.71      1334\n",
      "\n"
     ]
    }
   ],
   "source": [
    "print(classification_report(ytest, predicted))"
   ]
  },
  {
   "cell_type": "code",
   "execution_count": 12,
   "id": "63ac01e9-71d1-45cc-acb6-ca931f565d45",
   "metadata": {},
   "outputs": [
    {
     "data": {
      "text/plain": [
       "array([[981,   5],\n",
       "       [291,  57]], dtype=int64)"
      ]
     },
     "execution_count": 12,
     "metadata": {},
     "output_type": "execute_result"
    }
   ],
   "source": [
    "cnf_matrix = metrics.confusion_matrix(ytest, predicted)\n",
    "cnf_matrix"
   ]
  },
  {
   "cell_type": "code",
   "execution_count": 13,
   "id": "6d0252aa-f0c0-485b-8b13-2fdd37ede564",
   "metadata": {},
   "outputs": [
    {
     "data": {
      "image/png": "[encoded data removed]",
      "text/plain": [
       "<Figure size 432x288 with 2 Axes>"
      ]
     },
     "metadata": {
      "needs_background": "light"
     },
     "output_type": "display_data"
    }
   ],
   "source": [
    "class_names=[-1,1] # name  of classes\n",
    "fig, ax = plt.subplots()\n",
    "tick_marks = np.arange(len(class_names))\n",
    "plt.xticks(tick_marks, class_names)\n",
    "plt.yticks(tick_marks, class_names)\n",
    "# create heatmap\n",
    "sns.heatmap(pd.DataFrame(cnf_matrix), annot=True, cmap=\"Blues\" ,fmt='g')\n",
    "ax.xaxis.set_label_position(\"top\")\n",
    "plt.tight_layout()\n",
    "plt.title('Confusion matrix', y=1.1)\n",
    "plt.ylabel('Actual label')\n",
    "plt.xlabel('Predicted label')\n",
    "plt.show()"
   ]
  },
  {
   "cell_type": "code",
   "execution_count": null,
   "id": "0d1efd17-59fe-4a03-9b0a-ca6ace9b58c2",
   "metadata": {},
   "outputs": [],
   "source": []
  }
 ],
 "metadata": {
  "kernelspec": {
   "display_name": "Python 3 (ipykernel)",
   "language": "python",
   "name": "python3"
  },
  "language_info": {
   "codemirror_mode": {
    "name": "ipython",
    "version": 3
   },
   "file_extension": ".py",
   "mimetype": "text/x-python",
   "name": "python",
   "nbconvert_exporter": "python",
   "pygments_lexer": "ipython3",
   "version": "3.8.12"
  }
 },
 "nbformat": 4,
 "nbformat_minor": 5
}
