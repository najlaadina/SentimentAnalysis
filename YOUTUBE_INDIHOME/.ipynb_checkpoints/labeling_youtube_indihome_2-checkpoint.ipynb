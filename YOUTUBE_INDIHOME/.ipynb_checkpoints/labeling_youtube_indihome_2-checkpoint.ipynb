{
 "cells": [
  {
   "cell_type": "code",
   "execution_count": 1,
   "id": "6908af43-eba5-470b-a7a4-30ca5fa20bf8",
   "metadata": {},
   "outputs": [],
   "source": [
    "import pandas as pd\n",
    "from textblob import TextBlob"
   ]
  },
  {
   "cell_type": "code",
   "execution_count": 2,
   "id": "a4e666f2-ea6e-4a8a-9f4a-89611e93a6e8",
   "metadata": {
    "tags": []
   },
   "outputs": [
    {
     "data": {
      "text/html": [
       "<div>\n",
       "<style scoped>\n",
       "    .dataframe tbody tr th:only-of-type {\n",
       "        vertical-align: middle;\n",
       "    }\n",
       "\n",
       "    .dataframe tbody tr th {\n",
       "        vertical-align: top;\n",
       "    }\n",
       "\n",
       "    .dataframe thead th {\n",
       "        text-align: right;\n",
       "    }\n",
       "</style>\n",
       "<table border=\"1\" class=\"dataframe\">\n",
       "  <thead>\n",
       "    <tr style=\"text-align: right;\">\n",
       "      <th></th>\n",
       "      <th>comment_english</th>\n",
       "    </tr>\n",
       "  </thead>\n",
       "  <tbody>\n",
       "    <tr>\n",
       "      <th>0</th>\n",
       "      <td>['Indihome', 'Mbps', 'steady']</td>\n",
       "    </tr>\n",
       "    <tr>\n",
       "      <th>1</th>\n",
       "      <td>['connection', 'broke', 'clock', 'clock', 'lot...</td>\n",
       "    </tr>\n",
       "    <tr>\n",
       "      <th>2</th>\n",
       "      <td>['Stay', 'County', 'Nabire', 'Papua', 'Net', '...</td>\n",
       "    </tr>\n",
       "    <tr>\n",
       "      <th>3</th>\n",
       "      <td>['', 'God', 'wifi', 'Indihome', 'price', 'supe...</td>\n",
       "    </tr>\n",
       "    <tr>\n",
       "      <th>4</th>\n",
       "      <td>['Channel', 'USE', 'complete', 'MNC', 'Media',...</td>\n",
       "    </tr>\n",
       "    <tr>\n",
       "      <th>...</th>\n",
       "      <td>...</td>\n",
       "    </tr>\n",
       "    <tr>\n",
       "      <th>109</th>\n",
       "      <td>['Ajh', 'Masang', 'Idhme', 'Masang', 'Mingu', ...</td>\n",
       "    </tr>\n",
       "    <tr>\n",
       "      <th>110</th>\n",
       "      <td>['Beautiful', 'Mbak', \"]</td>\n",
       "    </tr>\n",
       "    <tr>\n",
       "      <th>111</th>\n",
       "      <td>['Boy', 'bilek', 'Mak', 'entered', 'MAKK', 'WU...</td>\n",
       "    </tr>\n",
       "    <tr>\n",
       "      <th>112</th>\n",
       "      <td>['Hi darling']</td>\n",
       "    </tr>\n",
       "    <tr>\n",
       "      <th>113</th>\n",
       "      <td>['Ribeeet']</td>\n",
       "    </tr>\n",
       "  </tbody>\n",
       "</table>\n",
       "<p>114 rows × 1 columns</p>\n",
       "</div>"
      ],
      "text/plain": [
       "                                       comment_english\n",
       "0                       ['Indihome', 'Mbps', 'steady']\n",
       "1    ['connection', 'broke', 'clock', 'clock', 'lot...\n",
       "2    ['Stay', 'County', 'Nabire', 'Papua', 'Net', '...\n",
       "3    ['', 'God', 'wifi', 'Indihome', 'price', 'supe...\n",
       "4    ['Channel', 'USE', 'complete', 'MNC', 'Media',...\n",
       "..                                                 ...\n",
       "109  ['Ajh', 'Masang', 'Idhme', 'Masang', 'Mingu', ...\n",
       "110                           ['Beautiful', 'Mbak', \"]\n",
       "111  ['Boy', 'bilek', 'Mak', 'entered', 'MAKK', 'WU...\n",
       "112                                     ['Hi darling']\n",
       "113                                        ['Ribeeet']\n",
       "\n",
       "[114 rows x 1 columns]"
      ]
     },
     "execution_count": 2,
     "metadata": {},
     "output_type": "execute_result"
    }
   ],
   "source": [
    "columns = [\"comment_english\"]\n",
    "df = pd.read_excel(r'C:\\Users\\Hp\\TUGAS AKHIR 2\\YOUTUBE_INDIHOME\\databersih_english_youtube_indihome\\databersih_english_youtube_indihome_2.xlsx', usecols=columns)\n",
    "df.head(2000)"
   ]
  },
  {
   "cell_type": "code",
   "execution_count": 3,
   "id": "7f43d988-f763-4845-8924-533b50c638d7",
   "metadata": {
    "tags": []
   },
   "outputs": [
    {
     "data": {
      "text/html": [
       "<div>\n",
       "<style scoped>\n",
       "    .dataframe tbody tr th:only-of-type {\n",
       "        vertical-align: middle;\n",
       "    }\n",
       "\n",
       "    .dataframe tbody tr th {\n",
       "        vertical-align: top;\n",
       "    }\n",
       "\n",
       "    .dataframe thead th {\n",
       "        text-align: right;\n",
       "    }\n",
       "</style>\n",
       "<table border=\"1\" class=\"dataframe\">\n",
       "  <thead>\n",
       "    <tr style=\"text-align: right;\">\n",
       "      <th></th>\n",
       "      <th>comment_english</th>\n",
       "    </tr>\n",
       "  </thead>\n",
       "  <tbody>\n",
       "    <tr>\n",
       "      <th>0</th>\n",
       "      <td>['indihome', 'mbps', 'steady']</td>\n",
       "    </tr>\n",
       "    <tr>\n",
       "      <th>1</th>\n",
       "      <td>['connection', 'broke', 'clock', 'clock', 'lot...</td>\n",
       "    </tr>\n",
       "    <tr>\n",
       "      <th>2</th>\n",
       "      <td>['stay', 'county', 'nabire', 'papua', 'net', '...</td>\n",
       "    </tr>\n",
       "    <tr>\n",
       "      <th>3</th>\n",
       "      <td>['', 'god', 'wifi', 'indihome', 'price', 'supe...</td>\n",
       "    </tr>\n",
       "    <tr>\n",
       "      <th>4</th>\n",
       "      <td>['channel', 'use', 'complete', 'mnc', 'media',...</td>\n",
       "    </tr>\n",
       "    <tr>\n",
       "      <th>...</th>\n",
       "      <td>...</td>\n",
       "    </tr>\n",
       "    <tr>\n",
       "      <th>109</th>\n",
       "      <td>['ajh', 'masang', 'idhme', 'masang', 'mingu', ...</td>\n",
       "    </tr>\n",
       "    <tr>\n",
       "      <th>110</th>\n",
       "      <td>['beautiful', 'mbak', \"]</td>\n",
       "    </tr>\n",
       "    <tr>\n",
       "      <th>111</th>\n",
       "      <td>['boy', 'bilek', 'mak', 'entered', 'makk', 'wu...</td>\n",
       "    </tr>\n",
       "    <tr>\n",
       "      <th>112</th>\n",
       "      <td>['hi darling']</td>\n",
       "    </tr>\n",
       "    <tr>\n",
       "      <th>113</th>\n",
       "      <td>['ribeeet']</td>\n",
       "    </tr>\n",
       "  </tbody>\n",
       "</table>\n",
       "<p>114 rows × 1 columns</p>\n",
       "</div>"
      ],
      "text/plain": [
       "                                       comment_english\n",
       "0                       ['indihome', 'mbps', 'steady']\n",
       "1    ['connection', 'broke', 'clock', 'clock', 'lot...\n",
       "2    ['stay', 'county', 'nabire', 'papua', 'net', '...\n",
       "3    ['', 'god', 'wifi', 'indihome', 'price', 'supe...\n",
       "4    ['channel', 'use', 'complete', 'mnc', 'media',...\n",
       "..                                                 ...\n",
       "109  ['ajh', 'masang', 'idhme', 'masang', 'mingu', ...\n",
       "110                           ['beautiful', 'mbak', \"]\n",
       "111  ['boy', 'bilek', 'mak', 'entered', 'makk', 'wu...\n",
       "112                                     ['hi darling']\n",
       "113                                        ['ribeeet']\n",
       "\n",
       "[114 rows x 1 columns]"
      ]
     },
     "execution_count": 3,
     "metadata": {},
     "output_type": "execute_result"
    }
   ],
   "source": [
    "df['comment_english'] = df['comment_english'].str.lower()\n",
    "df.head(2000)"
   ]
  },
  {
   "cell_type": "code",
   "execution_count": 4,
   "id": "caa4cc06-19d3-4f37-b396-05e6322206f2",
   "metadata": {
    "tags": []
   },
   "outputs": [
    {
     "name": "stdout",
     "output_type": "stream",
     "text": [
      "Index:  0 label_awal 0.16666666666666666\n",
      "Index:  1 label_awal 0.0\n",
      "Index:  2 label_awal 0.05\n",
      "Index:  3 label_awal 0.3666666666666667\n",
      "Index:  4 label_awal -0.2\n",
      "Index:  5 label_awal 0.0\n",
      "Index:  6 label_awal 0.0\n",
      "Index:  7 label_awal 0.7\n",
      "Index:  8 label_awal 0.0\n",
      "Index:  9 label_awal 0.0\n",
      "Index:  10 label_awal 0.2\n",
      "Index:  11 label_awal -0.27\n",
      "Index:  12 label_awal 0.0\n",
      "Index:  13 label_awal -0.5\n",
      "Index:  14 label_awal 0.0\n",
      "Index:  15 label_awal 0.0\n",
      "Index:  16 label_awal 0.0\n",
      "Index:  17 label_awal 0.0\n",
      "Index:  18 label_awal 0.0\n",
      "Index:  19 label_awal 0.0\n",
      "Index:  20 label_awal 0.2\n",
      "Index:  21 label_awal 0.0\n",
      "Index:  22 label_awal 0.0\n",
      "Index:  23 label_awal -0.25\n",
      "Index:  24 label_awal 0.0\n",
      "Index:  25 label_awal -0.23333333333333336\n",
      "Index:  26 label_awal 0.0\n",
      "Index:  27 label_awal 0.7\n",
      "Index:  28 label_awal -0.4\n",
      "Index:  29 label_awal 0.0\n",
      "Index:  30 label_awal 0.0\n",
      "Index:  31 label_awal 0.0\n",
      "Index:  32 label_awal 0.0\n",
      "Index:  33 label_awal -0.75\n",
      "Index:  34 label_awal 0.0\n",
      "Index:  35 label_awal 0.0\n",
      "Index:  36 label_awal 0.0\n",
      "Index:  37 label_awal 0.0\n",
      "Index:  38 label_awal 0.0\n",
      "Index:  39 label_awal 0.525\n",
      "Index:  40 label_awal 0.0\n",
      "Index:  41 label_awal -0.225\n",
      "Index:  42 label_awal 0.0\n",
      "Index:  43 label_awal 0.0\n",
      "Index:  44 label_awal 0.35\n",
      "Index:  45 label_awal 0.0\n",
      "Index:  46 label_awal 0.0\n",
      "Index:  47 label_awal 0.0\n",
      "Index:  48 label_awal -0.2\n",
      "Index:  49 label_awal 0.0\n",
      "Index:  50 label_awal -0.2\n",
      "Index:  51 label_awal -0.4\n",
      "Index:  52 label_awal 0.0\n",
      "Index:  53 label_awal 0.0\n",
      "Index:  54 label_awal 0.0\n",
      "Index:  55 label_awal 0.0\n",
      "Index:  56 label_awal 0.16666666666666666\n",
      "Index:  57 label_awal 0.0\n",
      "Index:  58 label_awal 0.0\n",
      "Index:  59 label_awal 0.0\n",
      "Index:  60 label_awal 0.0\n",
      "Index:  61 label_awal 0.0\n",
      "Index:  62 label_awal 0.0\n",
      "Index:  63 label_awal 0.0\n",
      "Index:  64 label_awal 0.0\n",
      "Index:  65 label_awal 0.0\n",
      "Index:  66 label_awal 0.0\n",
      "Index:  67 label_awal 0.0\n",
      "Index:  68 label_awal 0.0\n",
      "Index:  69 label_awal 0.0\n",
      "Index:  70 label_awal 0.0\n",
      "Index:  71 label_awal 0.0\n",
      "Index:  72 label_awal -0.4777777777777778\n",
      "Index:  73 label_awal 0.7\n",
      "Index:  74 label_awal 0.0\n",
      "Index:  75 label_awal 0.0\n",
      "Index:  76 label_awal 0.0\n",
      "Index:  77 label_awal -0.13333333333333333\n",
      "Index:  78 label_awal 0.0\n",
      "Index:  79 label_awal 0.13636363636363635\n",
      "Index:  80 label_awal 0.0\n",
      "Index:  81 label_awal 0.35\n",
      "Index:  82 label_awal 0.2\n",
      "Index:  83 label_awal 0.0\n",
      "Index:  84 label_awal 0.0\n",
      "Index:  85 label_awal 0.0\n",
      "Index:  86 label_awal 0.4\n",
      "Index:  87 label_awal 0.0\n",
      "Index:  88 label_awal 0.0\n",
      "Index:  89 label_awal 0.0\n",
      "Index:  90 label_awal 0.0\n",
      "Index:  91 label_awal 0.7000000000000001\n",
      "Index:  92 label_awal 0.0\n",
      "Index:  93 label_awal 0.225\n",
      "Index:  94 label_awal 0.0\n",
      "Index:  95 label_awal 0.0\n",
      "Index:  96 label_awal 0.0\n",
      "Index:  97 label_awal 0.0\n",
      "Index:  98 label_awal 0.0\n",
      "Index:  99 label_awal 0.0\n",
      "Index:  100 label_awal 0.4\n",
      "Index:  101 label_awal -0.5\n",
      "Index:  102 label_awal 0.0\n",
      "Index:  103 label_awal 0.30000000000000004\n",
      "Index:  104 label_awal 0.5\n",
      "Index:  105 label_awal 0.0\n",
      "Index:  106 label_awal 0.2765151515151515\n",
      "Index:  107 label_awal 0.6125\n",
      "Index:  108 label_awal 0.5499999999999999\n",
      "Index:  109 label_awal 0.0\n",
      "Index:  110 label_awal 0.85\n",
      "Index:  111 label_awal 0.0\n",
      "Index:  112 label_awal 0.0\n",
      "Index:  113 label_awal 0.0\n"
     ]
    }
   ],
   "source": [
    "df['label_awal'] = ''\n",
    "for i,x in df.comment_english.iteritems():\n",
    "    label_awal = TextBlob(x)\n",
    "    df['label_awal'][i] = label_awal.sentiment.polarity\n",
    "    print(\"Index: \", i ,  \"label_awal\" , label_awal.sentiment.polarity)"
   ]
  },
  {
   "cell_type": "code",
   "execution_count": 5,
   "id": "a60f3a11-84bc-488c-a370-e5b849c36863",
   "metadata": {
    "tags": []
   },
   "outputs": [
    {
     "data": {
      "text/html": [
       "<div>\n",
       "<style scoped>\n",
       "    .dataframe tbody tr th:only-of-type {\n",
       "        vertical-align: middle;\n",
       "    }\n",
       "\n",
       "    .dataframe tbody tr th {\n",
       "        vertical-align: top;\n",
       "    }\n",
       "\n",
       "    .dataframe thead th {\n",
       "        text-align: right;\n",
       "    }\n",
       "</style>\n",
       "<table border=\"1\" class=\"dataframe\">\n",
       "  <thead>\n",
       "    <tr style=\"text-align: right;\">\n",
       "      <th></th>\n",
       "      <th>comment_english</th>\n",
       "      <th>label_awal</th>\n",
       "    </tr>\n",
       "  </thead>\n",
       "  <tbody>\n",
       "    <tr>\n",
       "      <th>0</th>\n",
       "      <td>['indihome', 'mbps', 'steady']</td>\n",
       "      <td>0.166667</td>\n",
       "    </tr>\n",
       "    <tr>\n",
       "      <th>1</th>\n",
       "      <td>['connection', 'broke', 'clock', 'clock', 'lot...</td>\n",
       "      <td>0.0</td>\n",
       "    </tr>\n",
       "    <tr>\n",
       "      <th>2</th>\n",
       "      <td>['stay', 'county', 'nabire', 'papua', 'net', '...</td>\n",
       "      <td>0.05</td>\n",
       "    </tr>\n",
       "    <tr>\n",
       "      <th>3</th>\n",
       "      <td>['', 'god', 'wifi', 'indihome', 'price', 'supe...</td>\n",
       "      <td>0.366667</td>\n",
       "    </tr>\n",
       "    <tr>\n",
       "      <th>4</th>\n",
       "      <td>['channel', 'use', 'complete', 'mnc', 'media',...</td>\n",
       "      <td>-0.2</td>\n",
       "    </tr>\n",
       "  </tbody>\n",
       "</table>\n",
       "</div>"
      ],
      "text/plain": [
       "                                     comment_english label_awal\n",
       "0                     ['indihome', 'mbps', 'steady']   0.166667\n",
       "1  ['connection', 'broke', 'clock', 'clock', 'lot...        0.0\n",
       "2  ['stay', 'county', 'nabire', 'papua', 'net', '...       0.05\n",
       "3  ['', 'god', 'wifi', 'indihome', 'price', 'supe...   0.366667\n",
       "4  ['channel', 'use', 'complete', 'mnc', 'media',...       -0.2"
      ]
     },
     "execution_count": 5,
     "metadata": {},
     "output_type": "execute_result"
    }
   ],
   "source": [
    "df.head()"
   ]
  },
  {
   "cell_type": "code",
   "execution_count": 6,
   "id": "b3b11e72-eed0-42b2-bd80-adfa7e997ed5",
   "metadata": {
    "tags": []
   },
   "outputs": [
    {
     "data": {
      "text/plain": [
       " 0.000000    76\n",
       "-0.200000     3\n",
       " 0.700000     3\n",
       " 0.200000     3\n",
       " 0.166667     2\n",
       "-0.400000     2\n",
       " 0.350000     2\n",
       "-0.500000     2\n",
       " 0.400000     2\n",
       " 0.136364     1\n",
       " 0.500000     1\n",
       " 0.300000     1\n",
       " 0.276515     1\n",
       " 0.225000     1\n",
       " 0.700000     1\n",
       " 0.612500     1\n",
       " 0.550000     1\n",
       "-0.225000     1\n",
       "-0.133333     1\n",
       "-0.477778     1\n",
       " 0.525000     1\n",
       "-0.750000     1\n",
       "-0.233333     1\n",
       "-0.250000     1\n",
       "-0.270000     1\n",
       " 0.366667     1\n",
       " 0.050000     1\n",
       " 0.850000     1\n",
       "Name: label_awal, dtype: int64"
      ]
     },
     "execution_count": 6,
     "metadata": {},
     "output_type": "execute_result"
    }
   ],
   "source": [
    "df['label_awal'].value_counts()"
   ]
  },
  {
   "cell_type": "code",
   "execution_count": 10,
   "id": "6bf10a33-3dba-4eca-9ce6-674db1af9dd8",
   "metadata": {
    "tags": []
   },
   "outputs": [
    {
     "ename": "KeyError",
     "evalue": "'label_awal'",
     "output_type": "error",
     "traceback": [
      "\u001b[1;31m---------------------------------------------------------------------------\u001b[0m",
      "\u001b[1;31mKeyError\u001b[0m                                  Traceback (most recent call last)",
      "\u001b[1;32m~\\.conda\\envs\\newENV\\lib\\site-packages\\pandas\\core\\indexes\\base.py\u001b[0m in \u001b[0;36mget_loc\u001b[1;34m(self, key, method, tolerance)\u001b[0m\n\u001b[0;32m   3360\u001b[0m             \u001b[1;32mtry\u001b[0m\u001b[1;33m:\u001b[0m\u001b[1;33m\u001b[0m\u001b[1;33m\u001b[0m\u001b[0m\n\u001b[1;32m-> 3361\u001b[1;33m                 \u001b[1;32mreturn\u001b[0m \u001b[0mself\u001b[0m\u001b[1;33m.\u001b[0m\u001b[0m_engine\u001b[0m\u001b[1;33m.\u001b[0m\u001b[0mget_loc\u001b[0m\u001b[1;33m(\u001b[0m\u001b[0mcasted_key\u001b[0m\u001b[1;33m)\u001b[0m\u001b[1;33m\u001b[0m\u001b[1;33m\u001b[0m\u001b[0m\n\u001b[0m\u001b[0;32m   3362\u001b[0m             \u001b[1;32mexcept\u001b[0m \u001b[0mKeyError\u001b[0m \u001b[1;32mas\u001b[0m \u001b[0merr\u001b[0m\u001b[1;33m:\u001b[0m\u001b[1;33m\u001b[0m\u001b[1;33m\u001b[0m\u001b[0m\n",
      "\u001b[1;32m~\\.conda\\envs\\newENV\\lib\\site-packages\\pandas\\_libs\\index.pyx\u001b[0m in \u001b[0;36mpandas._libs.index.IndexEngine.get_loc\u001b[1;34m()\u001b[0m\n",
      "\u001b[1;32m~\\.conda\\envs\\newENV\\lib\\site-packages\\pandas\\_libs\\index.pyx\u001b[0m in \u001b[0;36mpandas._libs.index.IndexEngine.get_loc\u001b[1;34m()\u001b[0m\n",
      "\u001b[1;32mpandas\\_libs\\hashtable_class_helper.pxi\u001b[0m in \u001b[0;36mpandas._libs.hashtable.PyObjectHashTable.get_item\u001b[1;34m()\u001b[0m\n",
      "\u001b[1;32mpandas\\_libs\\hashtable_class_helper.pxi\u001b[0m in \u001b[0;36mpandas._libs.hashtable.PyObjectHashTable.get_item\u001b[1;34m()\u001b[0m\n",
      "\u001b[1;31mKeyError\u001b[0m: 'label_awal'",
      "\nThe above exception was the direct cause of the following exception:\n",
      "\u001b[1;31mKeyError\u001b[0m                                  Traceback (most recent call last)",
      "\u001b[1;32m~\\AppData\\Local\\Temp/ipykernel_4724/2264131725.py\u001b[0m in \u001b[0;36m<module>\u001b[1;34m\u001b[0m\n\u001b[0;32m      1\u001b[0m \u001b[0mlabel\u001b[0m \u001b[1;33m=\u001b[0m \u001b[1;33m[\u001b[0m\u001b[1;33m]\u001b[0m\u001b[1;33m\u001b[0m\u001b[1;33m\u001b[0m\u001b[0m\n\u001b[0;32m      2\u001b[0m \u001b[1;32mfor\u001b[0m \u001b[0mindex\u001b[0m\u001b[1;33m,\u001b[0m \u001b[0mrow\u001b[0m \u001b[1;32min\u001b[0m \u001b[0mdf\u001b[0m\u001b[1;33m.\u001b[0m\u001b[0miterrows\u001b[0m\u001b[1;33m(\u001b[0m\u001b[1;33m)\u001b[0m\u001b[1;33m:\u001b[0m\u001b[1;33m\u001b[0m\u001b[1;33m\u001b[0m\u001b[0m\n\u001b[1;32m----> 3\u001b[1;33m     \u001b[1;32mif\u001b[0m \u001b[0mrow\u001b[0m\u001b[1;33m[\u001b[0m\u001b[1;34m'label_awal'\u001b[0m\u001b[1;33m]\u001b[0m \u001b[1;33m<\u001b[0m \u001b[1;36m0.0\u001b[0m\u001b[1;33m:\u001b[0m\u001b[1;33m\u001b[0m\u001b[1;33m\u001b[0m\u001b[0m\n\u001b[0m\u001b[0;32m      4\u001b[0m         \u001b[0mlabel\u001b[0m\u001b[1;33m.\u001b[0m\u001b[0mappend\u001b[0m\u001b[1;33m(\u001b[0m\u001b[1;34m\"negative\"\u001b[0m\u001b[1;33m)\u001b[0m\u001b[1;33m\u001b[0m\u001b[1;33m\u001b[0m\u001b[0m\n\u001b[0;32m      5\u001b[0m     \u001b[1;32melse\u001b[0m\u001b[1;33m:\u001b[0m\u001b[1;33m\u001b[0m\u001b[1;33m\u001b[0m\u001b[0m\n",
      "\u001b[1;32m~\\.conda\\envs\\newENV\\lib\\site-packages\\pandas\\core\\series.py\u001b[0m in \u001b[0;36m__getitem__\u001b[1;34m(self, key)\u001b[0m\n\u001b[0;32m    940\u001b[0m \u001b[1;33m\u001b[0m\u001b[0m\n\u001b[0;32m    941\u001b[0m         \u001b[1;32melif\u001b[0m \u001b[0mkey_is_scalar\u001b[0m\u001b[1;33m:\u001b[0m\u001b[1;33m\u001b[0m\u001b[1;33m\u001b[0m\u001b[0m\n\u001b[1;32m--> 942\u001b[1;33m             \u001b[1;32mreturn\u001b[0m \u001b[0mself\u001b[0m\u001b[1;33m.\u001b[0m\u001b[0m_get_value\u001b[0m\u001b[1;33m(\u001b[0m\u001b[0mkey\u001b[0m\u001b[1;33m)\u001b[0m\u001b[1;33m\u001b[0m\u001b[1;33m\u001b[0m\u001b[0m\n\u001b[0m\u001b[0;32m    943\u001b[0m \u001b[1;33m\u001b[0m\u001b[0m\n\u001b[0;32m    944\u001b[0m         \u001b[1;32mif\u001b[0m \u001b[0mis_hashable\u001b[0m\u001b[1;33m(\u001b[0m\u001b[0mkey\u001b[0m\u001b[1;33m)\u001b[0m\u001b[1;33m:\u001b[0m\u001b[1;33m\u001b[0m\u001b[1;33m\u001b[0m\u001b[0m\n",
      "\u001b[1;32m~\\.conda\\envs\\newENV\\lib\\site-packages\\pandas\\core\\series.py\u001b[0m in \u001b[0;36m_get_value\u001b[1;34m(self, label, takeable)\u001b[0m\n\u001b[0;32m   1049\u001b[0m \u001b[1;33m\u001b[0m\u001b[0m\n\u001b[0;32m   1050\u001b[0m         \u001b[1;31m# Similar to Index.get_value, but we do not fall back to positional\u001b[0m\u001b[1;33m\u001b[0m\u001b[1;33m\u001b[0m\u001b[1;33m\u001b[0m\u001b[0m\n\u001b[1;32m-> 1051\u001b[1;33m         \u001b[0mloc\u001b[0m \u001b[1;33m=\u001b[0m \u001b[0mself\u001b[0m\u001b[1;33m.\u001b[0m\u001b[0mindex\u001b[0m\u001b[1;33m.\u001b[0m\u001b[0mget_loc\u001b[0m\u001b[1;33m(\u001b[0m\u001b[0mlabel\u001b[0m\u001b[1;33m)\u001b[0m\u001b[1;33m\u001b[0m\u001b[1;33m\u001b[0m\u001b[0m\n\u001b[0m\u001b[0;32m   1052\u001b[0m         \u001b[1;32mreturn\u001b[0m \u001b[0mself\u001b[0m\u001b[1;33m.\u001b[0m\u001b[0mindex\u001b[0m\u001b[1;33m.\u001b[0m\u001b[0m_get_values_for_loc\u001b[0m\u001b[1;33m(\u001b[0m\u001b[0mself\u001b[0m\u001b[1;33m,\u001b[0m \u001b[0mloc\u001b[0m\u001b[1;33m,\u001b[0m \u001b[0mlabel\u001b[0m\u001b[1;33m)\u001b[0m\u001b[1;33m\u001b[0m\u001b[1;33m\u001b[0m\u001b[0m\n\u001b[0;32m   1053\u001b[0m \u001b[1;33m\u001b[0m\u001b[0m\n",
      "\u001b[1;32m~\\.conda\\envs\\newENV\\lib\\site-packages\\pandas\\core\\indexes\\base.py\u001b[0m in \u001b[0;36mget_loc\u001b[1;34m(self, key, method, tolerance)\u001b[0m\n\u001b[0;32m   3361\u001b[0m                 \u001b[1;32mreturn\u001b[0m \u001b[0mself\u001b[0m\u001b[1;33m.\u001b[0m\u001b[0m_engine\u001b[0m\u001b[1;33m.\u001b[0m\u001b[0mget_loc\u001b[0m\u001b[1;33m(\u001b[0m\u001b[0mcasted_key\u001b[0m\u001b[1;33m)\u001b[0m\u001b[1;33m\u001b[0m\u001b[1;33m\u001b[0m\u001b[0m\n\u001b[0;32m   3362\u001b[0m             \u001b[1;32mexcept\u001b[0m \u001b[0mKeyError\u001b[0m \u001b[1;32mas\u001b[0m \u001b[0merr\u001b[0m\u001b[1;33m:\u001b[0m\u001b[1;33m\u001b[0m\u001b[1;33m\u001b[0m\u001b[0m\n\u001b[1;32m-> 3363\u001b[1;33m                 \u001b[1;32mraise\u001b[0m \u001b[0mKeyError\u001b[0m\u001b[1;33m(\u001b[0m\u001b[0mkey\u001b[0m\u001b[1;33m)\u001b[0m \u001b[1;32mfrom\u001b[0m \u001b[0merr\u001b[0m\u001b[1;33m\u001b[0m\u001b[1;33m\u001b[0m\u001b[0m\n\u001b[0m\u001b[0;32m   3364\u001b[0m \u001b[1;33m\u001b[0m\u001b[0m\n\u001b[0;32m   3365\u001b[0m         \u001b[1;32mif\u001b[0m \u001b[0mis_scalar\u001b[0m\u001b[1;33m(\u001b[0m\u001b[0mkey\u001b[0m\u001b[1;33m)\u001b[0m \u001b[1;32mand\u001b[0m \u001b[0misna\u001b[0m\u001b[1;33m(\u001b[0m\u001b[0mkey\u001b[0m\u001b[1;33m)\u001b[0m \u001b[1;32mand\u001b[0m \u001b[1;32mnot\u001b[0m \u001b[0mself\u001b[0m\u001b[1;33m.\u001b[0m\u001b[0mhasnans\u001b[0m\u001b[1;33m:\u001b[0m\u001b[1;33m\u001b[0m\u001b[1;33m\u001b[0m\u001b[0m\n",
      "\u001b[1;31mKeyError\u001b[0m: 'label_awal'"
     ]
    }
   ],
   "source": [
    "label = []\n",
    "for index, row in df.iterrows():\n",
    "    if row['label_awal'] <= 0.0:\n",
    "        label.append(\"negative\")\n",
    "    else:\n",
    "        label.append(\"positive\")\n",
    "df[\"label\"] = label\n",
    "df = df.drop(columns=['label_awal'])\n",
    "df.head(2000)"
   ]
  },
  {
   "cell_type": "code",
   "execution_count": 8,
   "id": "d0f68ee3-28ef-4372-81c9-dc0b304dfbc2",
   "metadata": {},
   "outputs": [
    {
     "data": {
      "text/plain": [
       "positive    100\n",
       "negative     14\n",
       "Name: label, dtype: int64"
      ]
     },
     "execution_count": 8,
     "metadata": {},
     "output_type": "execute_result"
    }
   ],
   "source": [
    "df['label'].value_counts()"
   ]
  },
  {
   "cell_type": "code",
   "execution_count": 9,
   "id": "3da6542d-ab10-4b09-9e70-20d68550892e",
   "metadata": {},
   "outputs": [],
   "source": [
    "df.to_excel('labeling_databersih_youtube_indihome_2.xlsx')"
   ]
  },
  {
   "cell_type": "code",
   "execution_count": null,
   "id": "09f97d13-b6de-45e3-a5b3-366226611a22",
   "metadata": {},
   "outputs": [],
   "source": []
  }
 ],
 "metadata": {
  "kernelspec": {
   "display_name": "Python 3 (ipykernel)",
   "language": "python",
   "name": "python3"
  },
  "language_info": {
   "codemirror_mode": {
    "name": "ipython",
    "version": 3
   },
   "file_extension": ".py",
   "mimetype": "text/x-python",
   "name": "python",
   "nbconvert_exporter": "python",
   "pygments_lexer": "ipython3",
   "version": "3.8.12"
  }
 },
 "nbformat": 4,
 "nbformat_minor": 5
}
