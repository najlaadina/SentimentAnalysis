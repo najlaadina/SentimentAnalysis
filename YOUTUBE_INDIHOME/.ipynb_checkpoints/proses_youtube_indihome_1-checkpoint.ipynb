{
 "cells": [
  {
   "cell_type": "code",
   "execution_count": 1,
   "id": "b1420f44-af42-47a7-9402-b62896b4c7d4",
   "metadata": {},
   "outputs": [],
   "source": [
    "import pandas as pd\n",
    "import numpy as np\n",
    "import matplotlib.pyplot as plt\n",
    "from sklearn.feature_extraction.text import CountVectorizer\n",
    "import nltk\n",
    "import string\n",
    "import re\n",
    "import openpyxl\n",
    "from Sastrawi.StopWordRemover.StopWordRemoverFactory import StopWordRemoverFactory"
   ]
  },
  {
   "cell_type": "code",
   "execution_count": 2,
   "id": "e4ffd155-c685-45ea-9996-473eedb98edc",
   "metadata": {
    "collapsed": true,
    "jupyter": {
     "outputs_hidden": true
    },
    "tags": []
   },
   "outputs": [
    {
     "data": {
      "text/html": [
       "<div>\n",
       "<style scoped>\n",
       "    .dataframe tbody tr th:only-of-type {\n",
       "        vertical-align: middle;\n",
       "    }\n",
       "\n",
       "    .dataframe tbody tr th {\n",
       "        vertical-align: top;\n",
       "    }\n",
       "\n",
       "    .dataframe thead th {\n",
       "        text-align: right;\n",
       "    }\n",
       "</style>\n",
       "<table border=\"1\" class=\"dataframe\">\n",
       "  <thead>\n",
       "    <tr style=\"text-align: right;\">\n",
       "      <th></th>\n",
       "      <th>comment</th>\n",
       "    </tr>\n",
       "  </thead>\n",
       "  <tbody>\n",
       "    <tr>\n",
       "      <th>0</th>\n",
       "      <td>Bang kalo misalnya kita sdh daftar tingal nung...</td>\n",
       "    </tr>\n",
       "    <tr>\n",
       "      <th>1</th>\n",
       "      <td>Apa setiap wilayah berbeda-beda harganya?</td>\n",
       "    </tr>\n",
       "    <tr>\n",
       "      <th>2</th>\n",
       "      <td>Ikut nyimak kawan,sukses</td>\n",
       "    </tr>\n",
       "    <tr>\n",
       "      <th>3</th>\n",
       "      <td>Klo ke desa bisa gak?</td>\n",
       "    </tr>\n",
       "    <tr>\n",
       "      <th>4</th>\n",
       "      <td>Bang nunggu verivikasi telponnya berapa lama ya?</td>\n",
       "    </tr>\n",
       "    <tr>\n",
       "      <th>...</th>\n",
       "      <td>...</td>\n",
       "    </tr>\n",
       "    <tr>\n",
       "      <th>112</th>\n",
       "      <td>Bang itu speednya k uba setela pembayaran atw ...</td>\n",
       "    </tr>\n",
       "    <tr>\n",
       "      <th>113</th>\n",
       "      <td>bang add on movin itu gratis apa bayar ?</td>\n",
       "    </tr>\n",
       "    <tr>\n",
       "      <th>114</th>\n",
       "      <td>bang kl sy upgrade speed setelah pembayaran bu...</td>\n",
       "    </tr>\n",
       "    <tr>\n",
       "      <th>115</th>\n",
       "      <td>Thanks gan, sangat membantu</td>\n",
       "    </tr>\n",
       "    <tr>\n",
       "      <th>116</th>\n",
       "      <td>Tiap x beli jawaban nya c saldo</td>\n",
       "    </tr>\n",
       "  </tbody>\n",
       "</table>\n",
       "<p>117 rows × 1 columns</p>\n",
       "</div>"
      ],
      "text/plain": [
       "                                               comment\n",
       "0    Bang kalo misalnya kita sdh daftar tingal nung...\n",
       "1            Apa setiap wilayah berbeda-beda harganya?\n",
       "2                             Ikut nyimak kawan,sukses\n",
       "3                                Klo ke desa bisa gak?\n",
       "4     Bang nunggu verivikasi telponnya berapa lama ya?\n",
       "..                                                 ...\n",
       "112  Bang itu speednya k uba setela pembayaran atw ...\n",
       "113           bang add on movin itu gratis apa bayar ?\n",
       "114  bang kl sy upgrade speed setelah pembayaran bu...\n",
       "115                        Thanks gan, sangat membantu\n",
       "116                    Tiap x beli jawaban nya c saldo\n",
       "\n",
       "[117 rows x 1 columns]"
      ]
     },
     "execution_count": 2,
     "metadata": {},
     "output_type": "execute_result"
    }
   ],
   "source": [
    "columns = [\"comment\"]\n",
    "df = pd.read_excel(r'C:\\Users\\Hp\\TUGAS AKHIR 2\\YOUTUBE_INDIHOME\\data_mentah\\youtube_indihome_1.xlsx', usecols=columns)\n",
    "df.head(2000)"
   ]
  },
  {
   "cell_type": "code",
   "execution_count": 3,
   "id": "bfad3b09-5b73-4cc6-ac1c-86a698ea58c4",
   "metadata": {
    "tags": []
   },
   "outputs": [
    {
     "ename": "AttributeError",
     "evalue": "'DataFrame' object has no attribute 'content'",
     "output_type": "error",
     "traceback": [
      "\u001b[1;31m---------------------------------------------------------------------------\u001b[0m",
      "\u001b[1;31mAttributeError\u001b[0m                            Traceback (most recent call last)",
      "\u001b[1;32m~\\AppData\\Local\\Temp/ipykernel_5744/243768620.py\u001b[0m in \u001b[0;36m<module>\u001b[1;34m\u001b[0m\n\u001b[1;32m----> 1\u001b[1;33m \u001b[0mdf\u001b[0m\u001b[1;33m.\u001b[0m\u001b[0mcontent\u001b[0m\u001b[1;33m.\u001b[0m\u001b[0mduplicated\u001b[0m\u001b[1;33m(\u001b[0m\u001b[1;33m)\u001b[0m\u001b[1;33m.\u001b[0m\u001b[0msum\u001b[0m\u001b[1;33m(\u001b[0m\u001b[1;33m)\u001b[0m\u001b[1;33m\u001b[0m\u001b[1;33m\u001b[0m\u001b[0m\n\u001b[0m",
      "\u001b[1;32m~\\.conda\\envs\\newENV\\lib\\site-packages\\pandas\\core\\generic.py\u001b[0m in \u001b[0;36m__getattr__\u001b[1;34m(self, name)\u001b[0m\n\u001b[0;32m   5485\u001b[0m         ):\n\u001b[0;32m   5486\u001b[0m             \u001b[1;32mreturn\u001b[0m \u001b[0mself\u001b[0m\u001b[1;33m[\u001b[0m\u001b[0mname\u001b[0m\u001b[1;33m]\u001b[0m\u001b[1;33m\u001b[0m\u001b[1;33m\u001b[0m\u001b[0m\n\u001b[1;32m-> 5487\u001b[1;33m         \u001b[1;32mreturn\u001b[0m \u001b[0mobject\u001b[0m\u001b[1;33m.\u001b[0m\u001b[0m__getattribute__\u001b[0m\u001b[1;33m(\u001b[0m\u001b[0mself\u001b[0m\u001b[1;33m,\u001b[0m \u001b[0mname\u001b[0m\u001b[1;33m)\u001b[0m\u001b[1;33m\u001b[0m\u001b[1;33m\u001b[0m\u001b[0m\n\u001b[0m\u001b[0;32m   5488\u001b[0m \u001b[1;33m\u001b[0m\u001b[0m\n\u001b[0;32m   5489\u001b[0m     \u001b[1;32mdef\u001b[0m \u001b[0m__setattr__\u001b[0m\u001b[1;33m(\u001b[0m\u001b[0mself\u001b[0m\u001b[1;33m,\u001b[0m \u001b[0mname\u001b[0m\u001b[1;33m:\u001b[0m \u001b[0mstr\u001b[0m\u001b[1;33m,\u001b[0m \u001b[0mvalue\u001b[0m\u001b[1;33m)\u001b[0m \u001b[1;33m->\u001b[0m \u001b[1;32mNone\u001b[0m\u001b[1;33m:\u001b[0m\u001b[1;33m\u001b[0m\u001b[1;33m\u001b[0m\u001b[0m\n",
      "\u001b[1;31mAttributeError\u001b[0m: 'DataFrame' object has no attribute 'content'"
     ]
    }
   ],
   "source": [
    "df.comment.duplicated().sum()"
   ]
  },
  {
   "cell_type": "code",
   "execution_count": null,
   "id": "bfc012b3-438b-4d39-a1ea-be03c3dd3c78",
   "metadata": {
    "tags": []
   },
   "outputs": [],
   "source": [
    "df.drop_duplicates(subset=\"comment\", keep=False, inplace=True)\n",
    "df.head(2000)"
   ]
  },
  {
   "cell_type": "code",
   "execution_count": null,
   "id": "2ea83971-492d-4baf-bedf-699a5e1ed7ce",
   "metadata": {
    "tags": []
   },
   "outputs": [],
   "source": [
    "#case folding\n",
    "df['comment'] = df['comment'].str.lower()\n",
    "df.head(2000)"
   ]
  },
  {
   "cell_type": "code",
   "execution_count": null,
   "id": "4afde195-d27a-4689-ac3a-cf64208dd315",
   "metadata": {
    "tags": []
   },
   "outputs": [],
   "source": [
    "#cleaning text\n",
    "import nltk\n",
    "import string\n",
    "import re\n",
    "nltk.download('punkt')\n",
    "\n",
    "#import word_tokenize & FreqDist from NLTK\n",
    "from nltk.tokenize import word_tokenize"
   ]
  },
  {
   "cell_type": "code",
   "execution_count": null,
   "id": "43160f09-ff78-44a5-8bb8-0b14e2aca298",
   "metadata": {
    "tags": []
   },
   "outputs": [],
   "source": [
    "#proses cleaning text\n",
    "def remove_special_tweet(text):\n",
    "    text = ' '.join(re.sub(\"([@#][A-Za-z0-9]+)|(\\w+:\\/\\/\\S+)\", \"\", str(text)).split())\n",
    "    text = re.sub(r'[^a-zA-Z0-9]', ' ', str(text))\n",
    "    text = re.sub(r'\\b\\w{1,2}\\b', ' ', str(text))\n",
    "    text = re.sub(r'\\s\\s+',' ',  str(text))\n",
    "    text = re.sub(r'\\d+', ' ', str(text))\n",
    "    text = re.sub(r'\\b[a-zA-Z]\\b', ' ', str(text))\n",
    "    text = re.sub(r'/(?:https?|ftp):\\/\\/[\\n\\S]+/g, ''', ' ', str(text))\n",
    "    text = re.sub(r'(@[A-Za-z0-9]+)|([^0-9A-Za-z \\t])|(\\w+:\\/\\/\\S+)', ' ', str(text))\n",
    "    text = re.sub(r'[0]', r' ', str(text))\n",
    "    return text\n",
    "    return df\n",
    "df['cleaning_tweet'] = df['comment'].apply(remove_special_tweet)\n",
    "df.head(2000)"
   ]
  },
  {
   "cell_type": "code",
   "execution_count": null,
   "id": "6c32a6cf-9891-4fbd-8005-78cabe86da42",
   "metadata": {
    "tags": []
   },
   "outputs": [],
   "source": [
    "#proses tokenisasi\n",
    "def tokenisasi(text):\n",
    "    text = re.split('\\W+', str(text))\n",
    "    return text\n",
    "    return df\n",
    "df['tokenisasi'] = df['cleaning_tweet'].apply(tokenisasi)\n",
    "df.head(2000)"
   ]
  },
  {
   "cell_type": "code",
   "execution_count": null,
   "id": "28707bb0-2512-4593-8ff7-ba62d138a05d",
   "metadata": {
    "tags": []
   },
   "outputs": [],
   "source": [
    "#import nltk stopword\n",
    "from nltk.corpus import stopwords\n",
    "\n",
    "#proses stopword\n",
    "stopword = nltk.corpus.stopwords.words('indonesian')\n",
    "stopword.extend([\"yg\", \"dg\", \"rt\", \"dgn\", \"ny\", \"d\", 'klo','kalo', 'amp', 'biar', 'bikin', 'bilang','gak', 'ga', 'krn', 'nya', \n",
    "                 'nih', 'sih','si', 'tau', 'tdk', 'tuh', 'tai', 'juga', 'utk', 'ya','jd', 'jgn', 'sdh', 'aja', 'n', 't', 'nyg', 'hehe',\n",
    "                 'pen', 'u', 'nan', 'loh', 'rt', 'kudu', 'mks', 'wkwk', 'an', 'lah', 'dah', 'asu', 'mjb', 'haha',\n",
    "                 'yah', 'lha', 'lah', 'hihi', 'ih', 'anjir', 'bgt', 'pake', 'anj', 'bgst', 'anjir'])\n",
    "def remove_stopwords(text):\n",
    "    text = [word for word in text if word not in stopword]\n",
    "    return text\n",
    "    return df\n",
    "df['stopword'] = df['tokenisasi'].apply(remove_stopwords)\n",
    "df.head(2000)"
   ]
  },
  {
   "cell_type": "code",
   "execution_count": null,
   "id": "88e530fa-2e70-4f8a-a4f3-ab0b5b8f9b88",
   "metadata": {
    "tags": []
   },
   "outputs": [],
   "source": [
    "#stemming\n",
    "# import Sastrawi package\n",
    "from Sastrawi.Stemmer.StemmerFactory import StemmerFactory\n",
    "import swifter\n",
    "\n",
    "# create stemmer\n",
    "factory = StemmerFactory()\n",
    "stemmer = factory.create_stemmer()\n",
    "\n",
    "# stemmed\n",
    "def stemmed_wrapper(term):\n",
    "    return stemmer.stem(term)\n",
    "\n",
    "term_dict = {}\n",
    "\n",
    "for document in df['stopword']:\n",
    "    for term in document:\n",
    "        if term not in term_dict:\n",
    "            term_dict[term] = ' '\n",
    "            \n",
    "print(len(term_dict))\n",
    "print(\"------------------------\")\n",
    "\n",
    "for term in term_dict:\n",
    "    term_dict[term] = stemmed_wrapper(term)\n",
    "    print(term,\":\" ,term_dict[term])\n",
    "    \n",
    "print(term_dict)\n",
    "print(\"------------------------\")\n",
    "\n",
    "\n",
    "# apply stemmed term to dataframe\n",
    "def get_stemmed_term(document):\n",
    "    return [term_dict[term] for term in document]\n",
    "    return df\n",
    "\n",
    "df['stemming'] = df['stopword'].swifter.apply(get_stemmed_term)\n",
    "df.head(2000)"
   ]
  },
  {
   "cell_type": "code",
   "execution_count": null,
   "id": "625a8ac0-8b12-47a3-baf7-5b7ead6724c2",
   "metadata": {},
   "outputs": [],
   "source": [
    "Final = df[['stemming']]\n",
    "Final = Final.rename(columns={'stemming':'Comments'})"
   ]
  },
  {
   "cell_type": "code",
   "execution_count": null,
   "id": "5afe2057-0f8c-4779-b6ab-d6a489868c1b",
   "metadata": {
    "tags": []
   },
   "outputs": [],
   "source": [
    "Final"
   ]
  },
  {
   "cell_type": "code",
   "execution_count": null,
   "id": "92a444d2-2f15-479f-9d8a-dbb7a24ce54f",
   "metadata": {},
   "outputs": [],
   "source": [
    "Final.to_excel('databersih_youtube_indihome_1.xlsx')"
   ]
  },
  {
   "cell_type": "code",
   "execution_count": null,
   "id": "159a200d-c141-4194-99e3-cd9e25ee3d28",
   "metadata": {},
   "outputs": [],
   "source": []
  }
 ],
 "metadata": {
  "kernelspec": {
   "display_name": "Python 3 (ipykernel)",
   "language": "python",
   "name": "python3"
  },
  "language_info": {
   "codemirror_mode": {
    "name": "ipython",
    "version": 3
   },
   "file_extension": ".py",
   "mimetype": "text/x-python",
   "name": "python",
   "nbconvert_exporter": "python",
   "pygments_lexer": "ipython3",
   "version": "3.8.12"
  }
 },
 "nbformat": 4,
 "nbformat_minor": 5
}
