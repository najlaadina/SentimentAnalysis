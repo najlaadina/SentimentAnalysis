{
 "cells": [
  {
   "cell_type": "code",
   "execution_count": 1,
   "id": "6908af43-eba5-470b-a7a4-30ca5fa20bf8",
   "metadata": {},
   "outputs": [],
   "source": [
    "import pandas as pd\n",
    "from textblob import TextBlob"
   ]
  },
  {
   "cell_type": "code",
   "execution_count": 2,
   "id": "a4e666f2-ea6e-4a8a-9f4a-89611e93a6e8",
   "metadata": {
    "tags": []
   },
   "outputs": [
    {
     "data": {
      "text/html": [
       "<div>\n",
       "<style scoped>\n",
       "    .dataframe tbody tr th:only-of-type {\n",
       "        vertical-align: middle;\n",
       "    }\n",
       "\n",
       "    .dataframe tbody tr th {\n",
       "        vertical-align: top;\n",
       "    }\n",
       "\n",
       "    .dataframe thead th {\n",
       "        text-align: right;\n",
       "    }\n",
       "</style>\n",
       "<table border=\"1\" class=\"dataframe\">\n",
       "  <thead>\n",
       "    <tr style=\"text-align: right;\">\n",
       "      <th></th>\n",
       "      <th>comment_english</th>\n",
       "    </tr>\n",
       "  </thead>\n",
       "  <tbody>\n",
       "    <tr>\n",
       "      <th>0</th>\n",
       "      <td>['MaasyaAllah', 'Success', 'Program', 'New', '...</td>\n",
       "    </tr>\n",
       "    <tr>\n",
       "      <th>1</th>\n",
       "      <td>['steady']</td>\n",
       "    </tr>\n",
       "    <tr>\n",
       "      <th>2</th>\n",
       "      <td>['Sukses', 'Trus', 'Hendraaa', \"]</td>\n",
       "    </tr>\n",
       "    <tr>\n",
       "      <th>3</th>\n",
       "      <td>['Success', 'Channel', 'Moga', 'Telkom', 'Jaya']</td>\n",
       "    </tr>\n",
       "    <tr>\n",
       "      <th>4</th>\n",
       "      <td>['Cool', 'duet', 'mas', 'bro', 'hendra', 'aisy...</td>\n",
       "    </tr>\n",
       "    <tr>\n",
       "      <th>5</th>\n",
       "      <td>['Bravo', 'Selatalks', '']</td>\n",
       "    </tr>\n",
       "    <tr>\n",
       "      <th>6</th>\n",
       "      <td>['Wowww', 'mantappp', 'times', 'WarbiaSahhh', ...</td>\n",
       "    </tr>\n",
       "    <tr>\n",
       "      <th>7</th>\n",
       "      <td>['Spirit', 'Teruuuus', 'Moga', 'Telkom', 'Jaya']</td>\n",
       "    </tr>\n",
       "    <tr>\n",
       "      <th>8</th>\n",
       "      <td>['Success', 'TRS', 'Hendra', 'Suryana', \"]</td>\n",
       "    </tr>\n",
       "    <tr>\n",
       "      <th>9</th>\n",
       "      <td>['Healthy', 'Hendra']</td>\n",
       "    </tr>\n",
       "    <tr>\n",
       "      <th>10</th>\n",
       "      <td>['Success', 'Hendra', 'Witel', 'South', '']</td>\n",
       "    </tr>\n",
       "    <tr>\n",
       "      <th>11</th>\n",
       "      <td>['Jaya', 'Hendra']</td>\n",
       "    </tr>\n",
       "    <tr>\n",
       "      <th>12</th>\n",
       "      <td>['Good', 'Lucky', 'Bang', 'Hendra', 'Mpok', 'A...</td>\n",
       "    </tr>\n",
       "    <tr>\n",
       "      <th>13</th>\n",
       "      <td>['', '']</td>\n",
       "    </tr>\n",
       "  </tbody>\n",
       "</table>\n",
       "</div>"
      ],
      "text/plain": [
       "                                      comment_english\n",
       "0   ['MaasyaAllah', 'Success', 'Program', 'New', '...\n",
       "1                                          ['steady']\n",
       "2                   ['Sukses', 'Trus', 'Hendraaa', \"]\n",
       "3    ['Success', 'Channel', 'Moga', 'Telkom', 'Jaya']\n",
       "4   ['Cool', 'duet', 'mas', 'bro', 'hendra', 'aisy...\n",
       "5                          ['Bravo', 'Selatalks', '']\n",
       "6   ['Wowww', 'mantappp', 'times', 'WarbiaSahhh', ...\n",
       "7    ['Spirit', 'Teruuuus', 'Moga', 'Telkom', 'Jaya']\n",
       "8          ['Success', 'TRS', 'Hendra', 'Suryana', \"]\n",
       "9                               ['Healthy', 'Hendra']\n",
       "10        ['Success', 'Hendra', 'Witel', 'South', '']\n",
       "11                                 ['Jaya', 'Hendra']\n",
       "12  ['Good', 'Lucky', 'Bang', 'Hendra', 'Mpok', 'A...\n",
       "13                                           ['', '']"
      ]
     },
     "execution_count": 2,
     "metadata": {},
     "output_type": "execute_result"
    }
   ],
   "source": [
    "columns = [\"comment_english\"]\n",
    "df = pd.read_excel(r'C:\\Users\\Hp\\TUGAS AKHIR 2\\YOUTUBE_INDIHOME\\databersih_english_youtube_indihome\\databersih_english_youtube_indihome_6.xlsx', usecols=columns)\n",
    "df.head(2000)"
   ]
  },
  {
   "cell_type": "code",
   "execution_count": 3,
   "id": "7f43d988-f763-4845-8924-533b50c638d7",
   "metadata": {
    "tags": []
   },
   "outputs": [
    {
     "data": {
      "text/html": [
       "<div>\n",
       "<style scoped>\n",
       "    .dataframe tbody tr th:only-of-type {\n",
       "        vertical-align: middle;\n",
       "    }\n",
       "\n",
       "    .dataframe tbody tr th {\n",
       "        vertical-align: top;\n",
       "    }\n",
       "\n",
       "    .dataframe thead th {\n",
       "        text-align: right;\n",
       "    }\n",
       "</style>\n",
       "<table border=\"1\" class=\"dataframe\">\n",
       "  <thead>\n",
       "    <tr style=\"text-align: right;\">\n",
       "      <th></th>\n",
       "      <th>comment_english</th>\n",
       "    </tr>\n",
       "  </thead>\n",
       "  <tbody>\n",
       "    <tr>\n",
       "      <th>0</th>\n",
       "      <td>['maasyaallah', 'success', 'program', 'new', '...</td>\n",
       "    </tr>\n",
       "    <tr>\n",
       "      <th>1</th>\n",
       "      <td>['steady']</td>\n",
       "    </tr>\n",
       "    <tr>\n",
       "      <th>2</th>\n",
       "      <td>['sukses', 'trus', 'hendraaa', \"]</td>\n",
       "    </tr>\n",
       "    <tr>\n",
       "      <th>3</th>\n",
       "      <td>['success', 'channel', 'moga', 'telkom', 'jaya']</td>\n",
       "    </tr>\n",
       "    <tr>\n",
       "      <th>4</th>\n",
       "      <td>['cool', 'duet', 'mas', 'bro', 'hendra', 'aisy...</td>\n",
       "    </tr>\n",
       "    <tr>\n",
       "      <th>5</th>\n",
       "      <td>['bravo', 'selatalks', '']</td>\n",
       "    </tr>\n",
       "    <tr>\n",
       "      <th>6</th>\n",
       "      <td>['wowww', 'mantappp', 'times', 'warbiasahhh', ...</td>\n",
       "    </tr>\n",
       "    <tr>\n",
       "      <th>7</th>\n",
       "      <td>['spirit', 'teruuuus', 'moga', 'telkom', 'jaya']</td>\n",
       "    </tr>\n",
       "    <tr>\n",
       "      <th>8</th>\n",
       "      <td>['success', 'trs', 'hendra', 'suryana', \"]</td>\n",
       "    </tr>\n",
       "    <tr>\n",
       "      <th>9</th>\n",
       "      <td>['healthy', 'hendra']</td>\n",
       "    </tr>\n",
       "    <tr>\n",
       "      <th>10</th>\n",
       "      <td>['success', 'hendra', 'witel', 'south', '']</td>\n",
       "    </tr>\n",
       "    <tr>\n",
       "      <th>11</th>\n",
       "      <td>['jaya', 'hendra']</td>\n",
       "    </tr>\n",
       "    <tr>\n",
       "      <th>12</th>\n",
       "      <td>['good', 'lucky', 'bang', 'hendra', 'mpok', 'a...</td>\n",
       "    </tr>\n",
       "    <tr>\n",
       "      <th>13</th>\n",
       "      <td>['', '']</td>\n",
       "    </tr>\n",
       "  </tbody>\n",
       "</table>\n",
       "</div>"
      ],
      "text/plain": [
       "                                      comment_english\n",
       "0   ['maasyaallah', 'success', 'program', 'new', '...\n",
       "1                                          ['steady']\n",
       "2                   ['sukses', 'trus', 'hendraaa', \"]\n",
       "3    ['success', 'channel', 'moga', 'telkom', 'jaya']\n",
       "4   ['cool', 'duet', 'mas', 'bro', 'hendra', 'aisy...\n",
       "5                          ['bravo', 'selatalks', '']\n",
       "6   ['wowww', 'mantappp', 'times', 'warbiasahhh', ...\n",
       "7    ['spirit', 'teruuuus', 'moga', 'telkom', 'jaya']\n",
       "8          ['success', 'trs', 'hendra', 'suryana', \"]\n",
       "9                               ['healthy', 'hendra']\n",
       "10        ['success', 'hendra', 'witel', 'south', '']\n",
       "11                                 ['jaya', 'hendra']\n",
       "12  ['good', 'lucky', 'bang', 'hendra', 'mpok', 'a...\n",
       "13                                           ['', '']"
      ]
     },
     "execution_count": 3,
     "metadata": {},
     "output_type": "execute_result"
    }
   ],
   "source": [
    "df['comment_english'] = df['comment_english'].str.lower()\n",
    "df.head(2000)"
   ]
  },
  {
   "cell_type": "code",
   "execution_count": 4,
   "id": "caa4cc06-19d3-4f37-b396-05e6322206f2",
   "metadata": {
    "tags": []
   },
   "outputs": [
    {
     "name": "stdout",
     "output_type": "stream",
     "text": [
      "Index:  0 label_awal 0.3090909090909091\n",
      "Index:  1 label_awal 0.16666666666666666\n",
      "Index:  2 label_awal 0.0\n",
      "Index:  3 label_awal 0.3\n",
      "Index:  4 label_awal 0.32499999999999996\n",
      "Index:  5 label_awal 0.0\n",
      "Index:  6 label_awal 0.0\n",
      "Index:  7 label_awal 0.0\n",
      "Index:  8 label_awal 0.3\n",
      "Index:  9 label_awal 0.5\n",
      "Index:  10 label_awal 0.3\n",
      "Index:  11 label_awal 0.0\n",
      "Index:  12 label_awal 0.5166666666666666\n",
      "Index:  13 label_awal 0.0\n"
     ]
    }
   ],
   "source": [
    "df['label_awal'] = ''\n",
    "for i,x in df.comment_english.iteritems():\n",
    "    label_awal = TextBlob(x)\n",
    "    df['label_awal'][i] = label_awal.sentiment.polarity\n",
    "    print(\"Index: \", i ,  \"label_awal\" , label_awal.sentiment.polarity)"
   ]
  },
  {
   "cell_type": "code",
   "execution_count": 5,
   "id": "a60f3a11-84bc-488c-a370-e5b849c36863",
   "metadata": {
    "tags": []
   },
   "outputs": [
    {
     "data": {
      "text/html": [
       "<div>\n",
       "<style scoped>\n",
       "    .dataframe tbody tr th:only-of-type {\n",
       "        vertical-align: middle;\n",
       "    }\n",
       "\n",
       "    .dataframe tbody tr th {\n",
       "        vertical-align: top;\n",
       "    }\n",
       "\n",
       "    .dataframe thead th {\n",
       "        text-align: right;\n",
       "    }\n",
       "</style>\n",
       "<table border=\"1\" class=\"dataframe\">\n",
       "  <thead>\n",
       "    <tr style=\"text-align: right;\">\n",
       "      <th></th>\n",
       "      <th>comment_english</th>\n",
       "      <th>label_awal</th>\n",
       "    </tr>\n",
       "  </thead>\n",
       "  <tbody>\n",
       "    <tr>\n",
       "      <th>0</th>\n",
       "      <td>['maasyaallah', 'success', 'program', 'new', '...</td>\n",
       "      <td>0.309091</td>\n",
       "    </tr>\n",
       "    <tr>\n",
       "      <th>1</th>\n",
       "      <td>['steady']</td>\n",
       "      <td>0.166667</td>\n",
       "    </tr>\n",
       "    <tr>\n",
       "      <th>2</th>\n",
       "      <td>['sukses', 'trus', 'hendraaa', \"]</td>\n",
       "      <td>0.0</td>\n",
       "    </tr>\n",
       "    <tr>\n",
       "      <th>3</th>\n",
       "      <td>['success', 'channel', 'moga', 'telkom', 'jaya']</td>\n",
       "      <td>0.3</td>\n",
       "    </tr>\n",
       "    <tr>\n",
       "      <th>4</th>\n",
       "      <td>['cool', 'duet', 'mas', 'bro', 'hendra', 'aisy...</td>\n",
       "      <td>0.325</td>\n",
       "    </tr>\n",
       "  </tbody>\n",
       "</table>\n",
       "</div>"
      ],
      "text/plain": [
       "                                     comment_english label_awal\n",
       "0  ['maasyaallah', 'success', 'program', 'new', '...   0.309091\n",
       "1                                         ['steady']   0.166667\n",
       "2                  ['sukses', 'trus', 'hendraaa', \"]        0.0\n",
       "3   ['success', 'channel', 'moga', 'telkom', 'jaya']        0.3\n",
       "4  ['cool', 'duet', 'mas', 'bro', 'hendra', 'aisy...      0.325"
      ]
     },
     "execution_count": 5,
     "metadata": {},
     "output_type": "execute_result"
    }
   ],
   "source": [
    "df.head()"
   ]
  },
  {
   "cell_type": "code",
   "execution_count": 6,
   "id": "b3b11e72-eed0-42b2-bd80-adfa7e997ed5",
   "metadata": {
    "tags": []
   },
   "outputs": [
    {
     "data": {
      "text/plain": [
       "0.000000    6\n",
       "0.300000    3\n",
       "0.309091    1\n",
       "0.166667    1\n",
       "0.325000    1\n",
       "0.500000    1\n",
       "0.516667    1\n",
       "Name: label_awal, dtype: int64"
      ]
     },
     "execution_count": 6,
     "metadata": {},
     "output_type": "execute_result"
    }
   ],
   "source": [
    "df['label_awal'].value_counts()"
   ]
  },
  {
   "cell_type": "code",
   "execution_count": 7,
   "id": "6bf10a33-3dba-4eca-9ce6-674db1af9dd8",
   "metadata": {
    "tags": []
   },
   "outputs": [
    {
     "data": {
      "text/html": [
       "<div>\n",
       "<style scoped>\n",
       "    .dataframe tbody tr th:only-of-type {\n",
       "        vertical-align: middle;\n",
       "    }\n",
       "\n",
       "    .dataframe tbody tr th {\n",
       "        vertical-align: top;\n",
       "    }\n",
       "\n",
       "    .dataframe thead th {\n",
       "        text-align: right;\n",
       "    }\n",
       "</style>\n",
       "<table border=\"1\" class=\"dataframe\">\n",
       "  <thead>\n",
       "    <tr style=\"text-align: right;\">\n",
       "      <th></th>\n",
       "      <th>comment_english</th>\n",
       "      <th>label</th>\n",
       "    </tr>\n",
       "  </thead>\n",
       "  <tbody>\n",
       "    <tr>\n",
       "      <th>0</th>\n",
       "      <td>['maasyaallah', 'success', 'program', 'new', '...</td>\n",
       "      <td>positive</td>\n",
       "    </tr>\n",
       "    <tr>\n",
       "      <th>1</th>\n",
       "      <td>['steady']</td>\n",
       "      <td>positive</td>\n",
       "    </tr>\n",
       "    <tr>\n",
       "      <th>2</th>\n",
       "      <td>['sukses', 'trus', 'hendraaa', \"]</td>\n",
       "      <td>positive</td>\n",
       "    </tr>\n",
       "    <tr>\n",
       "      <th>3</th>\n",
       "      <td>['success', 'channel', 'moga', 'telkom', 'jaya']</td>\n",
       "      <td>positive</td>\n",
       "    </tr>\n",
       "    <tr>\n",
       "      <th>4</th>\n",
       "      <td>['cool', 'duet', 'mas', 'bro', 'hendra', 'aisy...</td>\n",
       "      <td>positive</td>\n",
       "    </tr>\n",
       "    <tr>\n",
       "      <th>5</th>\n",
       "      <td>['bravo', 'selatalks', '']</td>\n",
       "      <td>positive</td>\n",
       "    </tr>\n",
       "    <tr>\n",
       "      <th>6</th>\n",
       "      <td>['wowww', 'mantappp', 'times', 'warbiasahhh', ...</td>\n",
       "      <td>positive</td>\n",
       "    </tr>\n",
       "    <tr>\n",
       "      <th>7</th>\n",
       "      <td>['spirit', 'teruuuus', 'moga', 'telkom', 'jaya']</td>\n",
       "      <td>positive</td>\n",
       "    </tr>\n",
       "    <tr>\n",
       "      <th>8</th>\n",
       "      <td>['success', 'trs', 'hendra', 'suryana', \"]</td>\n",
       "      <td>positive</td>\n",
       "    </tr>\n",
       "    <tr>\n",
       "      <th>9</th>\n",
       "      <td>['healthy', 'hendra']</td>\n",
       "      <td>positive</td>\n",
       "    </tr>\n",
       "    <tr>\n",
       "      <th>10</th>\n",
       "      <td>['success', 'hendra', 'witel', 'south', '']</td>\n",
       "      <td>positive</td>\n",
       "    </tr>\n",
       "    <tr>\n",
       "      <th>11</th>\n",
       "      <td>['jaya', 'hendra']</td>\n",
       "      <td>positive</td>\n",
       "    </tr>\n",
       "    <tr>\n",
       "      <th>12</th>\n",
       "      <td>['good', 'lucky', 'bang', 'hendra', 'mpok', 'a...</td>\n",
       "      <td>positive</td>\n",
       "    </tr>\n",
       "    <tr>\n",
       "      <th>13</th>\n",
       "      <td>['', '']</td>\n",
       "      <td>positive</td>\n",
       "    </tr>\n",
       "  </tbody>\n",
       "</table>\n",
       "</div>"
      ],
      "text/plain": [
       "                                      comment_english     label\n",
       "0   ['maasyaallah', 'success', 'program', 'new', '...  positive\n",
       "1                                          ['steady']  positive\n",
       "2                   ['sukses', 'trus', 'hendraaa', \"]  positive\n",
       "3    ['success', 'channel', 'moga', 'telkom', 'jaya']  positive\n",
       "4   ['cool', 'duet', 'mas', 'bro', 'hendra', 'aisy...  positive\n",
       "5                          ['bravo', 'selatalks', '']  positive\n",
       "6   ['wowww', 'mantappp', 'times', 'warbiasahhh', ...  positive\n",
       "7    ['spirit', 'teruuuus', 'moga', 'telkom', 'jaya']  positive\n",
       "8          ['success', 'trs', 'hendra', 'suryana', \"]  positive\n",
       "9                               ['healthy', 'hendra']  positive\n",
       "10        ['success', 'hendra', 'witel', 'south', '']  positive\n",
       "11                                 ['jaya', 'hendra']  positive\n",
       "12  ['good', 'lucky', 'bang', 'hendra', 'mpok', 'a...  positive\n",
       "13                                           ['', '']  positive"
      ]
     },
     "execution_count": 7,
     "metadata": {},
     "output_type": "execute_result"
    }
   ],
   "source": [
    "label = []\n",
    "for index, row in df.iterrows():\n",
    "    if row['label_awal'] < 0.0:\n",
    "        label.append(\"negative\")\n",
    "    else:\n",
    "        label.append(\"positive\")\n",
    "df[\"label\"] = label\n",
    "df = df.drop(columns=['label_awal'])\n",
    "df.head(2000)"
   ]
  },
  {
   "cell_type": "code",
   "execution_count": 8,
   "id": "d0f68ee3-28ef-4372-81c9-dc0b304dfbc2",
   "metadata": {},
   "outputs": [
    {
     "data": {
      "text/plain": [
       "positive    14\n",
       "Name: label, dtype: int64"
      ]
     },
     "execution_count": 8,
     "metadata": {},
     "output_type": "execute_result"
    }
   ],
   "source": [
    "df['label'].value_counts()"
   ]
  },
  {
   "cell_type": "code",
   "execution_count": 9,
   "id": "3da6542d-ab10-4b09-9e70-20d68550892e",
   "metadata": {},
   "outputs": [],
   "source": [
    "df.to_excel('labeling_databersih_youtube_indihome_6.xlsx')"
   ]
  },
  {
   "cell_type": "code",
   "execution_count": null,
   "id": "09f97d13-b6de-45e3-a5b3-366226611a22",
   "metadata": {},
   "outputs": [],
   "source": []
  }
 ],
 "metadata": {
  "kernelspec": {
   "display_name": "Python 3 (ipykernel)",
   "language": "python",
   "name": "python3"
  },
  "language_info": {
   "codemirror_mode": {
    "name": "ipython",
    "version": 3
   },
   "file_extension": ".py",
   "mimetype": "text/x-python",
   "name": "python",
   "nbconvert_exporter": "python",
   "pygments_lexer": "ipython3",
   "version": "3.8.12"
  }
 },
 "nbformat": 4,
 "nbformat_minor": 5
}
