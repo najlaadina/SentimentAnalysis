{
 "cells": [
  {
   "cell_type": "code",
   "execution_count": 1,
   "id": "41ea06c5-cc84-4513-b249-97afd86220ee",
   "metadata": {},
   "outputs": [],
   "source": [
    "import pandas as pd\n",
    "from textblob import TextBlob"
   ]
  },
  {
   "cell_type": "code",
   "execution_count": 2,
   "id": "395b5c76-8496-43ae-81a1-58d6aa2d3d2b",
   "metadata": {
    "collapsed": true,
    "jupyter": {
     "outputs_hidden": true
    },
    "tags": []
   },
   "outputs": [
    {
     "name": "stdout",
     "output_type": "stream",
     "text": [
      "Index:  0 label_awal 0.7\n",
      "Index:  1 label_awal 0.35\n",
      "Index:  2 label_awal 0.35\n",
      "Index:  3 label_awal 0.0\n",
      "Index:  4 label_awal -0.8\n",
      "Index:  5 label_awal 0.44999999999999996\n",
      "Index:  6 label_awal 0.16666666666666666\n",
      "Index:  7 label_awal 0.35\n",
      "Index:  8 label_awal 0.2\n",
      "Index:  9 label_awal 0.7\n",
      "Index:  10 label_awal 0.35\n",
      "Index:  11 label_awal 0.2\n",
      "Index:  12 label_awal 0.2\n",
      "Index:  13 label_awal 0.7\n",
      "Index:  14 label_awal 0.5\n",
      "Index:  15 label_awal 0.05\n",
      "Index:  16 label_awal 0.0\n",
      "Index:  17 label_awal 0.16666666666666666\n",
      "Index:  18 label_awal 0.0\n",
      "Index:  19 label_awal 0.16666666666666666\n",
      "Index:  20 label_awal 0.35\n",
      "Index:  21 label_awal 0.35\n",
      "Index:  22 label_awal 0.0\n",
      "Index:  23 label_awal 0.0\n",
      "Index:  24 label_awal 0.35\n",
      "Index:  25 label_awal -0.2\n",
      "Index:  26 label_awal 0.15000000000000002\n",
      "Index:  27 label_awal 0.0\n",
      "Index:  28 label_awal 0.06666666666666665\n",
      "Index:  29 label_awal -0.15000000000000002\n",
      "Index:  30 label_awal 0.09999999999999998\n",
      "Index:  31 label_awal 0.0\n",
      "Index:  32 label_awal 0.22499999999999998\n",
      "Index:  33 label_awal 0.1\n",
      "Index:  34 label_awal -0.5\n",
      "Index:  35 label_awal 0.0\n",
      "Index:  36 label_awal 0.0\n",
      "Index:  37 label_awal 0.2\n",
      "Index:  38 label_awal -0.05\n",
      "Index:  39 label_awal 0.0\n",
      "Index:  40 label_awal 0.0\n",
      "Index:  41 label_awal 0.0\n",
      "Index:  42 label_awal -0.3\n",
      "Index:  43 label_awal 0.0\n",
      "Index:  44 label_awal 0.0\n",
      "Index:  45 label_awal 0.0\n",
      "Index:  46 label_awal -0.06666666666666667\n",
      "Index:  47 label_awal 0.15555555555555553\n",
      "Index:  48 label_awal 0.13999999999999999\n",
      "Index:  49 label_awal 0.0\n",
      "Index:  50 label_awal 0.0\n",
      "Index:  51 label_awal -0.30000000000000004\n",
      "Index:  52 label_awal 0.0\n",
      "Index:  53 label_awal -0.04999999999999999\n",
      "Index:  54 label_awal 0.0\n",
      "Index:  55 label_awal 0.0\n",
      "Index:  56 label_awal -0.2\n",
      "Index:  57 label_awal 0.0\n",
      "Index:  58 label_awal 0.0\n",
      "Index:  59 label_awal -0.1\n",
      "Index:  60 label_awal 0.5375\n",
      "Index:  61 label_awal -0.15555555555555559\n",
      "Index:  62 label_awal 0.0\n",
      "Index:  63 label_awal 0.0\n",
      "Index:  64 label_awal 0.0\n",
      "Index:  65 label_awal 0.0\n",
      "Index:  66 label_awal 0.0\n",
      "Index:  67 label_awal -0.1\n",
      "Index:  68 label_awal 0.5\n",
      "Index:  69 label_awal -0.1\n",
      "Index:  70 label_awal -0.4\n",
      "Index:  71 label_awal 0.0\n",
      "Index:  72 label_awal 0.0\n",
      "Index:  73 label_awal 0.0\n",
      "Index:  74 label_awal 0.0\n",
      "Index:  75 label_awal -0.06666666666666667\n",
      "Index:  76 label_awal 0.0\n",
      "Index:  77 label_awal 0.0\n",
      "Index:  78 label_awal -0.5\n",
      "Index:  79 label_awal 0.0\n",
      "Index:  80 label_awal 0.1\n",
      "Index:  81 label_awal 0.0\n",
      "Index:  82 label_awal 0.0\n",
      "Index:  83 label_awal 0.0\n",
      "Index:  84 label_awal 0.2\n",
      "Index:  85 label_awal 0.0\n",
      "Index:  86 label_awal 0.0\n",
      "Index:  87 label_awal 0.0\n",
      "Index:  88 label_awal 0.0\n",
      "Index:  89 label_awal 0.0\n",
      "Index:  90 label_awal 0.0\n",
      "Index:  91 label_awal -0.31666666666666665\n",
      "Index:  92 label_awal 0.0\n",
      "Index:  93 label_awal 0.0\n",
      "Index:  94 label_awal 0.7\n",
      "Index:  95 label_awal -0.07500000000000001\n",
      "Index:  96 label_awal 0.0\n",
      "Index:  97 label_awal -0.25\n",
      "Index:  98 label_awal -0.2111111111111111\n"
     ]
    }
   ],
   "source": [
    "columns = [\"comment_english\"]\n",
    "df = pd.read_excel(r'C:\\Users\\Hp\\TUGAS AKHIR 2\\FACEBOOK_INDIHOME\\data bersih_translate facebook indihome\\databersih_english_facebook_indihome_1.xlsx', usecols=columns)\n",
    "df['label_awal'] = ''\n",
    "for i,x in df.comment_english.iteritems():\n",
    "    label_awal = TextBlob(x)\n",
    "    df['label_awal'][i] = label_awal.sentiment.polarity\n",
    "    print(\"Index: \", i ,  \"label_awal\" , label_awal.sentiment.polarity)"
   ]
  },
  {
   "cell_type": "code",
   "execution_count": 3,
   "id": "8b20b6b2-0224-4493-8c01-0b82b1e06e20",
   "metadata": {
    "collapsed": true,
    "jupyter": {
     "outputs_hidden": true
    },
    "tags": []
   },
   "outputs": [
    {
     "data": {
      "text/html": [
       "<div>\n",
       "<style scoped>\n",
       "    .dataframe tbody tr th:only-of-type {\n",
       "        vertical-align: middle;\n",
       "    }\n",
       "\n",
       "    .dataframe tbody tr th {\n",
       "        vertical-align: top;\n",
       "    }\n",
       "\n",
       "    .dataframe thead th {\n",
       "        text-align: right;\n",
       "    }\n",
       "</style>\n",
       "<table border=\"1\" class=\"dataframe\">\n",
       "  <thead>\n",
       "    <tr style=\"text-align: right;\">\n",
       "      <th></th>\n",
       "      <th>comment_english</th>\n",
       "      <th>label_awal</th>\n",
       "    </tr>\n",
       "  </thead>\n",
       "  <tbody>\n",
       "    <tr>\n",
       "      <th>0</th>\n",
       "      <td>['suggestion', 'good']</td>\n",
       "      <td>0.7</td>\n",
       "    </tr>\n",
       "    <tr>\n",
       "      <th>1</th>\n",
       "      <td>['suggestion', 'cool']</td>\n",
       "      <td>0.35</td>\n",
       "    </tr>\n",
       "    <tr>\n",
       "      <th>2</th>\n",
       "      <td>['suggestion', 'cool', '']</td>\n",
       "      <td>0.35</td>\n",
       "    </tr>\n",
       "    <tr>\n",
       "      <th>3</th>\n",
       "      <td>['hmmm', 'tips', 'mimin', '']</td>\n",
       "      <td>0.0</td>\n",
       "    </tr>\n",
       "    <tr>\n",
       "      <th>4</th>\n",
       "      <td>['ticket', 'responds',' indohome ',' base ',' ...</td>\n",
       "      <td>-0.8</td>\n",
       "    </tr>\n",
       "  </tbody>\n",
       "</table>\n",
       "</div>"
      ],
      "text/plain": [
       "                                     comment_english label_awal\n",
       "0                             ['suggestion', 'good']        0.7\n",
       "1                             ['suggestion', 'cool']       0.35\n",
       "2                         ['suggestion', 'cool', '']       0.35\n",
       "3                      ['hmmm', 'tips', 'mimin', '']        0.0\n",
       "4  ['ticket', 'responds',' indohome ',' base ',' ...       -0.8"
      ]
     },
     "execution_count": 3,
     "metadata": {},
     "output_type": "execute_result"
    }
   ],
   "source": [
    "df.head()"
   ]
  },
  {
   "cell_type": "code",
   "execution_count": 4,
   "id": "67bacf60-e50b-4129-b601-38dd6f91dd5a",
   "metadata": {
    "collapsed": true,
    "jupyter": {
     "outputs_hidden": true
    },
    "tags": []
   },
   "outputs": [
    {
     "data": {
      "text/plain": [
       " 0.000000    46\n",
       " 0.350000     7\n",
       " 0.200000     5\n",
       " 0.700000     4\n",
       "-0.100000     3\n",
       " 0.166667     3\n",
       "-0.200000     2\n",
       "-0.066667     2\n",
       " 0.100000     2\n",
       "-0.500000     2\n",
       " 0.500000     2\n",
       " 0.150000     1\n",
       "-0.300000     1\n",
       "-0.250000     1\n",
       "-0.075000     1\n",
       "-0.316667     1\n",
       "-0.400000     1\n",
       "-0.155556     1\n",
       " 0.537500     1\n",
       "-0.800000     1\n",
       "-0.050000     1\n",
       " 0.140000     1\n",
       " 0.066667     1\n",
       " 0.155556     1\n",
       " 0.450000     1\n",
       "-0.300000     1\n",
       "-0.050000     1\n",
       " 0.050000     1\n",
       " 0.225000     1\n",
       " 0.100000     1\n",
       "-0.150000     1\n",
       "-0.211111     1\n",
       "Name: label_awal, dtype: int64"
      ]
     },
     "execution_count": 4,
     "metadata": {},
     "output_type": "execute_result"
    }
   ],
   "source": [
    "df['label_awal'].value_counts()"
   ]
  },
  {
   "cell_type": "code",
   "execution_count": 5,
   "id": "2e7e7e69-886b-4656-a252-e45d7cf770cf",
   "metadata": {
    "collapsed": true,
    "jupyter": {
     "outputs_hidden": true
    },
    "tags": []
   },
   "outputs": [
    {
     "data": {
      "text/html": [
       "<div>\n",
       "<style scoped>\n",
       "    .dataframe tbody tr th:only-of-type {\n",
       "        vertical-align: middle;\n",
       "    }\n",
       "\n",
       "    .dataframe tbody tr th {\n",
       "        vertical-align: top;\n",
       "    }\n",
       "\n",
       "    .dataframe thead th {\n",
       "        text-align: right;\n",
       "    }\n",
       "</style>\n",
       "<table border=\"1\" class=\"dataframe\">\n",
       "  <thead>\n",
       "    <tr style=\"text-align: right;\">\n",
       "      <th></th>\n",
       "      <th>comment_english</th>\n",
       "      <th>label</th>\n",
       "    </tr>\n",
       "  </thead>\n",
       "  <tbody>\n",
       "    <tr>\n",
       "      <th>0</th>\n",
       "      <td>['suggestion', 'good']</td>\n",
       "      <td>positive</td>\n",
       "    </tr>\n",
       "    <tr>\n",
       "      <th>1</th>\n",
       "      <td>['suggestion', 'cool']</td>\n",
       "      <td>positive</td>\n",
       "    </tr>\n",
       "    <tr>\n",
       "      <th>2</th>\n",
       "      <td>['suggestion', 'cool', '']</td>\n",
       "      <td>positive</td>\n",
       "    </tr>\n",
       "    <tr>\n",
       "      <th>3</th>\n",
       "      <td>['hmmm', 'tips', 'mimin', '']</td>\n",
       "      <td>negative</td>\n",
       "    </tr>\n",
       "    <tr>\n",
       "      <th>4</th>\n",
       "      <td>['ticket', 'responds',' indohome ',' base ',' ...</td>\n",
       "      <td>negative</td>\n",
       "    </tr>\n",
       "    <tr>\n",
       "      <th>...</th>\n",
       "      <td>...</td>\n",
       "      <td>...</td>\n",
       "    </tr>\n",
       "    <tr>\n",
       "      <th>94</th>\n",
       "      <td>['internet', 'los', 'please', 'good']</td>\n",
       "      <td>positive</td>\n",
       "    </tr>\n",
       "    <tr>\n",
       "      <th>95</th>\n",
       "      <td>['indihome', 'shy', 'full', 'complain', 'break...</td>\n",
       "      <td>negative</td>\n",
       "    </tr>\n",
       "    <tr>\n",
       "      <th>96</th>\n",
       "      <td>['', '']</td>\n",
       "      <td>negative</td>\n",
       "    </tr>\n",
       "    <tr>\n",
       "      <th>97</th>\n",
       "      <td>['report', 'disturbing', 'net', 'wifi', 'indih...</td>\n",
       "      <td>negative</td>\n",
       "    </tr>\n",
       "    <tr>\n",
       "      <th>98</th>\n",
       "      <td>['report', 'disturbing', 'net', 'wifi', 'indih...</td>\n",
       "      <td>negative</td>\n",
       "    </tr>\n",
       "  </tbody>\n",
       "</table>\n",
       "<p>99 rows × 2 columns</p>\n",
       "</div>"
      ],
      "text/plain": [
       "                                      comment_english     label\n",
       "0                              ['suggestion', 'good']  positive\n",
       "1                              ['suggestion', 'cool']  positive\n",
       "2                          ['suggestion', 'cool', '']  positive\n",
       "3                       ['hmmm', 'tips', 'mimin', '']  negative\n",
       "4   ['ticket', 'responds',' indohome ',' base ',' ...  negative\n",
       "..                                                ...       ...\n",
       "94              ['internet', 'los', 'please', 'good']  positive\n",
       "95  ['indihome', 'shy', 'full', 'complain', 'break...  negative\n",
       "96                                           ['', '']  negative\n",
       "97  ['report', 'disturbing', 'net', 'wifi', 'indih...  negative\n",
       "98  ['report', 'disturbing', 'net', 'wifi', 'indih...  negative\n",
       "\n",
       "[99 rows x 2 columns]"
      ]
     },
     "execution_count": 5,
     "metadata": {},
     "output_type": "execute_result"
    }
   ],
   "source": [
    "label = []\n",
    "for index, row in df.iterrows():\n",
    "    if row['label_awal'] > 0.0:\n",
    "        label.append(\"positive\")\n",
    "    else:\n",
    "        label.append(\"negative\")\n",
    "df[\"label\"] = label\n",
    "df = df.drop(columns=['label_awal'])\n",
    "df.head(2000)"
   ]
  },
  {
   "cell_type": "code",
   "execution_count": 6,
   "id": "919cd2c1-b713-460d-adfe-d5353f218a20",
   "metadata": {},
   "outputs": [
    {
     "data": {
      "text/plain": [
       "negative    67\n",
       "positive    32\n",
       "Name: label, dtype: int64"
      ]
     },
     "execution_count": 6,
     "metadata": {},
     "output_type": "execute_result"
    }
   ],
   "source": [
    "df['label'].value_counts()"
   ]
  },
  {
   "cell_type": "code",
   "execution_count": 7,
   "id": "21b4916e-a48d-4b81-be75-0f580f022a3e",
   "metadata": {},
   "outputs": [],
   "source": [
    "df.to_excel('labeling_databersih_facebook_indihome_1.xlsx')"
   ]
  },
  {
   "cell_type": "code",
   "execution_count": null,
   "id": "db7a936f-8bb8-4394-9eb5-6716490ee7f7",
   "metadata": {},
   "outputs": [],
   "source": []
  }
 ],
 "metadata": {
  "kernelspec": {
   "display_name": "Python 3 (ipykernel)",
   "language": "python",
   "name": "python3"
  },
  "language_info": {
   "codemirror_mode": {
    "name": "ipython",
    "version": 3
   },
   "file_extension": ".py",
   "mimetype": "text/x-python",
   "name": "python",
   "nbconvert_exporter": "python",
   "pygments_lexer": "ipython3",
   "version": "3.8.12"
  }
 },
 "nbformat": 4,
 "nbformat_minor": 5
}
